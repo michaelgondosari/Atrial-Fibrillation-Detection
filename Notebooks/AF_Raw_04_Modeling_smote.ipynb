{
 "cells": [
  {
   "cell_type": "markdown",
   "metadata": {
    "application/vnd.databricks.v1+cell": {
     "cellMetadata": {},
     "inputWidgets": {},
     "nuid": "0b91c36b-37d0-4bf5-b0ff-c6953135b3dc",
     "showTitle": false,
     "title": ""
    }
   },
   "source": [
    "# Atrial Fibrillation Project - Modelling (Raw Data)"
   ]
  },
  {
   "cell_type": "markdown",
   "metadata": {
    "application/vnd.databricks.v1+cell": {
     "cellMetadata": {},
     "inputWidgets": {},
     "nuid": "2b6bbcff-40e5-4d45-8af7-962d2665e78a",
     "showTitle": false,
     "title": ""
    }
   },
   "source": [
    "Student Name: Michael (s2767708) & Pedro da Silva (s2799057)                         \n",
    "Reg No:  \n",
    "Group No: 123"
   ]
  },
  {
   "cell_type": "markdown",
   "metadata": {
    "application/vnd.databricks.v1+cell": {
     "cellMetadata": {},
     "inputWidgets": {},
     "nuid": "3cbfd5a3-12c1-41b6-b8b9-5c3d0472bd50",
     "showTitle": false,
     "title": ""
    }
   },
   "source": [
    "## Import Libraries"
   ]
  },
  {
   "cell_type": "code",
   "execution_count": 0,
   "metadata": {
    "application/vnd.databricks.v1+cell": {
     "cellMetadata": {
      "byteLimit": 2048000,
      "rowLimit": 10000
     },
     "inputWidgets": {},
     "nuid": "35eaadc4-3c1b-4cb2-8cfa-cc058a68b136",
     "showTitle": false,
     "title": ""
    }
   },
   "outputs": [
    {
     "output_type": "display_data",
     "data": {
      "application/vnd.databricks.v1+bamboolib_hint": "{\"pd.DataFrames\": [], \"version\": \"0.0.1\"}",
      "text/plain": ""
     },
     "metadata": {
      "application/vnd.databricks.v1+output": {
       "addedWidgets": {},
       "arguments": {},
       "data": {
        "application/vnd.databricks.v1+bamboolib_hint": "{\"pd.DataFrames\": [], \"version\": \"0.0.1\"}",
        "text/plain": ""
       },
       "datasetInfos": [],
       "executionCount": null,
       "metadata": {
        "kernelSessionId": "c0d9b776-d4da8b5e7a19b170fddadbf6"
       },
       "removedWidgets": [],
       "type": "mimeBundle"
      }
     },
     "output_type": "display_data"
    },
    {
     "output_type": "stream",
     "name": "stdout",
     "output_type": "stream",
     "text": [
      "Imported all libraries successfully.\n"
     ]
    }
   ],
   "source": [
    "## for data\n",
    "import pandas as pd\n",
    "pd.set_option('display.max_colwidth', None) \n",
    "pd.set_option('display.max_columns', None)\n",
    "pd.set_option('display.max_rows', None)\n",
    "import glob\n",
    "import logging\n",
    "import numpy as np\n",
    "import pickle\n",
    "import sweetviz as sv\n",
    "import warnings\n",
    "from tqdm import tqdm\n",
    "tqdm.pandas()\n",
    "\n",
    "\n",
    "## for plotting\n",
    "import matplotlib.pyplot as plt\n",
    "import seaborn as sns\n",
    "import plotly.express as px\n",
    "import plotly.graph_objs as go\n",
    "from plotly.subplots import make_subplots\n",
    "\n",
    "\n",
    "## for statistical tests\n",
    "from math import sqrt\n",
    "import scipy\n",
    "from scipy.fft import fft, fftfreq\n",
    "import statistics\n",
    "from statistics import mean\n",
    "import statsmodels.api as sm\n",
    "import statsmodels.formula.api as smf\n",
    "\n",
    "\n",
    "## for machine learning\n",
    "import hrvanalysis\n",
    "from hrvanalysis import get_csi_cvi_features, get_frequency_domain_features, get_geometrical_features, get_poincare_plot_features, get_sampen, get_time_domain_features\n",
    "\n",
    "from imblearn.under_sampling import RandomUnderSampler\n",
    "from imblearn.over_sampling import SMOTE\n",
    "\n",
    "from scikeras.wrappers import KerasRegressor, KerasClassifier\n",
    "\n",
    "from scipy.stats import kstest, shapiro\n",
    "\n",
    "from sklearn import datasets, decomposition, ensemble, feature_selection, linear_model, metrics, model_selection, preprocessing, svm, tree\n",
    "from sklearn.cluster import KMeans\n",
    "from sklearn.ensemble import RandomForestClassifier, RandomForestRegressor\n",
    "from sklearn.exceptions import DataConversionWarning\n",
    "from sklearn.feature_selection import chi2, RFE, SelectFromModel, SelectKBest\n",
    "from sklearn.linear_model import LassoCV, LinearRegression, LogisticRegression\n",
    "from sklearn.metrics import accuracy_score, classification_report, confusion_matrix, explained_variance_score, f1_score, mean_absolute_error, mean_squared_error, precision_score, r2_score, recall_score\n",
    "from sklearn.model_selection import cross_validate, cross_val_predict, cross_val_score, GridSearchCV, ShuffleSplit, train_test_split\n",
    "from sklearn.naive_bayes import GaussianNB\n",
    "from sklearn.neighbors import KNeighborsClassifier\n",
    "from sklearn.pipeline import make_pipeline\n",
    "from sklearn.preprocessing import LabelEncoder, MinMaxScaler, StandardScaler\n",
    "from sklearn.svm import LinearSVC, SVC, SVR\n",
    "from sklearn.tree import DecisionTreeClassifier\n",
    "\n",
    "from statsmodels.api import Logit\n",
    "from statsmodels.regression.linear_model import OLS\n",
    "from statsmodels.stats.diagnostic import acorr_ljungbox, het_white\n",
    "from statsmodels.tools.tools import add_constant\n",
    "\n",
    "import tensorflow as tf\n",
    "from tensorflow.keras.layers import Dense\n",
    "from tensorflow.keras.models import Sequential\n",
    "\n",
    "from tslearn.neighbors import KNeighborsTimeSeriesClassifier\n",
    "\n",
    "import xgboost as xgb\n",
    "from xgboost import XGBClassifier, XGBRegressor\n",
    "\n",
    "print('Imported all libraries successfully.')"
   ]
  },
  {
   "cell_type": "code",
   "execution_count": 0,
   "metadata": {
    "application/vnd.databricks.v1+cell": {
     "cellMetadata": {
      "byteLimit": 2048000,
      "rowLimit": 10000
     },
     "inputWidgets": {},
     "nuid": "999def81-3249-4d3d-9d33-e5a758617e22",
     "showTitle": false,
     "title": ""
    }
   },
   "outputs": [],
   "source": [
    "# Suppress the warnings\n",
    "warnings.filterwarnings(action='ignore', category=UserWarning)\n",
    "warnings.filterwarnings(action='ignore', category=DataConversionWarning)\n",
    "warnings.filterwarnings(action='ignore', category=FutureWarning)\n",
    "logging.getLogger('tensorflow').setLevel(logging.ERROR)\n",
    "logging.getLogger('absl').setLevel(logging.ERROR)\n",
    "logging.getLogger('sklearn').setLevel(logging.ERROR)"
   ]
  },
  {
   "cell_type": "code",
   "execution_count": 0,
   "metadata": {
    "application/vnd.databricks.v1+cell": {
     "cellMetadata": {
      "byteLimit": 2048000,
      "rowLimit": 10000
     },
     "inputWidgets": {},
     "nuid": "03d517e5-15d3-48bb-93fa-83fa37d47dcd",
     "showTitle": false,
     "title": ""
    }
   },
   "outputs": [
    {
     "output_type": "stream",
     "name": "stdout",
     "output_type": "stream",
     "text": [
      "/databricks/driver\n"
     ]
    }
   ],
   "source": [
    "import os\n",
    "current_path = os.getcwd()\n",
    "print(current_path)"
   ]
  },
  {
   "cell_type": "markdown",
   "metadata": {
    "application/vnd.databricks.v1+cell": {
     "cellMetadata": {},
     "inputWidgets": {},
     "nuid": "c81449c0-e944-45ad-a5fc-e94b8225b768",
     "showTitle": false,
     "title": ""
    }
   },
   "source": [
    "## Import Dataset"
   ]
  },
  {
   "cell_type": "code",
   "execution_count": 0,
   "metadata": {
    "application/vnd.databricks.v1+cell": {
     "cellMetadata": {
      "byteLimit": 2048000,
      "rowLimit": 10000
     },
     "inputWidgets": {},
     "nuid": "27f8fdfd-945b-4f95-8f2f-2192db9bbdbf",
     "showTitle": false,
     "title": ""
    }
   },
   "outputs": [
    {
     "output_type": "stream",
     "name": "stdout",
     "output_type": "stream",
     "text": [
      "(1049993, 11)\n"
     ]
    },
    {
     "output_type": "display_data",
     "data": {
      "text/html": [
       "<div>\n<style scoped>\n    .dataframe tbody tr th:only-of-type {\n        vertical-align: middle;\n    }\n\n    .dataframe tbody tr th {\n        vertical-align: top;\n    }\n\n    .dataframe thead th {\n        text-align: right;\n    }\n</style>\n<table border=\"1\" class=\"dataframe\">\n  <thead>\n    <tr style=\"text-align: right;\">\n      <th></th>\n      <th>std_hr</th>\n      <th>max_hr</th>\n      <th>median_nni</th>\n      <th>triangular_index</th>\n      <th>pnni_20</th>\n      <th>cvnni</th>\n      <th>range_nni</th>\n      <th>af</th>\n      <th>hf</th>\n      <th>lf_hf_ratio</th>\n      <th>vlf</th>\n    </tr>\n  </thead>\n  <tbody>\n    <tr>\n      <th>0</th>\n      <td>6.430783</td>\n      <td>112.149533</td>\n      <td>780.0</td>\n      <td>3.750000</td>\n      <td>3.448276</td>\n      <td>0.060063</td>\n      <td>265</td>\n      <td>0</td>\n      <td>24.396620</td>\n      <td>2.918488</td>\n      <td>34.959704</td>\n    </tr>\n    <tr>\n      <th>1</th>\n      <td>0.584538</td>\n      <td>77.419355</td>\n      <td>790.0</td>\n      <td>1.875000</td>\n      <td>0.000000</td>\n      <td>0.007797</td>\n      <td>25</td>\n      <td>0</td>\n      <td>11.057630</td>\n      <td>0.252836</td>\n      <td>2.853465</td>\n    </tr>\n    <tr>\n      <th>2</th>\n      <td>0.781545</td>\n      <td>77.419355</td>\n      <td>790.0</td>\n      <td>2.142857</td>\n      <td>0.000000</td>\n      <td>0.010512</td>\n      <td>35</td>\n      <td>0</td>\n      <td>19.919897</td>\n      <td>0.938439</td>\n      <td>11.392116</td>\n    </tr>\n    <tr>\n      <th>3</th>\n      <td>0.844818</td>\n      <td>77.419355</td>\n      <td>792.5</td>\n      <td>2.500000</td>\n      <td>0.000000</td>\n      <td>0.011329</td>\n      <td>35</td>\n      <td>0</td>\n      <td>29.719194</td>\n      <td>0.556774</td>\n      <td>10.752915</td>\n    </tr>\n    <tr>\n      <th>4</th>\n      <td>1.027328</td>\n      <td>77.922078</td>\n      <td>782.5</td>\n      <td>3.750000</td>\n      <td>0.000000</td>\n      <td>0.013715</td>\n      <td>35</td>\n      <td>0</td>\n      <td>9.453751</td>\n      <td>4.409898</td>\n      <td>11.581953</td>\n    </tr>\n    <tr>\n      <th>5</th>\n      <td>0.681879</td>\n      <td>78.431373</td>\n      <td>775.0</td>\n      <td>2.727273</td>\n      <td>0.000000</td>\n      <td>0.009041</td>\n      <td>30</td>\n      <td>0</td>\n      <td>8.631484</td>\n      <td>0.636497</td>\n      <td>6.303364</td>\n    </tr>\n    <tr>\n      <th>6</th>\n      <td>1.035273</td>\n      <td>78.431373</td>\n      <td>787.5</td>\n      <td>3.750000</td>\n      <td>0.000000</td>\n      <td>0.013798</td>\n      <td>40</td>\n      <td>0</td>\n      <td>19.423675</td>\n      <td>1.932566</td>\n      <td>31.672650</td>\n    </tr>\n    <tr>\n      <th>7</th>\n      <td>0.860270</td>\n      <td>77.922078</td>\n      <td>790.0</td>\n      <td>3.000000</td>\n      <td>0.000000</td>\n      <td>0.011494</td>\n      <td>35</td>\n      <td>0</td>\n      <td>5.257853</td>\n      <td>2.071387</td>\n      <td>3.789156</td>\n    </tr>\n    <tr>\n      <th>8</th>\n      <td>0.701275</td>\n      <td>77.922078</td>\n      <td>785.0</td>\n      <td>2.307692</td>\n      <td>0.000000</td>\n      <td>0.009343</td>\n      <td>30</td>\n      <td>0</td>\n      <td>28.606596</td>\n      <td>0.666281</td>\n      <td>2.423699</td>\n    </tr>\n    <tr>\n      <th>9</th>\n      <td>1.021052</td>\n      <td>79.470199</td>\n      <td>785.0</td>\n      <td>2.727273</td>\n      <td>0.000000</td>\n      <td>0.013469</td>\n      <td>45</td>\n      <td>0</td>\n      <td>15.022013</td>\n      <td>3.393326</td>\n      <td>9.267269</td>\n    </tr>\n  </tbody>\n</table>\n</div>"
      ]
     },
     "metadata": {
      "application/vnd.databricks.v1+output": {
       "addedWidgets": {},
       "arguments": {},
       "data": "<div>\n<style scoped>\n    .dataframe tbody tr th:only-of-type {\n        vertical-align: middle;\n    }\n\n    .dataframe tbody tr th {\n        vertical-align: top;\n    }\n\n    .dataframe thead th {\n        text-align: right;\n    }\n</style>\n<table border=\"1\" class=\"dataframe\">\n  <thead>\n    <tr style=\"text-align: right;\">\n      <th></th>\n      <th>std_hr</th>\n      <th>max_hr</th>\n      <th>median_nni</th>\n      <th>triangular_index</th>\n      <th>pnni_20</th>\n      <th>cvnni</th>\n      <th>range_nni</th>\n      <th>af</th>\n      <th>hf</th>\n      <th>lf_hf_ratio</th>\n      <th>vlf</th>\n    </tr>\n  </thead>\n  <tbody>\n    <tr>\n      <th>0</th>\n      <td>6.430783</td>\n      <td>112.149533</td>\n      <td>780.0</td>\n      <td>3.750000</td>\n      <td>3.448276</td>\n      <td>0.060063</td>\n      <td>265</td>\n      <td>0</td>\n      <td>24.396620</td>\n      <td>2.918488</td>\n      <td>34.959704</td>\n    </tr>\n    <tr>\n      <th>1</th>\n      <td>0.584538</td>\n      <td>77.419355</td>\n      <td>790.0</td>\n      <td>1.875000</td>\n      <td>0.000000</td>\n      <td>0.007797</td>\n      <td>25</td>\n      <td>0</td>\n      <td>11.057630</td>\n      <td>0.252836</td>\n      <td>2.853465</td>\n    </tr>\n    <tr>\n      <th>2</th>\n      <td>0.781545</td>\n      <td>77.419355</td>\n      <td>790.0</td>\n      <td>2.142857</td>\n      <td>0.000000</td>\n      <td>0.010512</td>\n      <td>35</td>\n      <td>0</td>\n      <td>19.919897</td>\n      <td>0.938439</td>\n      <td>11.392116</td>\n    </tr>\n    <tr>\n      <th>3</th>\n      <td>0.844818</td>\n      <td>77.419355</td>\n      <td>792.5</td>\n      <td>2.500000</td>\n      <td>0.000000</td>\n      <td>0.011329</td>\n      <td>35</td>\n      <td>0</td>\n      <td>29.719194</td>\n      <td>0.556774</td>\n      <td>10.752915</td>\n    </tr>\n    <tr>\n      <th>4</th>\n      <td>1.027328</td>\n      <td>77.922078</td>\n      <td>782.5</td>\n      <td>3.750000</td>\n      <td>0.000000</td>\n      <td>0.013715</td>\n      <td>35</td>\n      <td>0</td>\n      <td>9.453751</td>\n      <td>4.409898</td>\n      <td>11.581953</td>\n    </tr>\n    <tr>\n      <th>5</th>\n      <td>0.681879</td>\n      <td>78.431373</td>\n      <td>775.0</td>\n      <td>2.727273</td>\n      <td>0.000000</td>\n      <td>0.009041</td>\n      <td>30</td>\n      <td>0</td>\n      <td>8.631484</td>\n      <td>0.636497</td>\n      <td>6.303364</td>\n    </tr>\n    <tr>\n      <th>6</th>\n      <td>1.035273</td>\n      <td>78.431373</td>\n      <td>787.5</td>\n      <td>3.750000</td>\n      <td>0.000000</td>\n      <td>0.013798</td>\n      <td>40</td>\n      <td>0</td>\n      <td>19.423675</td>\n      <td>1.932566</td>\n      <td>31.672650</td>\n    </tr>\n    <tr>\n      <th>7</th>\n      <td>0.860270</td>\n      <td>77.922078</td>\n      <td>790.0</td>\n      <td>3.000000</td>\n      <td>0.000000</td>\n      <td>0.011494</td>\n      <td>35</td>\n      <td>0</td>\n      <td>5.257853</td>\n      <td>2.071387</td>\n      <td>3.789156</td>\n    </tr>\n    <tr>\n      <th>8</th>\n      <td>0.701275</td>\n      <td>77.922078</td>\n      <td>785.0</td>\n      <td>2.307692</td>\n      <td>0.000000</td>\n      <td>0.009343</td>\n      <td>30</td>\n      <td>0</td>\n      <td>28.606596</td>\n      <td>0.666281</td>\n      <td>2.423699</td>\n    </tr>\n    <tr>\n      <th>9</th>\n      <td>1.021052</td>\n      <td>79.470199</td>\n      <td>785.0</td>\n      <td>2.727273</td>\n      <td>0.000000</td>\n      <td>0.013469</td>\n      <td>45</td>\n      <td>0</td>\n      <td>15.022013</td>\n      <td>3.393326</td>\n      <td>9.267269</td>\n    </tr>\n  </tbody>\n</table>\n</div>",
       "datasetInfos": [],
       "metadata": {},
       "removedWidgets": [],
       "textData": null,
       "type": "htmlSandbox"
      }
     },
     "output_type": "display_data"
    }
   ],
   "source": [
    "# Read the dataset\n",
    "raw_df = pd.read_parquet(r'/dbfs/FileStore/tables/Michael/AF/af_df_featureImp_200.parquet')\n",
    "print(raw_df.shape)\n",
    "raw_df.head(10)"
   ]
  },
  {
   "cell_type": "markdown",
   "metadata": {
    "application/vnd.databricks.v1+cell": {
     "cellMetadata": {},
     "inputWidgets": {},
     "nuid": "096ff674-1588-439d-9888-c11e70914b93",
     "showTitle": false,
     "title": ""
    }
   },
   "source": [
    "## Modelling with the Pre-Processed Dataset (SMOTE)"
   ]
  },
  {
   "cell_type": "markdown",
   "metadata": {
    "application/vnd.databricks.v1+cell": {
     "cellMetadata": {},
     "inputWidgets": {},
     "nuid": "0af09e42-59d1-4892-a161-6157825c1b85",
     "showTitle": false,
     "title": ""
    }
   },
   "source": [
    "### Split the dataset into train and test"
   ]
  },
  {
   "cell_type": "code",
   "execution_count": 0,
   "metadata": {
    "application/vnd.databricks.v1+cell": {
     "cellMetadata": {
      "byteLimit": 2048000,
      "rowLimit": 10000
     },
     "inputWidgets": {},
     "nuid": "665972c1-0f37-472f-a0fb-0d133ed0cd6d",
     "showTitle": false,
     "title": ""
    }
   },
   "outputs": [],
   "source": [
    "y_cols = ['af']\n",
    "X_cols = [col for col in raw_df.columns if col not in y_cols]"
   ]
  },
  {
   "cell_type": "code",
   "execution_count": 0,
   "metadata": {
    "application/vnd.databricks.v1+cell": {
     "cellMetadata": {
      "byteLimit": 2048000,
      "rowLimit": 10000
     },
     "inputWidgets": {},
     "nuid": "7ca28967-aa60-4603-8bbf-68fa660172b3",
     "showTitle": false,
     "title": ""
    }
   },
   "outputs": [],
   "source": [
    "# Instantiate the SMOTE\n",
    "sm = SMOTE(random_state=123)\n",
    "\n",
    "# Fit and transform the data\n",
    "X_smote, y_smote = sm.fit_resample(raw_df[X_cols], raw_df[y_cols])"
   ]
  },
  {
   "cell_type": "code",
   "execution_count": 0,
   "metadata": {
    "application/vnd.databricks.v1+cell": {
     "cellMetadata": {
      "byteLimit": 2048000,
      "rowLimit": 10000
     },
     "inputWidgets": {},
     "nuid": "827de0fe-63e5-4a1b-b5b7-5616d629aca2",
     "showTitle": false,
     "title": ""
    }
   },
   "outputs": [
    {
     "output_type": "display_data",
     "data": {
      "text/html": [
       "<html>\n<head><meta charset=\"utf-8\" /></head>\n<body>\n    <div>            <script src=\"https://cdnjs.cloudflare.com/ajax/libs/mathjax/2.7.5/MathJax.js?config=TeX-AMS-MML_SVG\"></script><script type=\"text/javascript\">if (window.MathJax) {MathJax.Hub.Config({SVG: {font: \"STIX-Web\"}});}</script>                <script type=\"text/javascript\">window.PlotlyConfig = {MathJaxConfig: 'local'};</script>\n        <script src=\"https://cdn.plot.ly/plotly-2.9.0.min.js\"></script>                <div id=\"31aa53bf-1503-49f6-8db7-2847ee1bca07\" class=\"plotly-graph-div\" style=\"height:500px; width:300px;\"></div>            <script type=\"text/javascript\">                                    window.PLOTLYENV=window.PLOTLYENV || {};                                    if (document.getElementById(\"31aa53bf-1503-49f6-8db7-2847ee1bca07\")) {                    Plotly.newPlot(                        \"31aa53bf-1503-49f6-8db7-2847ee1bca07\",                        [{\"alignmentgroup\":\"True\",\"hovertemplate\":\"Control=%{marker.color}<br>Count=%{text}<extra></extra>\",\"legendgroup\":\"\",\"marker\":{\"color\":[0,1],\"pattern\":{\"shape\":\"\"}},\"name\":\"\",\"offsetgroup\":\"\",\"orientation\":\"v\",\"showlegend\":false,\"text\":[1016241.0,1016241.0],\"textposition\":\"outside\",\"x\":[0,1],\"xaxis\":\"x\",\"y\":[1016241,1016241],\"yaxis\":\"y\",\"type\":\"bar\",\"texttemplate\":\"%{text}\"}],                        {\"template\":{\"data\":{\"barpolar\":[{\"marker\":{\"line\":{\"color\":\"rgb(17,17,17)\",\"width\":0.5},\"pattern\":{\"fillmode\":\"overlay\",\"size\":10,\"solidity\":0.2}},\"type\":\"barpolar\"}],\"bar\":[{\"error_x\":{\"color\":\"#f2f5fa\"},\"error_y\":{\"color\":\"#f2f5fa\"},\"marker\":{\"line\":{\"color\":\"rgb(17,17,17)\",\"width\":0.5},\"pattern\":{\"fillmode\":\"overlay\",\"size\":10,\"solidity\":0.2}},\"type\":\"bar\"}],\"carpet\":[{\"aaxis\":{\"endlinecolor\":\"#A2B1C6\",\"gridcolor\":\"#506784\",\"linecolor\":\"#506784\",\"minorgridcolor\":\"#506784\",\"startlinecolor\":\"#A2B1C6\"},\"baxis\":{\"endlinecolor\":\"#A2B1C6\",\"gridcolor\":\"#506784\",\"linecolor\":\"#506784\",\"minorgridcolor\":\"#506784\",\"startlinecolor\":\"#A2B1C6\"},\"type\":\"carpet\"}],\"choropleth\":[{\"colorbar\":{\"outlinewidth\":0,\"ticks\":\"\"},\"type\":\"choropleth\"}],\"contourcarpet\":[{\"colorbar\":{\"outlinewidth\":0,\"ticks\":\"\"},\"type\":\"contourcarpet\"}],\"contour\":[{\"colorbar\":{\"outlinewidth\":0,\"ticks\":\"\"},\"colorscale\":[[0.0,\"#0d0887\"],[0.1111111111111111,\"#46039f\"],[0.2222222222222222,\"#7201a8\"],[0.3333333333333333,\"#9c179e\"],[0.4444444444444444,\"#bd3786\"],[0.5555555555555556,\"#d8576b\"],[0.6666666666666666,\"#ed7953\"],[0.7777777777777778,\"#fb9f3a\"],[0.8888888888888888,\"#fdca26\"],[1.0,\"#f0f921\"]],\"type\":\"contour\"}],\"heatmapgl\":[{\"colorbar\":{\"outlinewidth\":0,\"ticks\":\"\"},\"colorscale\":[[0.0,\"#0d0887\"],[0.1111111111111111,\"#46039f\"],[0.2222222222222222,\"#7201a8\"],[0.3333333333333333,\"#9c179e\"],[0.4444444444444444,\"#bd3786\"],[0.5555555555555556,\"#d8576b\"],[0.6666666666666666,\"#ed7953\"],[0.7777777777777778,\"#fb9f3a\"],[0.8888888888888888,\"#fdca26\"],[1.0,\"#f0f921\"]],\"type\":\"heatmapgl\"}],\"heatmap\":[{\"colorbar\":{\"outlinewidth\":0,\"ticks\":\"\"},\"colorscale\":[[0.0,\"#0d0887\"],[0.1111111111111111,\"#46039f\"],[0.2222222222222222,\"#7201a8\"],[0.3333333333333333,\"#9c179e\"],[0.4444444444444444,\"#bd3786\"],[0.5555555555555556,\"#d8576b\"],[0.6666666666666666,\"#ed7953\"],[0.7777777777777778,\"#fb9f3a\"],[0.8888888888888888,\"#fdca26\"],[1.0,\"#f0f921\"]],\"type\":\"heatmap\"}],\"histogram2dcontour\":[{\"colorbar\":{\"outlinewidth\":0,\"ticks\":\"\"},\"colorscale\":[[0.0,\"#0d0887\"],[0.1111111111111111,\"#46039f\"],[0.2222222222222222,\"#7201a8\"],[0.3333333333333333,\"#9c179e\"],[0.4444444444444444,\"#bd3786\"],[0.5555555555555556,\"#d8576b\"],[0.6666666666666666,\"#ed7953\"],[0.7777777777777778,\"#fb9f3a\"],[0.8888888888888888,\"#fdca26\"],[1.0,\"#f0f921\"]],\"type\":\"histogram2dcontour\"}],\"histogram2d\":[{\"colorbar\":{\"outlinewidth\":0,\"ticks\":\"\"},\"colorscale\":[[0.0,\"#0d0887\"],[0.1111111111111111,\"#46039f\"],[0.2222222222222222,\"#7201a8\"],[0.3333333333333333,\"#9c179e\"],[0.4444444444444444,\"#bd3786\"],[0.5555555555555556,\"#d8576b\"],[0.6666666666666666,\"#ed7953\"],[0.7777777777777778,\"#fb9f3a\"],[0.8888888888888888,\"#fdca26\"],[1.0,\"#f0f921\"]],\"type\":\"histogram2d\"}],\"histogram\":[{\"marker\":{\"pattern\":{\"fillmode\":\"overlay\",\"size\":10,\"solidity\":0.2}},\"type\":\"histogram\"}],\"mesh3d\":[{\"colorbar\":{\"outlinewidth\":0,\"ticks\":\"\"},\"type\":\"mesh3d\"}],\"parcoords\":[{\"line\":{\"colorbar\":{\"outlinewidth\":0,\"ticks\":\"\"}},\"type\":\"parcoords\"}],\"pie\":[{\"automargin\":true,\"type\":\"pie\"}],\"scatter3d\":[{\"line\":{\"colorbar\":{\"outlinewidth\":0,\"ticks\":\"\"}},\"marker\":{\"colorbar\":{\"outlinewidth\":0,\"ticks\":\"\"}},\"type\":\"scatter3d\"}],\"scattercarpet\":[{\"marker\":{\"colorbar\":{\"outlinewidth\":0,\"ticks\":\"\"}},\"type\":\"scattercarpet\"}],\"scattergeo\":[{\"marker\":{\"colorbar\":{\"outlinewidth\":0,\"ticks\":\"\"}},\"type\":\"scattergeo\"}],\"scattergl\":[{\"marker\":{\"line\":{\"color\":\"#283442\"}},\"type\":\"scattergl\"}],\"scattermapbox\":[{\"marker\":{\"colorbar\":{\"outlinewidth\":0,\"ticks\":\"\"}},\"type\":\"scattermapbox\"}],\"scatterpolargl\":[{\"marker\":{\"colorbar\":{\"outlinewidth\":0,\"ticks\":\"\"}},\"type\":\"scatterpolargl\"}],\"scatterpolar\":[{\"marker\":{\"colorbar\":{\"outlinewidth\":0,\"ticks\":\"\"}},\"type\":\"scatterpolar\"}],\"scatter\":[{\"marker\":{\"line\":{\"color\":\"#283442\"}},\"type\":\"scatter\"}],\"scatterternary\":[{\"marker\":{\"colorbar\":{\"outlinewidth\":0,\"ticks\":\"\"}},\"type\":\"scatterternary\"}],\"surface\":[{\"colorbar\":{\"outlinewidth\":0,\"ticks\":\"\"},\"colorscale\":[[0.0,\"#0d0887\"],[0.1111111111111111,\"#46039f\"],[0.2222222222222222,\"#7201a8\"],[0.3333333333333333,\"#9c179e\"],[0.4444444444444444,\"#bd3786\"],[0.5555555555555556,\"#d8576b\"],[0.6666666666666666,\"#ed7953\"],[0.7777777777777778,\"#fb9f3a\"],[0.8888888888888888,\"#fdca26\"],[1.0,\"#f0f921\"]],\"type\":\"surface\"}],\"table\":[{\"cells\":{\"fill\":{\"color\":\"#506784\"},\"line\":{\"color\":\"rgb(17,17,17)\"}},\"header\":{\"fill\":{\"color\":\"#2a3f5f\"},\"line\":{\"color\":\"rgb(17,17,17)\"}},\"type\":\"table\"}]},\"layout\":{\"annotationdefaults\":{\"arrowcolor\":\"#f2f5fa\",\"arrowhead\":0,\"arrowwidth\":1},\"autotypenumbers\":\"strict\",\"coloraxis\":{\"colorbar\":{\"outlinewidth\":0,\"ticks\":\"\"}},\"colorscale\":{\"diverging\":[[0,\"#8e0152\"],[0.1,\"#c51b7d\"],[0.2,\"#de77ae\"],[0.3,\"#f1b6da\"],[0.4,\"#fde0ef\"],[0.5,\"#f7f7f7\"],[0.6,\"#e6f5d0\"],[0.7,\"#b8e186\"],[0.8,\"#7fbc41\"],[0.9,\"#4d9221\"],[1,\"#276419\"]],\"sequential\":[[0.0,\"#0d0887\"],[0.1111111111111111,\"#46039f\"],[0.2222222222222222,\"#7201a8\"],[0.3333333333333333,\"#9c179e\"],[0.4444444444444444,\"#bd3786\"],[0.5555555555555556,\"#d8576b\"],[0.6666666666666666,\"#ed7953\"],[0.7777777777777778,\"#fb9f3a\"],[0.8888888888888888,\"#fdca26\"],[1.0,\"#f0f921\"]],\"sequentialminus\":[[0.0,\"#0d0887\"],[0.1111111111111111,\"#46039f\"],[0.2222222222222222,\"#7201a8\"],[0.3333333333333333,\"#9c179e\"],[0.4444444444444444,\"#bd3786\"],[0.5555555555555556,\"#d8576b\"],[0.6666666666666666,\"#ed7953\"],[0.7777777777777778,\"#fb9f3a\"],[0.8888888888888888,\"#fdca26\"],[1.0,\"#f0f921\"]]},\"colorway\":[\"#636efa\",\"#EF553B\",\"#00cc96\",\"#ab63fa\",\"#FFA15A\",\"#19d3f3\",\"#FF6692\",\"#B6E880\",\"#FF97FF\",\"#FECB52\"],\"font\":{\"color\":\"#f2f5fa\"},\"geo\":{\"bgcolor\":\"rgb(17,17,17)\",\"lakecolor\":\"rgb(17,17,17)\",\"landcolor\":\"rgb(17,17,17)\",\"showlakes\":true,\"showland\":true,\"subunitcolor\":\"#506784\"},\"hoverlabel\":{\"align\":\"left\"},\"hovermode\":\"closest\",\"mapbox\":{\"style\":\"dark\"},\"paper_bgcolor\":\"rgb(17,17,17)\",\"plot_bgcolor\":\"rgb(17,17,17)\",\"polar\":{\"angularaxis\":{\"gridcolor\":\"#506784\",\"linecolor\":\"#506784\",\"ticks\":\"\"},\"bgcolor\":\"rgb(17,17,17)\",\"radialaxis\":{\"gridcolor\":\"#506784\",\"linecolor\":\"#506784\",\"ticks\":\"\"}},\"scene\":{\"xaxis\":{\"backgroundcolor\":\"rgb(17,17,17)\",\"gridcolor\":\"#506784\",\"gridwidth\":2,\"linecolor\":\"#506784\",\"showbackground\":true,\"ticks\":\"\",\"zerolinecolor\":\"#C8D4E3\"},\"yaxis\":{\"backgroundcolor\":\"rgb(17,17,17)\",\"gridcolor\":\"#506784\",\"gridwidth\":2,\"linecolor\":\"#506784\",\"showbackground\":true,\"ticks\":\"\",\"zerolinecolor\":\"#C8D4E3\"},\"zaxis\":{\"backgroundcolor\":\"rgb(17,17,17)\",\"gridcolor\":\"#506784\",\"gridwidth\":2,\"linecolor\":\"#506784\",\"showbackground\":true,\"ticks\":\"\",\"zerolinecolor\":\"#C8D4E3\"}},\"shapedefaults\":{\"line\":{\"color\":\"#f2f5fa\"}},\"sliderdefaults\":{\"bgcolor\":\"#C8D4E3\",\"bordercolor\":\"rgb(17,17,17)\",\"borderwidth\":1,\"tickwidth\":0},\"ternary\":{\"aaxis\":{\"gridcolor\":\"#506784\",\"linecolor\":\"#506784\",\"ticks\":\"\"},\"baxis\":{\"gridcolor\":\"#506784\",\"linecolor\":\"#506784\",\"ticks\":\"\"},\"bgcolor\":\"rgb(17,17,17)\",\"caxis\":{\"gridcolor\":\"#506784\",\"linecolor\":\"#506784\",\"ticks\":\"\"}},\"title\":{\"x\":0.05},\"updatemenudefaults\":{\"bgcolor\":\"#506784\",\"borderwidth\":0},\"xaxis\":{\"automargin\":true,\"gridcolor\":\"#283442\",\"linecolor\":\"#506784\",\"ticks\":\"\",\"title\":{\"standoff\":15},\"zerolinecolor\":\"#283442\",\"zerolinewidth\":2},\"yaxis\":{\"automargin\":true,\"gridcolor\":\"#283442\",\"linecolor\":\"#506784\",\"ticks\":\"\",\"title\":{\"standoff\":15},\"zerolinecolor\":\"#283442\",\"zerolinewidth\":2}}},\"xaxis\":{\"anchor\":\"y\",\"domain\":[0.0,1.0],\"title\":{\"text\":\"Cases (0=Not AF, 1=AF)\"},\"type\":\"category\"},\"yaxis\":{\"anchor\":\"x\",\"domain\":[0.0,1.0],\"title\":{\"text\":\"Count\"}},\"coloraxis\":{\"colorbar\":{\"title\":{\"text\":\"Control\"}},\"colorscale\":[[0.0,\"#0d0887\"],[0.1111111111111111,\"#46039f\"],[0.2222222222222222,\"#7201a8\"],[0.3333333333333333,\"#9c179e\"],[0.4444444444444444,\"#bd3786\"],[0.5555555555555556,\"#d8576b\"],[0.6666666666666666,\"#ed7953\"],[0.7777777777777778,\"#fb9f3a\"],[0.8888888888888888,\"#fdca26\"],[1.0,\"#f0f921\"]]},\"legend\":{\"tracegroupgap\":0},\"margin\":{\"t\":60},\"barmode\":\"relative\",\"title\":{\"text\":\"Atrial Fibrillation Case Counts\"},\"showlegend\":false,\"width\":300,\"height\":500},                        {\"responsive\": true}                    )                };                            </script>        </div>\n</body>\n</html>"
      ]
     },
     "metadata": {
      "application/vnd.databricks.v1+output": {
       "addedWidgets": {},
       "arguments": {},
       "data": "<html>\n<head><meta charset=\"utf-8\" /></head>\n<body>\n    <div>            <script src=\"https://cdnjs.cloudflare.com/ajax/libs/mathjax/2.7.5/MathJax.js?config=TeX-AMS-MML_SVG\"></script><script type=\"text/javascript\">if (window.MathJax) {MathJax.Hub.Config({SVG: {font: \"STIX-Web\"}});}</script>                <script type=\"text/javascript\">window.PlotlyConfig = {MathJaxConfig: 'local'};</script>\n        <script src=\"https://cdn.plot.ly/plotly-2.9.0.min.js\"></script>                <div id=\"31aa53bf-1503-49f6-8db7-2847ee1bca07\" class=\"plotly-graph-div\" style=\"height:500px; width:300px;\"></div>            <script type=\"text/javascript\">                                    window.PLOTLYENV=window.PLOTLYENV || {};                                    if (document.getElementById(\"31aa53bf-1503-49f6-8db7-2847ee1bca07\")) {                    Plotly.newPlot(                        \"31aa53bf-1503-49f6-8db7-2847ee1bca07\",                        [{\"alignmentgroup\":\"True\",\"hovertemplate\":\"Control=%{marker.color}<br>Count=%{text}<extra></extra>\",\"legendgroup\":\"\",\"marker\":{\"color\":[0,1],\"pattern\":{\"shape\":\"\"}},\"name\":\"\",\"offsetgroup\":\"\",\"orientation\":\"v\",\"showlegend\":false,\"text\":[1016241.0,1016241.0],\"textposition\":\"outside\",\"x\":[0,1],\"xaxis\":\"x\",\"y\":[1016241,1016241],\"yaxis\":\"y\",\"type\":\"bar\",\"texttemplate\":\"%{text}\"}],                        {\"template\":{\"data\":{\"barpolar\":[{\"marker\":{\"line\":{\"color\":\"rgb(17,17,17)\",\"width\":0.5},\"pattern\":{\"fillmode\":\"overlay\",\"size\":10,\"solidity\":0.2}},\"type\":\"barpolar\"}],\"bar\":[{\"error_x\":{\"color\":\"#f2f5fa\"},\"error_y\":{\"color\":\"#f2f5fa\"},\"marker\":{\"line\":{\"color\":\"rgb(17,17,17)\",\"width\":0.5},\"pattern\":{\"fillmode\":\"overlay\",\"size\":10,\"solidity\":0.2}},\"type\":\"bar\"}],\"carpet\":[{\"aaxis\":{\"endlinecolor\":\"#A2B1C6\",\"gridcolor\":\"#506784\",\"linecolor\":\"#506784\",\"minorgridcolor\":\"#506784\",\"startlinecolor\":\"#A2B1C6\"},\"baxis\":{\"endlinecolor\":\"#A2B1C6\",\"gridcolor\":\"#506784\",\"linecolor\":\"#506784\",\"minorgridcolor\":\"#506784\",\"startlinecolor\":\"#A2B1C6\"},\"type\":\"carpet\"}],\"choropleth\":[{\"colorbar\":{\"outlinewidth\":0,\"ticks\":\"\"},\"type\":\"choropleth\"}],\"contourcarpet\":[{\"colorbar\":{\"outlinewidth\":0,\"ticks\":\"\"},\"type\":\"contourcarpet\"}],\"contour\":[{\"colorbar\":{\"outlinewidth\":0,\"ticks\":\"\"},\"colorscale\":[[0.0,\"#0d0887\"],[0.1111111111111111,\"#46039f\"],[0.2222222222222222,\"#7201a8\"],[0.3333333333333333,\"#9c179e\"],[0.4444444444444444,\"#bd3786\"],[0.5555555555555556,\"#d8576b\"],[0.6666666666666666,\"#ed7953\"],[0.7777777777777778,\"#fb9f3a\"],[0.8888888888888888,\"#fdca26\"],[1.0,\"#f0f921\"]],\"type\":\"contour\"}],\"heatmapgl\":[{\"colorbar\":{\"outlinewidth\":0,\"ticks\":\"\"},\"colorscale\":[[0.0,\"#0d0887\"],[0.1111111111111111,\"#46039f\"],[0.2222222222222222,\"#7201a8\"],[0.3333333333333333,\"#9c179e\"],[0.4444444444444444,\"#bd3786\"],[0.5555555555555556,\"#d8576b\"],[0.6666666666666666,\"#ed7953\"],[0.7777777777777778,\"#fb9f3a\"],[0.8888888888888888,\"#fdca26\"],[1.0,\"#f0f921\"]],\"type\":\"heatmapgl\"}],\"heatmap\":[{\"colorbar\":{\"outlinewidth\":0,\"ticks\":\"\"},\"colorscale\":[[0.0,\"#0d0887\"],[0.1111111111111111,\"#46039f\"],[0.2222222222222222,\"#7201a8\"],[0.3333333333333333,\"#9c179e\"],[0.4444444444444444,\"#bd3786\"],[0.5555555555555556,\"#d8576b\"],[0.6666666666666666,\"#ed7953\"],[0.7777777777777778,\"#fb9f3a\"],[0.8888888888888888,\"#fdca26\"],[1.0,\"#f0f921\"]],\"type\":\"heatmap\"}],\"histogram2dcontour\":[{\"colorbar\":{\"outlinewidth\":0,\"ticks\":\"\"},\"colorscale\":[[0.0,\"#0d0887\"],[0.1111111111111111,\"#46039f\"],[0.2222222222222222,\"#7201a8\"],[0.3333333333333333,\"#9c179e\"],[0.4444444444444444,\"#bd3786\"],[0.5555555555555556,\"#d8576b\"],[0.6666666666666666,\"#ed7953\"],[0.7777777777777778,\"#fb9f3a\"],[0.8888888888888888,\"#fdca26\"],[1.0,\"#f0f921\"]],\"type\":\"histogram2dcontour\"}],\"histogram2d\":[{\"colorbar\":{\"outlinewidth\":0,\"ticks\":\"\"},\"colorscale\":[[0.0,\"#0d0887\"],[0.1111111111111111,\"#46039f\"],[0.2222222222222222,\"#7201a8\"],[0.3333333333333333,\"#9c179e\"],[0.4444444444444444,\"#bd3786\"],[0.5555555555555556,\"#d8576b\"],[0.6666666666666666,\"#ed7953\"],[0.7777777777777778,\"#fb9f3a\"],[0.8888888888888888,\"#fdca26\"],[1.0,\"#f0f921\"]],\"type\":\"histogram2d\"}],\"histogram\":[{\"marker\":{\"pattern\":{\"fillmode\":\"overlay\",\"size\":10,\"solidity\":0.2}},\"type\":\"histogram\"}],\"mesh3d\":[{\"colorbar\":{\"outlinewidth\":0,\"ticks\":\"\"},\"type\":\"mesh3d\"}],\"parcoords\":[{\"line\":{\"colorbar\":{\"outlinewidth\":0,\"ticks\":\"\"}},\"type\":\"parcoords\"}],\"pie\":[{\"automargin\":true,\"type\":\"pie\"}],\"scatter3d\":[{\"line\":{\"colorbar\":{\"outlinewidth\":0,\"ticks\":\"\"}},\"marker\":{\"colorbar\":{\"outlinewidth\":0,\"ticks\":\"\"}},\"type\":\"scatter3d\"}],\"scattercarpet\":[{\"marker\":{\"colorbar\":{\"outlinewidth\":0,\"ticks\":\"\"}},\"type\":\"scattercarpet\"}],\"scattergeo\":[{\"marker\":{\"colorbar\":{\"outlinewidth\":0,\"ticks\":\"\"}},\"type\":\"scattergeo\"}],\"scattergl\":[{\"marker\":{\"line\":{\"color\":\"#283442\"}},\"type\":\"scattergl\"}],\"scattermapbox\":[{\"marker\":{\"colorbar\":{\"outlinewidth\":0,\"ticks\":\"\"}},\"type\":\"scattermapbox\"}],\"scatterpolargl\":[{\"marker\":{\"colorbar\":{\"outlinewidth\":0,\"ticks\":\"\"}},\"type\":\"scatterpolargl\"}],\"scatterpolar\":[{\"marker\":{\"colorbar\":{\"outlinewidth\":0,\"ticks\":\"\"}},\"type\":\"scatterpolar\"}],\"scatter\":[{\"marker\":{\"line\":{\"color\":\"#283442\"}},\"type\":\"scatter\"}],\"scatterternary\":[{\"marker\":{\"colorbar\":{\"outlinewidth\":0,\"ticks\":\"\"}},\"type\":\"scatterternary\"}],\"surface\":[{\"colorbar\":{\"outlinewidth\":0,\"ticks\":\"\"},\"colorscale\":[[0.0,\"#0d0887\"],[0.1111111111111111,\"#46039f\"],[0.2222222222222222,\"#7201a8\"],[0.3333333333333333,\"#9c179e\"],[0.4444444444444444,\"#bd3786\"],[0.5555555555555556,\"#d8576b\"],[0.6666666666666666,\"#ed7953\"],[0.7777777777777778,\"#fb9f3a\"],[0.8888888888888888,\"#fdca26\"],[1.0,\"#f0f921\"]],\"type\":\"surface\"}],\"table\":[{\"cells\":{\"fill\":{\"color\":\"#506784\"},\"line\":{\"color\":\"rgb(17,17,17)\"}},\"header\":{\"fill\":{\"color\":\"#2a3f5f\"},\"line\":{\"color\":\"rgb(17,17,17)\"}},\"type\":\"table\"}]},\"layout\":{\"annotationdefaults\":{\"arrowcolor\":\"#f2f5fa\",\"arrowhead\":0,\"arrowwidth\":1},\"autotypenumbers\":\"strict\",\"coloraxis\":{\"colorbar\":{\"outlinewidth\":0,\"ticks\":\"\"}},\"colorscale\":{\"diverging\":[[0,\"#8e0152\"],[0.1,\"#c51b7d\"],[0.2,\"#de77ae\"],[0.3,\"#f1b6da\"],[0.4,\"#fde0ef\"],[0.5,\"#f7f7f7\"],[0.6,\"#e6f5d0\"],[0.7,\"#b8e186\"],[0.8,\"#7fbc41\"],[0.9,\"#4d9221\"],[1,\"#276419\"]],\"sequential\":[[0.0,\"#0d0887\"],[0.1111111111111111,\"#46039f\"],[0.2222222222222222,\"#7201a8\"],[0.3333333333333333,\"#9c179e\"],[0.4444444444444444,\"#bd3786\"],[0.5555555555555556,\"#d8576b\"],[0.6666666666666666,\"#ed7953\"],[0.7777777777777778,\"#fb9f3a\"],[0.8888888888888888,\"#fdca26\"],[1.0,\"#f0f921\"]],\"sequentialminus\":[[0.0,\"#0d0887\"],[0.1111111111111111,\"#46039f\"],[0.2222222222222222,\"#7201a8\"],[0.3333333333333333,\"#9c179e\"],[0.4444444444444444,\"#bd3786\"],[0.5555555555555556,\"#d8576b\"],[0.6666666666666666,\"#ed7953\"],[0.7777777777777778,\"#fb9f3a\"],[0.8888888888888888,\"#fdca26\"],[1.0,\"#f0f921\"]]},\"colorway\":[\"#636efa\",\"#EF553B\",\"#00cc96\",\"#ab63fa\",\"#FFA15A\",\"#19d3f3\",\"#FF6692\",\"#B6E880\",\"#FF97FF\",\"#FECB52\"],\"font\":{\"color\":\"#f2f5fa\"},\"geo\":{\"bgcolor\":\"rgb(17,17,17)\",\"lakecolor\":\"rgb(17,17,17)\",\"landcolor\":\"rgb(17,17,17)\",\"showlakes\":true,\"showland\":true,\"subunitcolor\":\"#506784\"},\"hoverlabel\":{\"align\":\"left\"},\"hovermode\":\"closest\",\"mapbox\":{\"style\":\"dark\"},\"paper_bgcolor\":\"rgb(17,17,17)\",\"plot_bgcolor\":\"rgb(17,17,17)\",\"polar\":{\"angularaxis\":{\"gridcolor\":\"#506784\",\"linecolor\":\"#506784\",\"ticks\":\"\"},\"bgcolor\":\"rgb(17,17,17)\",\"radialaxis\":{\"gridcolor\":\"#506784\",\"linecolor\":\"#506784\",\"ticks\":\"\"}},\"scene\":{\"xaxis\":{\"backgroundcolor\":\"rgb(17,17,17)\",\"gridcolor\":\"#506784\",\"gridwidth\":2,\"linecolor\":\"#506784\",\"showbackground\":true,\"ticks\":\"\",\"zerolinecolor\":\"#C8D4E3\"},\"yaxis\":{\"backgroundcolor\":\"rgb(17,17,17)\",\"gridcolor\":\"#506784\",\"gridwidth\":2,\"linecolor\":\"#506784\",\"showbackground\":true,\"ticks\":\"\",\"zerolinecolor\":\"#C8D4E3\"},\"zaxis\":{\"backgroundcolor\":\"rgb(17,17,17)\",\"gridcolor\":\"#506784\",\"gridwidth\":2,\"linecolor\":\"#506784\",\"showbackground\":true,\"ticks\":\"\",\"zerolinecolor\":\"#C8D4E3\"}},\"shapedefaults\":{\"line\":{\"color\":\"#f2f5fa\"}},\"sliderdefaults\":{\"bgcolor\":\"#C8D4E3\",\"bordercolor\":\"rgb(17,17,17)\",\"borderwidth\":1,\"tickwidth\":0},\"ternary\":{\"aaxis\":{\"gridcolor\":\"#506784\",\"linecolor\":\"#506784\",\"ticks\":\"\"},\"baxis\":{\"gridcolor\":\"#506784\",\"linecolor\":\"#506784\",\"ticks\":\"\"},\"bgcolor\":\"rgb(17,17,17)\",\"caxis\":{\"gridcolor\":\"#506784\",\"linecolor\":\"#506784\",\"ticks\":\"\"}},\"title\":{\"x\":0.05},\"updatemenudefaults\":{\"bgcolor\":\"#506784\",\"borderwidth\":0},\"xaxis\":{\"automargin\":true,\"gridcolor\":\"#283442\",\"linecolor\":\"#506784\",\"ticks\":\"\",\"title\":{\"standoff\":15},\"zerolinecolor\":\"#283442\",\"zerolinewidth\":2},\"yaxis\":{\"automargin\":true,\"gridcolor\":\"#283442\",\"linecolor\":\"#506784\",\"ticks\":\"\",\"title\":{\"standoff\":15},\"zerolinecolor\":\"#283442\",\"zerolinewidth\":2}}},\"xaxis\":{\"anchor\":\"y\",\"domain\":[0.0,1.0],\"title\":{\"text\":\"Cases (0=Not AF, 1=AF)\"},\"type\":\"category\"},\"yaxis\":{\"anchor\":\"x\",\"domain\":[0.0,1.0],\"title\":{\"text\":\"Count\"}},\"coloraxis\":{\"colorbar\":{\"title\":{\"text\":\"Control\"}},\"colorscale\":[[0.0,\"#0d0887\"],[0.1111111111111111,\"#46039f\"],[0.2222222222222222,\"#7201a8\"],[0.3333333333333333,\"#9c179e\"],[0.4444444444444444,\"#bd3786\"],[0.5555555555555556,\"#d8576b\"],[0.6666666666666666,\"#ed7953\"],[0.7777777777777778,\"#fb9f3a\"],[0.8888888888888888,\"#fdca26\"],[1.0,\"#f0f921\"]]},\"legend\":{\"tracegroupgap\":0},\"margin\":{\"t\":60},\"barmode\":\"relative\",\"title\":{\"text\":\"Atrial Fibrillation Case Counts\"},\"showlegend\":false,\"width\":300,\"height\":500},                        {\"responsive\": true}                    )                };                            </script>        </div>\n</body>\n</html>",
       "datasetInfos": [],
       "metadata": {},
       "removedWidgets": [],
       "textData": null,
       "type": "htmlSandbox"
      }
     },
     "output_type": "display_data"
    }
   ],
   "source": [
    "smote_counts = pd.DataFrame({'Control': y_smote.values.flatten(), 'Count': np.ones(len(y_smote.values))}) \\\n",
    "                          .groupby('Control').count().reset_index()\n",
    "\n",
    "fig = px.bar(smote_counts, x='Control', y='Count', color='Control', \n",
    "             color_discrete_map={0:'#0000FF', 1:'#F89406'}, text='Count')\n",
    "\n",
    "fig.update_traces(texttemplate='%{text}', textposition='outside', marker_coloraxis=None)\n",
    "fig.update_layout(xaxis_title='Cases (0=Not AF, 1=AF)', yaxis_title='Count',\n",
    "                  title='Atrial Fibrillation Case Counts', showlegend=False,\n",
    "                  width=300, height=500, xaxis={'type': 'category'},\n",
    "                  template=\"plotly_dark\")\n",
    "fig.show()"
   ]
  },
  {
   "cell_type": "code",
   "execution_count": 0,
   "metadata": {
    "application/vnd.databricks.v1+cell": {
     "cellMetadata": {
      "byteLimit": 2048000,
      "rowLimit": 10000
     },
     "inputWidgets": {},
     "nuid": "3a1c2ae8-5daa-47c7-af5a-c5507c7bf486",
     "showTitle": false,
     "title": ""
    }
   },
   "outputs": [],
   "source": [
    "# split train test\n",
    "X_train, X_test, y_train, y_test = train_test_split(X_smote, y_smote, test_size = 0.2, random_state = 123)\n",
    "X_train = X_train.values\n",
    "X_test = X_test.values\n",
    "y_train = y_train.values.flatten()\n",
    "y_test = y_test.values.flatten()"
   ]
  },
  {
   "cell_type": "code",
   "execution_count": 0,
   "metadata": {
    "application/vnd.databricks.v1+cell": {
     "cellMetadata": {
      "byteLimit": 2048000,
      "rowLimit": 10000
     },
     "inputWidgets": {},
     "nuid": "1ea2f606-2847-4dea-babc-d1dc1f4b5fac",
     "showTitle": false,
     "title": ""
    }
   },
   "outputs": [],
   "source": [
    "sc = StandardScaler()\n",
    "X_train = sc.fit_transform(X_train)\n",
    "X_test = sc.transform(X_test)"
   ]
  },
  {
   "cell_type": "markdown",
   "metadata": {
    "application/vnd.databricks.v1+cell": {
     "cellMetadata": {},
     "inputWidgets": {},
     "nuid": "4de68ce1-fd52-4a8d-82c8-9d0a829694f8",
     "showTitle": false,
     "title": ""
    }
   },
   "source": [
    "### MODEL 1: Logistic Regression"
   ]
  },
  {
   "cell_type": "code",
   "execution_count": 0,
   "metadata": {
    "application/vnd.databricks.v1+cell": {
     "cellMetadata": {
      "byteLimit": 2048000,
      "rowLimit": 10000
     },
     "inputWidgets": {},
     "nuid": "e60f0211-a7cf-452b-9932-090d3170e98a",
     "showTitle": false,
     "title": ""
    }
   },
   "outputs": [
    {
     "output_type": "stream",
     "name": "stdout",
     "output_type": "stream",
     "text": [
      "Best Recall: 0.84\nBest Parameters: {'C': 2.0}\n"
     ]
    }
   ],
   "source": [
    "# GridSearch to determine the best parameters\n",
    "parameters = {\n",
    "  'C': [0.01, 0.1, 1.0, 2.0, 10.0]\n",
    "}\n",
    "\n",
    "# Create the Classifier\n",
    "model_logreg = LogisticRegression()\n",
    "\n",
    "# Create the GridSearch object\n",
    "grid_search = GridSearchCV(\n",
    "    estimator = model_logreg,\n",
    "    param_grid = parameters,\n",
    "    scoring = 'recall',\n",
    "    cv = 5\n",
    ")\n",
    "\n",
    "# Fit the GridSearch into the dataset\n",
    "grid_search = grid_search.fit(X_train, y_train)\n",
    "\n",
    "# Determine the best parameters and score\n",
    "best_score = grid_search.best_score_\n",
    "best_parameters = grid_search.best_params_\n",
    "print(\"Best Recall: {:.2f}\".format(best_score))\n",
    "print(\"Best Parameters:\", best_parameters)"
   ]
  },
  {
   "cell_type": "code",
   "execution_count": 0,
   "metadata": {
    "application/vnd.databricks.v1+cell": {
     "cellMetadata": {
      "byteLimit": 2048000,
      "rowLimit": 10000
     },
     "inputWidgets": {},
     "nuid": "f9238422-cb32-425c-bae7-7dd3889dd3be",
     "showTitle": false,
     "title": ""
    }
   },
   "outputs": [
    {
     "output_type": "stream",
     "name": "stdout",
     "output_type": "stream",
     "text": [
      "Model metrics on Training dataset:\n\nAccuracy: 0.89\nPrecision: 0.94\nRecall: 0.84\nF1: 0.89\n"
     ]
    }
   ],
   "source": [
    "# Create the model with best param\n",
    "model_logreg = LogisticRegression(C=best_parameters['C'])\n",
    "\n",
    "## K-fold validation on Training dataset\n",
    "accuracy_kf = []\n",
    "precision_kf = []\n",
    "recall_kf = []\n",
    "f1_kf = []\n",
    "\n",
    "cv = model_selection.KFold(n_splits=5, shuffle=True)\n",
    "\n",
    "i = 1\n",
    "for train, test in cv.split(X_train, y_train):\n",
    "    prediction = model_logreg.fit(X_train[train],y_train[train]).predict(X_train[test])\n",
    "    true = y_train[test]\n",
    "    accuracy_kf.append(accuracy_score(true, prediction))\n",
    "    precision_kf.append(precision_score(true, prediction))\n",
    "    recall_kf.append(recall_score(true, prediction))\n",
    "    f1_kf.append(f1_score(true, prediction))\n",
    "\n",
    "print('Model metrics on Training dataset:\\n')\n",
    "print('Accuracy: %0.2f' % mean(accuracy_kf))\n",
    "print('Precision: %0.2f' % mean(precision_kf))\n",
    "print('Recall: %0.2f' % mean(recall_kf))\n",
    "print('F1: %0.2f' % mean(f1_kf))"
   ]
  },
  {
   "cell_type": "code",
   "execution_count": 0,
   "metadata": {
    "application/vnd.databricks.v1+cell": {
     "cellMetadata": {
      "byteLimit": 2048000,
      "rowLimit": 10000
     },
     "inputWidgets": {},
     "nuid": "c2a43a77-8312-4b36-b0a7-fe3811888db4",
     "showTitle": false,
     "title": ""
    }
   },
   "outputs": [
    {
     "output_type": "stream",
     "name": "stdout",
     "output_type": "stream",
     "text": [
      "Model metrics on Test dataset:\n\nAccuracy: 0.89\nPrecision: 0.94\nRecall: 0.84\nF1: 0.89\n"
     ]
    }
   ],
   "source": [
    "## K-fold validation on Test dataset\n",
    "accuracy_kf = []\n",
    "precision_kf = []\n",
    "recall_kf = []\n",
    "f1_kf = []\n",
    "\n",
    "cv = model_selection.KFold(n_splits=5, shuffle=True)\n",
    "\n",
    "i = 1\n",
    "for train, test in cv.split(X_test, y_test):\n",
    "    prediction = model_logreg.fit(X_test[train],y_test[train]).predict(X_test[test])\n",
    "    true = y_test[test]\n",
    "    accuracy_kf.append(accuracy_score(true, prediction))\n",
    "    precision_kf.append(precision_score(true, prediction))\n",
    "    recall_kf.append(recall_score(true, prediction))\n",
    "    f1_kf.append(f1_score(true, prediction))\n",
    "\n",
    "print('Model metrics on Test dataset:\\n')\n",
    "print('Accuracy: %0.2f' % mean(accuracy_kf))\n",
    "print('Precision: %0.2f' % mean(precision_kf))\n",
    "print('Recall: %0.2f' % mean(recall_kf))\n",
    "print('F1: %0.2f' % mean(f1_kf))"
   ]
  },
  {
   "cell_type": "markdown",
   "metadata": {
    "application/vnd.databricks.v1+cell": {
     "cellMetadata": {},
     "inputWidgets": {},
     "nuid": "50cd2747-bc6c-4dc7-9953-a9e30fede92e",
     "showTitle": false,
     "title": ""
    }
   },
   "source": [
    "### MODEL 2: ElasticNet Regression (L1 Lasso & L2 Ridge)"
   ]
  },
  {
   "cell_type": "code",
   "execution_count": 0,
   "metadata": {
    "application/vnd.databricks.v1+cell": {
     "cellMetadata": {
      "byteLimit": 2048000,
      "rowLimit": 10000
     },
     "inputWidgets": {},
     "nuid": "f9cea711-6358-4e78-99f3-5834819c4059",
     "showTitle": false,
     "title": ""
    }
   },
   "outputs": [
    {
     "output_type": "stream",
     "name": "stdout",
     "output_type": "stream",
     "text": [
      "Best Recall: 0.84\nBest Parameters: {'C': 10.0, 'l1_ratio': 1.0}\n"
     ]
    }
   ],
   "source": [
    "# GridSearch to determine the best parameters\n",
    "parameters = {'C': [0.01, 0.1, 1.0, 2.0, 10.0],\n",
    "              'l1_ratio': [0.1, 0.25, 0.5, 0.75, 1.0]}\n",
    "\n",
    "# Create the Classifier\n",
    "model = LogisticRegression(penalty='elasticnet', solver='saga', max_iter=1000)\n",
    "\n",
    "# Create the GridSearch object\n",
    "grid_search = model_selection.GridSearchCV(estimator = model,\n",
    "                                           param_grid = parameters,\n",
    "                                           scoring = 'recall',\n",
    "                                           cv = 5)\n",
    "\n",
    "# Fit the GridSearch into the d ataset\n",
    "grid_search = grid_search.fit(X_train, y_train)\n",
    "\n",
    "# Determine the best parameters and score\n",
    "best_score = grid_search.best_score_\n",
    "best_parameters = grid_search.best_params_\n",
    "print(\"Best Recall: {:.2f}\".format(best_score))\n",
    "print(\"Best Parameters:\", best_parameters)"
   ]
  },
  {
   "cell_type": "code",
   "execution_count": 0,
   "metadata": {
    "application/vnd.databricks.v1+cell": {
     "cellMetadata": {
      "byteLimit": 2048000,
      "rowLimit": 10000
     },
     "inputWidgets": {},
     "nuid": "035b393d-aa56-47f9-a0c3-930ee4348531",
     "showTitle": false,
     "title": ""
    }
   },
   "outputs": [
    {
     "output_type": "stream",
     "name": "stdout",
     "output_type": "stream",
     "text": [
      "Model metrics on Training dataset:\n\nAccuracy: 0.89\nPrecision: 0.94\nRecall: 0.84\nF1: 0.89\n"
     ]
    }
   ],
   "source": [
    "# Create the model with best param\n",
    "model_elasticnet = LogisticRegression(\n",
    "    C=best_parameters['C'],\n",
    "    l1_ratio=best_parameters['l1_ratio'],\n",
    "    penalty='elasticnet', solver='saga', max_iter=1000\n",
    ")\n",
    "\n",
    "## K-fold validation on Training dataset\n",
    "accuracy_kf = []\n",
    "precision_kf = []\n",
    "recall_kf = []\n",
    "f1_kf = []\n",
    "\n",
    "cv = model_selection.KFold(n_splits=5, shuffle=True)\n",
    "\n",
    "i = 1\n",
    "for train, test in cv.split(X_train, y_train):\n",
    "    prediction = model_elasticnet.fit(X_train[train],y_train[train]).predict(X_train[test])\n",
    "    true = y_train[test]\n",
    "    accuracy_kf.append(accuracy_score(true, prediction))\n",
    "    precision_kf.append(precision_score(true, prediction))\n",
    "    recall_kf.append(recall_score(true, prediction))\n",
    "    f1_kf.append(f1_score(true, prediction))\n",
    "\n",
    "print('Model metrics on Training dataset:\\n')\n",
    "print('Accuracy: %0.2f' % mean(accuracy_kf))\n",
    "print('Precision: %0.2f' % mean(precision_kf))\n",
    "print('Recall: %0.2f' % mean(recall_kf))\n",
    "print('F1: %0.2f' % mean(f1_kf))"
   ]
  },
  {
   "cell_type": "code",
   "execution_count": 0,
   "metadata": {
    "application/vnd.databricks.v1+cell": {
     "cellMetadata": {
      "byteLimit": 2048000,
      "rowLimit": 10000
     },
     "inputWidgets": {},
     "nuid": "f3c2c458-9ffe-4ccd-9d0b-3415c2d51789",
     "showTitle": false,
     "title": ""
    }
   },
   "outputs": [
    {
     "output_type": "stream",
     "name": "stdout",
     "output_type": "stream",
     "text": [
      "Model metrics on Test dataset:\n\nAccuracy: 0.89\nPrecision: 0.94\nRecall: 0.84\nF1: 0.89\n"
     ]
    }
   ],
   "source": [
    "## K-fold validation on Test dataset\n",
    "accuracy_kf = []\n",
    "precision_kf = []\n",
    "recall_kf = []\n",
    "f1_kf = []\n",
    "\n",
    "cv = model_selection.KFold(n_splits=5, shuffle=True)\n",
    "\n",
    "i = 1\n",
    "for train, test in cv.split(X_test, y_test):\n",
    "    prediction = model_elasticnet.fit(X_test[train],y_test[train]).predict(X_test[test])\n",
    "    true = y_test[test]\n",
    "    accuracy_kf.append(accuracy_score(true, prediction))\n",
    "    precision_kf.append(precision_score(true, prediction))\n",
    "    recall_kf.append(recall_score(true, prediction))\n",
    "    f1_kf.append(f1_score(true, prediction))\n",
    "\n",
    "print('Model metrics on Test dataset:\\n')\n",
    "print('Accuracy: %0.2f' % mean(accuracy_kf))\n",
    "print('Precision: %0.2f' % mean(precision_kf))\n",
    "print('Recall: %0.2f' % mean(recall_kf))\n",
    "print('F1: %0.2f' % mean(f1_kf))"
   ]
  },
  {
   "cell_type": "markdown",
   "metadata": {
    "application/vnd.databricks.v1+cell": {
     "cellMetadata": {},
     "inputWidgets": {},
     "nuid": "ad682d5d-55be-4b49-865b-9fb4fe84800c",
     "showTitle": false,
     "title": ""
    }
   },
   "source": [
    "### MODEL 3: K-Nearest Neighbors DTW"
   ]
  },
  {
   "cell_type": "code",
   "execution_count": 0,
   "metadata": {
    "application/vnd.databricks.v1+cell": {
     "cellMetadata": {
      "byteLimit": 2048000,
      "rowLimit": 10000
     },
     "inputWidgets": {},
     "nuid": "cd7ed5ea-e3f6-48ed-952d-fcefdcedb2a7",
     "showTitle": false,
     "title": ""
    }
   },
   "outputs": [
    {
     "output_type": "stream",
     "name": "stdout",
     "output_type": "stream",
     "text": [
      "Best Recall: 0.88\nBest Parameters: {'n_neighbors': 3}\n"
     ]
    }
   ],
   "source": [
    "# GridSearch to determine the best parameters\n",
    "parameters = {\n",
    "    'n_neighbors': [3, 5, 7]\n",
    "}\n",
    "\n",
    "# Create the Classifier\n",
    "model_knnDtw = KNeighborsTimeSeriesClassifier(metric='dtw')\n",
    "\n",
    "# Create the GridSearch object\n",
    "grid_search = GridSearchCV(estimator = model_knnDtw,\n",
    "                           param_grid = parameters,\n",
    "                           scoring = 'recall',\n",
    "                           cv = 5)\n",
    "\n",
    "# Fit the GridSearch into the dataset\n",
    "grid_search = grid_search.fit(X_train[:1000:], y_train[:1000:])\n",
    "\n",
    "# Determine the best parameters and score\n",
    "best_score = grid_search.best_score_\n",
    "best_parameters = grid_search.best_params_\n",
    "print(\"Best Recall: {:.2f}\".format(best_score))\n",
    "print(\"Best Parameters:\", best_parameters)"
   ]
  },
  {
   "cell_type": "code",
   "execution_count": 0,
   "metadata": {
    "application/vnd.databricks.v1+cell": {
     "cellMetadata": {
      "byteLimit": 2048000,
      "rowLimit": 10000
     },
     "inputWidgets": {},
     "nuid": "bc48bb8e-24b9-4fa1-bdf3-6b6aa04ded6b",
     "showTitle": false,
     "title": ""
    }
   },
   "outputs": [
    {
     "output_type": "stream",
     "name": "stdout",
     "output_type": "stream",
     "text": [
      "Model metrics on Training dataset:\n\nAccuracy: 0.89\nPrecision: 0.88\nRecall: 0.88\nF1: 0.88\n"
     ]
    }
   ],
   "source": [
    "# Create the model with best param\n",
    "model_knn = KNeighborsTimeSeriesClassifier(\n",
    "    n_neighbors=best_parameters['n_neighbors'],\n",
    "    metric='dtw'\n",
    ")\n",
    "\n",
    "## K-fold validation on Training dataset\n",
    "accuracy_kf = []\n",
    "precision_kf = []\n",
    "recall_kf = []\n",
    "f1_kf = []\n",
    "\n",
    "cv = model_selection.KFold(n_splits=5, shuffle=True)\n",
    "\n",
    "i = 1\n",
    "for train, test in cv.split(X_train[:1000:], y_train[:1000:]):\n",
    "    prediction = model_knn.fit(X_train[:1000:][train],y_train[:1000:][train]).predict(X_train[:1000:][test])\n",
    "    true = y_train[:1000:][test]\n",
    "    accuracy_kf.append(accuracy_score(true, prediction))\n",
    "    precision_kf.append(precision_score(true, prediction))\n",
    "    recall_kf.append(recall_score(true, prediction))\n",
    "    f1_kf.append(f1_score(true, prediction))\n",
    "\n",
    "print('Model metrics on Training dataset:\\n')\n",
    "print('Accuracy: %0.2f' % mean(accuracy_kf))\n",
    "print('Precision: %0.2f' % mean(precision_kf))\n",
    "print('Recall: %0.2f' % mean(recall_kf))\n",
    "print('F1: %0.2f' % mean(f1_kf))"
   ]
  },
  {
   "cell_type": "code",
   "execution_count": 0,
   "metadata": {
    "application/vnd.databricks.v1+cell": {
     "cellMetadata": {
      "byteLimit": 2048000,
      "rowLimit": 10000
     },
     "inputWidgets": {},
     "nuid": "4bedca4f-3188-4d63-90c6-5cd4cbb26389",
     "showTitle": false,
     "title": ""
    }
   },
   "outputs": [
    {
     "output_type": "stream",
     "name": "stdout",
     "output_type": "stream",
     "text": [
      "Model metrics on Test dataset:\n\nAccuracy: 0.90\nPrecision: 0.91\nRecall: 0.90\nF1: 0.91\n"
     ]
    }
   ],
   "source": [
    "## K-fold validation on Test dataset\n",
    "accuracy_kf = []\n",
    "precision_kf = []\n",
    "recall_kf = []\n",
    "f1_kf = []\n",
    "\n",
    "cv = model_selection.KFold(n_splits=5, shuffle=True)\n",
    "\n",
    "i = 1\n",
    "for train, test in cv.split(X_test[:1000:], y_test[:1000:]):\n",
    "    prediction = model_knn.fit(X_test[:1000:][train],y_test[:1000:][train]).predict(X_test[:1000:][test])\n",
    "    true = y_test[:1000:][test]\n",
    "    accuracy_kf.append(accuracy_score(true, prediction))\n",
    "    precision_kf.append(precision_score(true, prediction))\n",
    "    recall_kf.append(recall_score(true, prediction))\n",
    "    f1_kf.append(f1_score(true, prediction))\n",
    "\n",
    "print('Model metrics on Test dataset:\\n')\n",
    "print('Accuracy: %0.2f' % mean(accuracy_kf))\n",
    "print('Precision: %0.2f' % mean(precision_kf))\n",
    "print('Recall: %0.2f' % mean(recall_kf))\n",
    "print('F1: %0.2f' % mean(f1_kf))"
   ]
  },
  {
   "cell_type": "markdown",
   "metadata": {
    "application/vnd.databricks.v1+cell": {
     "cellMetadata": {},
     "inputWidgets": {},
     "nuid": "7b05fdd2-3f3e-441a-aadf-ec3c14793c2a",
     "showTitle": false,
     "title": ""
    }
   },
   "source": [
    "### MODEL 4: Naive Bayes"
   ]
  },
  {
   "cell_type": "code",
   "execution_count": 0,
   "metadata": {
    "application/vnd.databricks.v1+cell": {
     "cellMetadata": {
      "byteLimit": 2048000,
      "rowLimit": 10000
     },
     "inputWidgets": {},
     "nuid": "ff54a814-5acd-44f3-bd9e-ee48ad134dee",
     "showTitle": false,
     "title": ""
    }
   },
   "outputs": [
    {
     "output_type": "stream",
     "name": "stdout",
     "output_type": "stream",
     "text": [
      "Model metrics on Training dataset:\n\nAccuracy: 0.89\nPrecision: 0.94\nRecall: 0.83\nF1: 0.88\n"
     ]
    }
   ],
   "source": [
    "# Create the model with best param\n",
    "model_nb = GaussianNB()\n",
    "\n",
    "## K-fold validation on Training dataset\n",
    "accuracy_kf = []\n",
    "precision_kf = []\n",
    "recall_kf = []\n",
    "f1_kf = []\n",
    "\n",
    "cv = model_selection.KFold(n_splits=5, shuffle=True)\n",
    "\n",
    "i = 1\n",
    "for train, test in cv.split(X_train, y_train):\n",
    "    prediction = model_nb.fit(X_train[train],y_train[train]).predict(X_train[test])\n",
    "    true = y_train[test]\n",
    "    accuracy_kf.append(accuracy_score(true, prediction))\n",
    "    precision_kf.append(precision_score(true, prediction))\n",
    "    recall_kf.append(recall_score(true, prediction))\n",
    "    f1_kf.append(f1_score(true, prediction))\n",
    "\n",
    "print('Model metrics on Training dataset:\\n')\n",
    "print('Accuracy: %0.2f' % mean(accuracy_kf))\n",
    "print('Precision: %0.2f' % mean(precision_kf))\n",
    "print('Recall: %0.2f' % mean(recall_kf))\n",
    "print('F1: %0.2f' % mean(f1_kf))"
   ]
  },
  {
   "cell_type": "code",
   "execution_count": 0,
   "metadata": {
    "application/vnd.databricks.v1+cell": {
     "cellMetadata": {
      "byteLimit": 2048000,
      "rowLimit": 10000
     },
     "inputWidgets": {},
     "nuid": "d75add6c-c20a-4e67-bfe9-45552b7c3b6d",
     "showTitle": false,
     "title": ""
    }
   },
   "outputs": [
    {
     "output_type": "stream",
     "name": "stdout",
     "output_type": "stream",
     "text": [
      "Model metrics on Test dataset:\n\nAccuracy: 0.89\nPrecision: 0.94\nRecall: 0.83\nF1: 0.88\n"
     ]
    }
   ],
   "source": [
    "## K-fold validation on Test dataset\n",
    "accuracy_kf = []\n",
    "precision_kf = []\n",
    "recall_kf = []\n",
    "f1_kf = []\n",
    "\n",
    "cv = model_selection.KFold(n_splits=5, shuffle=True)\n",
    "\n",
    "i = 1\n",
    "for train, test in cv.split(X_test, y_test):\n",
    "    prediction = model_nb.fit(X_test[train],y_test[train]).predict(X_test[test])\n",
    "    true = y_test[test]\n",
    "    accuracy_kf.append(accuracy_score(true, prediction))\n",
    "    precision_kf.append(precision_score(true, prediction))\n",
    "    recall_kf.append(recall_score(true, prediction))\n",
    "    f1_kf.append(f1_score(true, prediction))\n",
    "\n",
    "print('Model metrics on Test dataset:\\n')\n",
    "print('Accuracy: %0.2f' % mean(accuracy_kf))\n",
    "print('Precision: %0.2f' % mean(precision_kf))\n",
    "print('Recall: %0.2f' % mean(recall_kf))\n",
    "print('F1: %0.2f' % mean(f1_kf))"
   ]
  },
  {
   "cell_type": "markdown",
   "metadata": {
    "application/vnd.databricks.v1+cell": {
     "cellMetadata": {},
     "inputWidgets": {},
     "nuid": "b356fb09-96ef-401a-a1fd-3f033f349c77",
     "showTitle": false,
     "title": ""
    }
   },
   "source": [
    "### MODEL 5: Decision Tree"
   ]
  },
  {
   "cell_type": "code",
   "execution_count": 0,
   "metadata": {
    "application/vnd.databricks.v1+cell": {
     "cellMetadata": {
      "byteLimit": 2048000,
      "rowLimit": 10000
     },
     "inputWidgets": {},
     "nuid": "56d1087c-10de-4562-bd3f-d4825304f424",
     "showTitle": false,
     "title": ""
    }
   },
   "outputs": [
    {
     "output_type": "stream",
     "name": "stdout",
     "output_type": "stream",
     "text": [
      "Best Recall: 0.90\nBest Parameters: {'criterion': 'entropy', 'max_depth': 9, 'max_features': 'sqrt'}\n"
     ]
    }
   ],
   "source": [
    "# GridSearch to determine the best parameters\n",
    "parameters = {\n",
    "    'max_depth': [3, 5, 7, 9],\n",
    "    'criterion': ['gini', 'entropy'],\n",
    "    'max_features': ['sqrt', 'log2']\n",
    "}\n",
    "\n",
    "# Create the Classifier\n",
    "model_dtree = DecisionTreeClassifier()\n",
    "\n",
    "# Create the GridSearch object\n",
    "grid_search = GridSearchCV(estimator = model_dtree,\n",
    "                           param_grid = parameters,\n",
    "                           scoring = 'recall',\n",
    "                           cv = 5)\n",
    "\n",
    "# Fit the GridSearch into the dataset\n",
    "grid_search = grid_search.fit(X_train, y_train)\n",
    "\n",
    "# Determine the best parameters and score\n",
    "best_score = grid_search.best_score_\n",
    "best_parameters = grid_search.best_params_\n",
    "print(\"Best Recall: {:.2f}\".format(best_score))\n",
    "print(\"Best Parameters:\", best_parameters)"
   ]
  },
  {
   "cell_type": "code",
   "execution_count": 0,
   "metadata": {
    "application/vnd.databricks.v1+cell": {
     "cellMetadata": {
      "byteLimit": 2048000,
      "rowLimit": 10000
     },
     "inputWidgets": {},
     "nuid": "2316eda2-8c76-4d05-9c3e-bde40e9f9ff8",
     "showTitle": false,
     "title": ""
    }
   },
   "outputs": [
    {
     "output_type": "stream",
     "name": "stdout",
     "output_type": "stream",
     "text": [
      "Model metrics on Training dataset:\n\nAccuracy: 0.92\nPrecision: 0.95\nRecall: 0.89\nF1: 0.92\n"
     ]
    }
   ],
   "source": [
    "# Create the model with best param\n",
    "model_dtree = DecisionTreeClassifier(\n",
    "    max_depth=best_parameters['max_depth'],\n",
    "    criterion=best_parameters['criterion'],\n",
    "    max_features=best_parameters['max_features']\n",
    ")\n",
    "\n",
    "## K-fold validation on Training dataset\n",
    "accuracy_kf = []\n",
    "precision_kf = []\n",
    "recall_kf = []\n",
    "f1_kf = []\n",
    "\n",
    "cv = model_selection.KFold(n_splits=5, shuffle=True)\n",
    "\n",
    "i = 1\n",
    "for train, test in cv.split(X_train, y_train):\n",
    "    prediction = model_dtree.fit(X_train[train],y_train[train]).predict(X_train[test])\n",
    "    true = y_train[test]\n",
    "    accuracy_kf.append(accuracy_score(true, prediction))\n",
    "    precision_kf.append(precision_score(true, prediction))\n",
    "    recall_kf.append(recall_score(true, prediction))\n",
    "    f1_kf.append(f1_score(true, prediction))\n",
    "\n",
    "print('Model metrics on Training dataset:\\n')\n",
    "print('Accuracy: %0.2f' % mean(accuracy_kf))\n",
    "print('Precision: %0.2f' % mean(precision_kf))\n",
    "print('Recall: %0.2f' % mean(recall_kf))\n",
    "print('F1: %0.2f' % mean(f1_kf))"
   ]
  },
  {
   "cell_type": "code",
   "execution_count": 0,
   "metadata": {
    "application/vnd.databricks.v1+cell": {
     "cellMetadata": {
      "byteLimit": 2048000,
      "rowLimit": 10000
     },
     "inputWidgets": {},
     "nuid": "db25d2da-efaa-4501-90b8-a5ade2ce54ba",
     "showTitle": false,
     "title": ""
    }
   },
   "outputs": [
    {
     "output_type": "stream",
     "name": "stdout",
     "output_type": "stream",
     "text": [
      "Model metrics on Test dataset:\n\nAccuracy: 0.92\nPrecision: 0.96\nRecall: 0.88\nF1: 0.92\n"
     ]
    }
   ],
   "source": [
    "## K-fold validation on Test dataset\n",
    "accuracy_kf = []\n",
    "precision_kf = []\n",
    "recall_kf = []\n",
    "f1_kf = []\n",
    "\n",
    "cv = model_selection.KFold(n_splits=5, shuffle=True)\n",
    "\n",
    "i = 1\n",
    "for train, test in cv.split(X_test, y_test):\n",
    "    prediction = model_dtree.fit(X_test[train],y_test[train]).predict(X_test[test])\n",
    "    true = y_test[test]\n",
    "    accuracy_kf.append(accuracy_score(true, prediction))\n",
    "    precision_kf.append(precision_score(true, prediction))\n",
    "    recall_kf.append(recall_score(true, prediction))\n",
    "    f1_kf.append(f1_score(true, prediction))\n",
    "\n",
    "print('Model metrics on Test dataset:\\n')\n",
    "print('Accuracy: %0.2f' % mean(accuracy_kf))\n",
    "print('Precision: %0.2f' % mean(precision_kf))\n",
    "print('Recall: %0.2f' % mean(recall_kf))\n",
    "print('F1: %0.2f' % mean(f1_kf))"
   ]
  },
  {
   "cell_type": "markdown",
   "metadata": {
    "application/vnd.databricks.v1+cell": {
     "cellMetadata": {},
     "inputWidgets": {},
     "nuid": "caa3d89c-84c8-450f-b184-df72abbffe66",
     "showTitle": false,
     "title": ""
    }
   },
   "source": [
    "### MODEL 6: Random Forest"
   ]
  },
  {
   "cell_type": "code",
   "execution_count": 0,
   "metadata": {
    "application/vnd.databricks.v1+cell": {
     "cellMetadata": {
      "byteLimit": 2048000,
      "rowLimit": 10000
     },
     "inputWidgets": {},
     "nuid": "76cc5e91-938b-4702-9a5c-51d2ca0e043a",
     "showTitle": false,
     "title": ""
    }
   },
   "outputs": [],
   "source": [
    "# GridSearch to determine the best parameters\n",
    "parameters = {'n_estimators': [50,100,150,300],\n",
    "              'max_depth': [3,5,7,9],\n",
    "              'min_samples_split': [3,5,7],\n",
    "              'max_features': ['sqrt','log2']}\n",
    "\n",
    "# Create the Classifier\n",
    "model_rf = RandomForestClassifier()\n",
    "\n",
    "# Create the GridSearch object\n",
    "grid_search = GridSearchCV(estimator = model_rf,\n",
    "                           param_grid = parameters,\n",
    "                           scoring = 'recall',\n",
    "                           cv = 5)\n",
    "\n",
    "# Fit the GridSearch into the dataset\n",
    "grid_search = grid_search.fit(X_train, y_train)\n",
    "\n",
    "# Determine the best parameters and score\n",
    "best_score = grid_search.best_score_\n",
    "best_parameters = grid_search.best_params_\n",
    "print(\"Best Recall: {:.2f}\".format(best_score))\n",
    "print(\"Best Parameters:\", best_parameters)"
   ]
  },
  {
   "cell_type": "code",
   "execution_count": 0,
   "metadata": {
    "application/vnd.databricks.v1+cell": {
     "cellMetadata": {
      "byteLimit": 2048000,
      "rowLimit": 10000
     },
     "inputWidgets": {},
     "nuid": "82392846-69c8-4fa2-96e7-74ea8f1be5a0",
     "showTitle": false,
     "title": ""
    }
   },
   "outputs": [
    {
     "output_type": "stream",
     "name": "stdout",
     "output_type": "stream",
     "text": [
      "Model metrics on Training dataset:\n\nAccuracy: 0.93\nPrecision: 0.96\nRecall: 0.89\nF1: 0.93\n"
     ]
    }
   ],
   "source": [
    "# Create the model with best param\n",
    "model_rf = RandomForestClassifier(\n",
    "    n_estimators=best_parameters['n_estimators'],\n",
    "    max_depth=best_parameters['max_depth'],\n",
    "    min_samples_split=best_parameters['min_samples_split'],\n",
    "    max_features=best_parameters['max_features']\n",
    ")\n",
    "\n",
    "## K-fold validation on Training dataset\n",
    "accuracy_kf = []\n",
    "precision_kf = []\n",
    "recall_kf = []\n",
    "f1_kf = []\n",
    "\n",
    "cv = model_selection.KFold(n_splits=5, shuffle=True)\n",
    "\n",
    "i = 1\n",
    "for train, test in cv.split(X_train, y_train):\n",
    "    prediction = model_rf.fit(X_train[train],y_train[train]).predict(X_train[test])\n",
    "    true = y_train[test]\n",
    "    accuracy_kf.append(accuracy_score(true, prediction))\n",
    "    precision_kf.append(precision_score(true, prediction))\n",
    "    recall_kf.append(recall_score(true, prediction))\n",
    "    f1_kf.append(f1_score(true, prediction))\n",
    "\n",
    "print('Model metrics on Training dataset:\\n')\n",
    "print('Accuracy: %0.2f' % mean(accuracy_kf))\n",
    "print('Precision: %0.2f' % mean(precision_kf))\n",
    "print('Recall: %0.2f' % mean(recall_kf))\n",
    "print('F1: %0.2f' % mean(f1_kf))"
   ]
  },
  {
   "cell_type": "code",
   "execution_count": 0,
   "metadata": {
    "application/vnd.databricks.v1+cell": {
     "cellMetadata": {
      "byteLimit": 2048000,
      "rowLimit": 10000
     },
     "inputWidgets": {},
     "nuid": "6ad5a94d-97d3-423b-b390-dfea1a53bef7",
     "showTitle": false,
     "title": ""
    }
   },
   "outputs": [
    {
     "output_type": "stream",
     "name": "stdout",
     "output_type": "stream",
     "text": [
      "Model metrics on Test dataset:\n\nAccuracy: 0.93\nPrecision: 0.96\nRecall: 0.90\nF1: 0.93\n"
     ]
    }
   ],
   "source": [
    "## K-fold validation on Test dataset\n",
    "accuracy_kf = []\n",
    "precision_kf = []\n",
    "recall_kf = []\n",
    "f1_kf = []\n",
    "\n",
    "cv = model_selection.KFold(n_splits=5, shuffle=True)\n",
    "\n",
    "i = 1\n",
    "for train, test in cv.split(X_test, y_test):\n",
    "    prediction = model_rf.fit(X_test[train],y_test[train]).predict(X_test[test])\n",
    "    true = y_test[test]\n",
    "    accuracy_kf.append(accuracy_score(true, prediction))\n",
    "    precision_kf.append(precision_score(true, prediction))\n",
    "    recall_kf.append(recall_score(true, prediction))\n",
    "    f1_kf.append(f1_score(true, prediction))\n",
    "\n",
    "print('Model metrics on Test dataset:\\n')\n",
    "print('Accuracy: %0.2f' % mean(accuracy_kf))\n",
    "print('Precision: %0.2f' % mean(precision_kf))\n",
    "print('Recall: %0.2f' % mean(recall_kf))\n",
    "print('F1: %0.2f' % mean(f1_kf))"
   ]
  },
  {
   "cell_type": "markdown",
   "metadata": {
    "application/vnd.databricks.v1+cell": {
     "cellMetadata": {},
     "inputWidgets": {},
     "nuid": "63c2b3e4-ea80-4a6d-894f-5df3b446c1ce",
     "showTitle": false,
     "title": ""
    }
   },
   "source": [
    "### Model 7: XGBoost"
   ]
  },
  {
   "cell_type": "code",
   "execution_count": 0,
   "metadata": {
    "application/vnd.databricks.v1+cell": {
     "cellMetadata": {
      "byteLimit": 2048000,
      "rowLimit": 10000
     },
     "inputWidgets": {},
     "nuid": "1f138638-4a85-4fec-a4e4-5c6b9eb14100",
     "showTitle": false,
     "title": ""
    }
   },
   "outputs": [
    {
     "output_type": "stream",
     "name": "stdout",
     "output_type": "stream",
     "text": [
      "Best Recall: 0.95\nBest Parameters: {'learning_rate': 0.1, 'max_depth': 9, 'n_estimators': 900}\n"
     ]
    }
   ],
   "source": [
    "# Define the parameter search space\n",
    "parameters = {\n",
    "    'n_estimators': [100,300,500,700,900],\n",
    "    'max_depth': [3,5,7,9],\n",
    "    'learning_rate': [0.01,0.1,1.0]\n",
    "}\n",
    "\n",
    "# Create the Classifier\n",
    "model_xgb = XGBClassifier()\n",
    "\n",
    "# Create the GridSearch object\n",
    "grid_search = GridSearchCV(estimator = model_xgb,\n",
    "                           param_grid = parameters,\n",
    "                           scoring = 'recall',\n",
    "                           cv = 5)\n",
    "\n",
    "# Fit the GridSearch into the dataset\n",
    "grid_search = grid_search.fit(X_train, y_train)\n",
    "\n",
    "# Determine the best parameters and score\n",
    "best_score = grid_search.best_score_\n",
    "best_parameters = grid_search.best_params_\n",
    "print(\"Best Recall: {:.2f}\".format(best_score))\n",
    "print(\"Best Parameters:\", best_parameters)"
   ]
  },
  {
   "cell_type": "code",
   "execution_count": 0,
   "metadata": {
    "application/vnd.databricks.v1+cell": {
     "cellMetadata": {
      "byteLimit": 2048000,
      "rowLimit": 10000
     },
     "inputWidgets": {},
     "nuid": "2d7a42c2-2545-420c-8091-561f6e0ec662",
     "showTitle": false,
     "title": ""
    }
   },
   "outputs": [
    {
     "output_type": "stream",
     "name": "stdout",
     "output_type": "stream",
     "text": [
      "Model metrics on Training dataset:\n\nAccuracy: 0.99\nPrecision: 0.99\nRecall: 0.99\nF1: 0.99\n"
     ]
    },
    {
     "output_type": "display_data",
     "data": {
      "image/png": "[encoded data removed]"
     },
     "metadata": {
      "application/vnd.databricks.v1+output": {
       "addedWidgets": {},
       "arguments": {},
       "data": "data:image/png;base64,iVBORw0KGgoAAAANSUhEUgAAAXUAAAFWCAYAAACWxQ1QAAAAOXRFWHRTb2Z0d2FyZQBNYXRwbG90bGliIHZlcnNpb24zLjUuMSwgaHR0cHM6Ly9tYXRwbG90bGliLm9yZy/YYfK9AAAACXBIWXMAAAsTAAALEwEAmpwYAAAv+UlEQVR4nO3dd5hV1dn38e/NzNCkFxEpUtUABlRE7EYiTQ2aqJiYSAwRjZJiyhNNQ9NeefM8iRoRH4woWFBjoqASCEF5TWwUAxhAYaQoRRBGUOnlfv/Ya9jnDOccxikw+/D7XNe+OGfttdfaM4733LPWOmubuyMiIvmh1uG+ARERqToK6iIieURBXUQkjyioi4jkEQV1EZE8oqAuIpJHFNRFRA7CzG42s0Vm9h8zm2Rmdc2so5m9bmbFZvaEmdUOdeuE98XhfIeUdm4N5W+b2YCU8oGhrNjMbkkpz9hHLgrqIiI5mFkb4DtAb3fvARQAVwGjgT+4exfgQ2B4uGQ48GEo/0Ooh5l1C9d1BwYC95pZgZkVAGOAQUA34MuhLjn6yKqw8l+yiMjhM3BgO9+4cUeFr583b+N0dx94kGqFQD0z2w3UB9YBFwBfCecnALcBY4Eh4TXAU8A9Zmah/HF33wmsMLNioE+oV+zuywHM7HFgiJktydFHzhsVEUmsjRt3MGfuFyt8fS0b1yLXeXdfY2b/DbwLbAf+DswDNrv7nlBtNdAmvG4DvBeu3WNmW4Dmofy1lKZTr3mvTPnp4ZpsfWT/eg5WQUSkpnOv+AG0MLO5KceI1LbNrClRlt0ROBY4imj4pEZSpi4iiVfJHaw2unvvHOc/D6xw9w8AzOyvwFlAEzMrDJl0W2BNqL8GaAesNrNCoDGwKaW8VOo1mco35egjK2XqIiK5vQv0NbP6YWy8H7AYeBG4PNQZBkwOr6eE94TzL3i0c+IU4KqwOqYj0BWYDcwBuoaVLrWJJlOnhGuy9ZGVMnURSTRn/zBK9bTv/rqZPQW8AewB/g2MA54HHjezX4eyB8IlDwAPh4nQEqIgjbsvMrMniX4h7AFucve9AGY2EphOtLJmvLsvCm39OEsfWZm23hWRJDu1d0t/bXbFJ0prF4ybd5Dhl0RRpi4iiafcNKYxdRGRPKJMXUQST4l6TEFdRJLNNfySSkFdRBLNUaaeSkFdRBJPmXpME6VHODOrZ2bPmtkWM/tzJdq52sz+XpX3djiY2d/MbNjBa4rUTArqCWFmXwn7UnxiZutC8Dm7Cpq+HGgFNHf3KyraiLs/6u79q+B+0pjZ+WbmZvZ0mfKeoXxWOdu5zcweOVg9dx/k7hMqeLtymHgljnyjoJ4AZvZ94E7gt0QBuD1wL9EmQ5V1HLA0ZSe4mugD4Awza55SNgxYWlUdWET/PyRUJTf0yiv6Ia7hzKwx8EuijxT/1d23uvtud3/W3X8U6tQxszvNbG047jSzOuHc+Wa22sx+YGYbQpZ/bTh3O/ALYGj4C2B42YzWzDqEjLgwvP+6mS03s4/NbIWZXZ1S/q+U6840szlhWGeOmZ2Zcm6Wmf3KzF4O7fzdzHJtf7oLeIbwcevwUIGhwKNlvld3mdl7ZvaRmc0zs3NC+UDgJylf54KU+/iNmb0MbAM6hbJvhvNjzewvKe2PNrOZYf8PqUGUqccU1Gu+M4C6wNM56vwU6Av0AnoSbbz/s5TzxxDtFNeG6MkpY8ysqbuPIsr+n3D3Bu6ec18JMzsKuBsY5O4NgTOB+RnqNSPaF+Nuoj2hfw88XybT/gpwLXA0UBv4Ya6+gYnANeH1AOA/wNoydeYQfQ+aAY8Bfzazuu4+rczX2TPlmq8BI4CGwKoy7f0AOCn8wjqH6Hs3zLW3Ro1SuveLMvWIgnrN15xoa9BcwyNXA7909w1he9DbiYJVqd3h/G53nwp8ApxQwfvZB/Qws3ruvi5l46FUFwHL3P1hd9/j7pOAt4BLUuo86O5L3X078CRRMM7K3V8BmpnZCUTBfWKGOo+4+6bQ5/8AdTj41/mQuy8K1+wu0942ou/j74FHgG+7++qDtCdyWCmo13ybiDbxz7X89FjSs8xVoWx/G2V+KWwDGnzaG3H3rUTDHjcA68zseTM7sRz3U3pPqU9teb8C9/MwMBL4HBn+cjGzH5rZkjDks5nor5OcT7Uh/YkzB3D314HlgBH98pEaSMMvMQX1mu9VYCdwaY46a4kmPEu158ChifLaSvQMxlLHpJ509+nufiHQmij7vr8c91N6Twfd4P8gHgZuBKaGLHq/MDzyX8CVQFN3bwJsIQrGkP3/35z/X5vZTUQZ/9rQvtRAGn6JKajXcO6+hWgyc4yZXRo26i8ys0Fm9n9DtUnAz8ysZZhw/AXRcEFFzAfONbP2YZL21tITZtbKzIaEsfWdRMM4+zK0MRU4PizDLDSzoURPSX+ugvcEgLuvAM4jmkMoqyHRHtUfAIVm9gugUcr59UCHT7PCxcyOB34NfJVoGOa/zKxXxe5eqpMy9ZiCegKE8eHvE01+fkA0ZDCSaEUIRIFnLrAQeJNoM/9fV7CvGcAToa15pAfiWuE+1hJt/n8e8K0MbWwCLiaaaNxElOFe7O4bK3JPZdr+l7tn+itkOjCNaJnjKmAH6UMrpR+s2mRmbxysnzDc9Qgw2t0XuPsyohU0D5euLBKpifSQDBFJtF6ntPQXXq74QzKa19dDMkREahSlpjEFdRFJPA04xBTURSTxFNRjmigVEckjytRFJPGUqMeqJai3aFHXO3RoWB1NS4LNq+jHoSR/bf4Y37ajUhukle79IpFqCeodOjRk7tyKLzGS/GS3He47kBpn3F+rpBnF9JiGX0Qk8RTUY5ooFRHJI8rURSTxNKYeU1AXkcRTTI8pqItIouXrFroVpTF1EZE8okxdRBJPiXpMQV1EEk/DLzENv4hI4lXnk4/M7AQzm59yfGRm3zOzZmY2w8yWhX+bhvpmZnebWbGZLTSzU1LaGhbqLzOzYSnlp5rZm+Gau83MQnnGPnJRUBeRxKvOZ5S6+9vu3svdewGnEj0o/WngFmCmu3cFZob3AIOAruEYAYyFKEADo4DTgT7AqJQgPRa4LuW6gaE8Wx9ZKaiLiJRfP+Add18FDAEmhPIJxA+HHwJM9MhrQBMzaw0MAGa4e4m7fwjMAAaGc43c/TWPHkU3sUxbmfrISmPqIpJoh/gB0lcRPegdoJW7rwuv3wdahddtSH8+7upQlqt8dYbyXH1kpUxdRBKvksMvLcxsbsoxIlMfZlYb+ALxQ8xT+vdq/91S3j6UqYtI4lUymm4s54OnBwFvuPv68H69mbV293VhCGVDKF8DtEu5rm0oWwOcX6Z8Vihvm6F+rj6yUqYuIlI+XyYeegGYApSuYBkGTE4pvyasgukLbAlDKNOB/mbWNEyQ9gemh3MfmVnfsOrlmjJtZeojK2XqIpJsh2CbADM7CrgQuD6l+A7gSTMbDqwCrgzlU4HBQDHRSplrAdy9xMx+BcwJ9X7p7iXh9Y3AQ0A94G/hyNVHVgrqIpJ41T1R6u5bgeZlyjYRrYYpW9eBm7K0Mx4Yn6F8LtAjQ3nGPnJRUBeRRNPj7NIpqItI4immxzRRKiKSR5Spi0jiafglpqAuIomnmB5TUBeRxFOmHlNQF5FEO8R7v9R4migVEckjytRFJPE0/BJTUBeRxFNMjymoi0iyHYK9X5JEY+oiInlEmbqIJJ4S9ZiCuogkmjb0SqegLiKJp5geU1AXkcRTph7TRKmISB5Rpi4iiadEPaagLiKJp+GXmIK6iCSaVr+kU1AXkcRTTI9polREJI8oUxeRZNPeL2kU1EUk8RTTYwrqIpJ4CuoxjamLiOQRZeoikmha0phOQV1EEk8xPaagLiKJp0w9pqAuIomnmB7TRKmISB5Rpi4iiafhl5gydRFJNK/kUR5m1sTMnjKzt8xsiZmdYWbNzGyGmS0L/zYNdc3M7jazYjNbaGanpLQzLNRfZmbDUspPNbM3wzV3m5mF8ox95KKgLiKJ517xo5zuAqa5+4lAT2AJcAsw0927AjPDe4BBQNdwjADGQhSggVHA6UAfYFRKkB4LXJdy3cBQnq2PrBTURSTxqjNTN7PGwLnAAwDuvsvdNwNDgAmh2gTg0vB6CDDRI68BTcysNTAAmOHuJe7+ITADGBjONXL319zdgYll2srUR1YK6iIiuXUEPgAeNLN/m9mfzOwooJW7rwt13gdahddtgPdSrl8dynKVr85QTo4+slJQF5Fkq8TQSxh+aWFmc1OOEWV6KAROAca6+8nAVsoMg4QMu1qna8vbh1a/iEjiVTKabnT33jnOrwZWu/vr4f1TREF9vZm1dvd1YQhlQzi/BmiXcn3bULYGOL9M+axQ3jZDfXL0kZUydRFJtNK9X6protTd3wfeM7MTQlE/YDEwBShdwTIMmBxeTwGuCatg+gJbwhDKdKC/mTUNE6T9genh3Edm1jesermmTFuZ+shKmbqIyMF9G3jUzGoDy4FriZLiJ81sOLAKuDLUnQoMBoqBbaEu7l5iZr8C5oR6v3T3kvD6RuAhoB7wt3AA3JGlj6wU1EUk8ar7s0fuPh/INETTL0NdB27K0s54YHyG8rlAjwzlmzL1kYuCuogknj5RGlNQF5HEU0yPKaiLSOIpU4+Va/WLmQ00s7fDvgQH/ZiqiIgcHgcN6mZWAIwh2s+gG/BlM+tW3TcmIlIeh2JDryQpT6beByh29+Xuvgt4nGg/AhGRGuEQbOiVGOUJ6tn2KxARqRGUqceqbKI07JcwAqB9+wZV1ayISG55mnFXVHmCerZ9DNK4+zhgHEDv3i0T8S1++eX3uf32ecyfv4nt2/fStWsjRo7szje+ceL+Ojt27OHnP5/LI48sY/PmXfTq1ZzRo0/n3HNbp7XVocNjrFr1yQF9PP10fy69tEPG/l955X3OPnsK7rB79zcpLEz/w2n79j2MHj2fRx8t5t13P6FJkzqcdlpL/vrXC6ldu2B/vQkTlnL33f9h2bIt1KlTQK9ezfnFL07hnHNal+1SDuahZ2HVusznOreFrw6GZ2bBgqWZ6zRvDCOHppd98CHMmgsr1sLuPdC4AfTuBn1Piuvc+RhsOfDnh6H94cQOFflK5AhVnqA+B+hqZh2JgvlVwFeq9a4OgYULN/H5zz9P375Hc//951K/fiFPPbWc4cNfYufOfXzrW9Fc8PDhL/H88+/yu9+dTqdOjRgzZhEDBkzl1VeH0KtXi7Q2Bwxoy223nZpWdsIJTTL2v3v3Pq6//p+0alWP99/fnvH8oEF/Y8WKj7n11l5069aUDz7YzowZa9i7N/6dOW7cEq6//p/ccMNnuOOOPmzbtoff//5NLrwwuseTT25xQNuSw0Vnw85d6WXvrYe/vwYnHBe9P/cU6P2Z9DqbP4a/vBDXKbX2A5jwHHRoDV84D+rUhpItsGv3gX13bgvnp//80LxJpb6cI0UisshD5KBB3d33mNlIos1oCoDx7r6o2u+smj3++Dvs3es8++xAGjQoAuDCC9uycGEJEycu5Vvf6saCBZt47LFixo8/j2uvjfbyOe+81nTv/md+8Yu5TJkyMK3NFi3q0rfvQbc7BuB3v1uAO3zjGyfw29/OP+D8//zPQt54YyOLFl1Bu3bxcNaXvtQprd5DDy3ljDNaMXbsOfvLLrjgWJo3n8iTTy5XUP+0WmZ4Wti8t6CgFvToHL1v1ig6Ur0T/njteXxc5g5Pvwid2kQZd6mOx2buu35daFu+nx+JlW7oJZFyrVN396nufry7d3b331T3TR0Ku3bto6ioFvXqFaSVN25cm337op+QKVNWUVRUi6FDO+8/X1hYi6uu6sz06avZuXNvhfp+552P+PWv3+Dee8+mqCjzf4J7713EFVd0Sgvomb+OvTRqVJRWVr9+IUVFtfZ/HVIJu/fA4uVw/HFQr272eguXQusWcHSzuGzlWti4OX2YRaqFJkpjR+zWu1//epRRfec7r7B27VY2b97J/fcvYebMNdx8c/Q/4aJFJXTs2JD69dP/oOnevSm7du2juHhLWvmzz66ifv0HqFPnT/Tt+wzPPLMyY9833PBPrrii0wHj8qXeffcT3ntvK506NeS6616iUaMHqVv3Afr1e4758zem1b3xxm784x9reOCBt9i8eSdr1mxl5MiXKSqqxfDhJ2RsXz6FJSuioZLUDLysd9+Hko8OrPPu+9G/e/bCn56BX90Pv5sIf3s5+mVR1tJV8JsH4Nd/iuq/tbKKvgg5khyx2wT06NGMWbMu5rLLZnDvvYsBKCqqxX33ncNVV3UBoKRkJ02b1jng2mbN6uw/X+qSS47jtNNa0rFjQ9av38499yzissv+zsMPf46vfrXr/nqPPLKMefM28uij2XfQXLt2KwCjRy/gtNNa8vjj/di5cy+jRs3j/POfY+HCy/evMCqd1L3xxpf55jdfAuCYY+oxY8Zgjj++SUW/PVJq4TI4qh50bZe9zoKlUKsWnNQlvfzjbdG/T82EPt3h832iMfYX58JHW9OHZI4/Dtq0hCYNYet2mL0Invg7XPY5+GxXJDcNv8SO2KC+bNkWvvSlGXTv3pT77jubevUKmTx5JTfc8E/q1i3g6qs/3f9If/zjWWnvL7usA337TubWW2fvD+olJTv4/vdf5be/PY2jj66Xta3SYZP69Qt59tmB+/9S6N27JV26PM6YMYsYPfp0ACZPXslNN73M9dd/hi984Ti2b9/DXXf9h8GDp/HiixfTo0ezrP3IQXy8FZavgdN7REE7kz2lwzPtozHxVKWR5rNd4HNh19YOx8I+h5mzo1UxpWP4g9N/fjixAzwwOaqnoH5QiumxI3b45Sc/mU1RUS2ee24gF198HP36teHuu8/iyis7893vvsK+fU7TpnX48MOdB1xbmqGXZuyZFBTU4oorOrJ69VbWrYsytp/9bC6tW9fnyis7sXnzTjZv3smOHdG4/JYtu9i6NVoR0bx5FBzOOqtV2tBPu3YNOPHEJvz739EQjLszYsQ/ufzyjtx115n069eGiy8+juefH0jDhkX8/Odzq+A7dQRbuCwKzLmGXt5eBTt2Za5TOgbfqW16eefw/v1N2dutVQu6dYwy+tKMX7LSJ0pjR2ym/uabJfTs2fyAico+fVry2GPFbNiwne7dm/L00yvZtm1PWnBdvPhDateuRZcujcvVl1l83cKFJTRvPvGAOi1aTGTIkON45pkBdOrU6IAJ3FS1akUNrl+/nQ0btnPaaUenna9du4CePZuzZMmH5bo/yWLBMmjVHI5pnqPO0ihD79r+wHNHZ1hJk8rKeR/lrXeEytcJz4o6YoP6McfUZ/78TezatTftgzyvv76BunULaNasDpdcchyjRs3jz39ezrBhUSa2Z88+nnhiOf37t6VOneyBt7Re+/YNOOaY+gDceecZbN6cvgb6oYeWMmHCUv7xj4to1SoakikqqsVFF7XnpZfeZ+vW3Rx1VLS65d13P+GttzbzhS9Ea6GbNq1DnToFzJ6d/izaXbv2Mn/+Jjp1aljJ79IRbO0H0fBI/77Z63yyDYpXw2ndoyWPZXVpBwUF8M576evXi8OuG8e2zN72vn2waHn0QaUG9Sv2NcgR6YgN6iNHdueKK/7BJZdM58Ybu1GvXiFTpqxk0qR3uPnmk6hdu4CTT27B0KGd+N73XmH37n107NiQsWMXs2LFxzz66AX725o0qZjJk1cyeHB72rVrwPr12xgzZjFvvLGRSZPiemU/rAQwa9ZaIFr/nvqJ0ttv702fPk9z0UXT+MEPPsuOHXu5/fZ5NGlSh5EjuwNQp04B1113Ivfcs4hmzepw8cXRmPo99yxi5cqPufPOM6rr25f/FiyFWpZ7PPvN4ujv915Zhmfq14Wze8FLb0QfOup4LKzdGL3veTw0axy38/bKKNtv1AC2boM5i2HdRvjSBZnbljT5OIxSUUdsUL/88k5MnTqQ0aMX8M1vvsSOHXvp3LkRY8acxfXXx58WfPDB8/npT+fws5/NYfPmXfTs2Yxp0wZxyilxgO7YsSEbNuzgRz96nZKSHRx1VBG9e7dk2rRBDBiQY9VEDt26NeWFFy7mxz9+naFD/0FRUS0+97ljeeaZ/rRqFWduf/jDGZxwQmP+9Ke3efDBpdStW0D37k2ZPn0w/fu3zdGDZLV3H/znnSjTPir7hDYLlkZDLK1zfMDrvFOgTlEUpF9ZCA3rw5k9o0+llmraELbugBmvw/YdUFQUZfFXD4ruQXLL07HxijKvhu9G794tfe7cL1Z5u5JsdtvhvgOpccb9FV/7QaVmDTp3b+n/58mKx5uhPcbNc/dMD5VOpCM2UxeR/KFMPXbELmkUEclHytRFJNG0pDGdgrqIJJ6CekxBXUQST2PqMY2pi4jkEWXqIpJ4StRjCuoikngafokpqItIomn1SzoFdRFJPGXqMU2UiojkEQV1EUm86n7wtJmtNLM3zWy+mc0NZc3MbIaZLQv/Ng3lZmZ3m1mxmS00s1NS2hkW6i8zs2Ep5aeG9ovDtZarj1wU1EUk2Srx1KNPOWzzOXfvlbL51y3ATHfvCswM7wEGAV3DMQIYC1GABkYBpwN9gFEpQXoscF3KdQMP0kdWCuoikmiVydIrORQ/BJgQXk8ALk0pn+iR14AmZtYaGADMcPcSd/8QmAEMDOcauftrHm2bO7FMW5n6yEpBXUQS7xBk6g783czmmdmIUNbK3deF1+8DrcLrNsB7KdeuDmW5yldnKM/VR1Za/SIiR7oWpePkwTh3H1emztnuvsbMjgZmmNlbqSfd3c2sWtfglLcPBXURSbxKRtONB3tIhruvCf9uMLOnicbE15tZa3dfF4ZQSh8WvAZIfWRV21C2Bji/TPmsUN42Q31y9JGVhl9EJPGqc/jFzI4ys4alr4H+wH+AKUDpCpZhwOTwegpwTVgF0xfYEoZQpgP9zaxpmCDtD0wP5z4ys75h1cs1ZdrK1EdWytRFJPGq+bNHrYCnwyrDQuAxd59mZnOAJ81sOLAKuDLUnwoMBoqBbcC1AO5eYma/AuaEer9095Lw+kbgIaAe8LdwANyRpY+sFNRFRHJw9+VAzwzlm4B+GcoduClLW+OB8RnK5wI9yttHLgrqIpJojrYJSKWgLiKJp5geU1AXkcRTph5TUBeRxFNMj2lJo4hIHlGmLiLJ9uk35sprCuoikmh68lE6BXURSTxl6jGNqYuI5BFl6iKSeErUYwrqIpJ4Gn6JKaiLSOIppscU1EUk0bT3SzpNlIqI5BFl6iKSeErUYwrqIpJ4Gn6JKaiLSOIppscU1EUk2bT3SxpNlIqI5BFl6iKSaFrSmE5BXUQSTzE9pqAuIomnTD2mMXURkTyiTF1EEk+JekxBXUQST0E9pqAuIomm1S/pFNRFJPEU02OaKBURySPK1EUk8TT8ElNQF5HEU0yPKaiLSLJpQ680CuoikmiOMvVUmigVESkHMysws3+b2XPhfUcze93Mis3sCTOrHcrrhPfF4XyHlDZuDeVvm9mAlPKBoazYzG5JKc/YRy7VkqnPWwt2W3W0LEnmtx3uO5CapvdzVdPOIRp++S6wBGgU3o8G/uDuj5vZfcBwYGz490N372JmV4V6Q82sG3AV0B04FviHmR0f2hoDXAisBuaY2RR3X5yjj6yUqYtI4nkljvIws7bARcCfwnsDLgCeClUmAJeG10PCe8L5fqH+EOBxd9/p7iuAYqBPOIrdfbm77wIeB4YcpI+sFNRFJPHcK34ALcxsbsoxIkMXdwL/BewL75sDm919T3i/GmgTXrcB3ovuy/cAW0L9/eVlrslWnquPrDRRKiJHuo3u3jvbSTO7GNjg7vPM7PxDdlcVpKAuIolXzUPqZwFfMLPBQF2iMfW7gCZmVhgy6bbAmlB/DdAOWG1mhUBjYFNKeanUazKVb8rRR1YafhGRRCvd0KsSwy+523e/1d3bunsHoonOF9z9auBF4PJQbRgwObyeEt4Tzr/g7h7KrwqrYzoCXYHZwByga1jpUjv0MSVck62PrBTURSTxqnuiNIsfA983s2Ki8e8HQvkDQPNQ/n3gFgB3XwQ8CSwGpgE3ufvekIWPBKYTra55MtTN1UdWGn4RkcQ7VJ8odfdZwKzwejnRypWydXYAV2S5/jfAbzKUTwWmZijP2EcuytRFRPKIMnURSTxtExBTUBeRZNOGXmkU1EUk0bShVzoFdRFJPGXqMU2UiojkEWXqIpJ4StRjCuoikngafokpqItI4immxzSmLiKSR5Spi0iilW7oJREFdRFJPMX0mIK6iCSeMvWYgrqIJJ5iekwTpSIieUSZuogkmzb0SqOgLiKJpg290imoi0jiKVOPKaiLSOIpqMc0USoikkeUqYtI4ilRjymoi0jiafglpqAuIomm1S/pNKYuIpJHlKmLSOIpU48pqItI4mlMPaagLiKJp5geU1AXkWTT3i9pNFEqIpJHlKmLSKJpSWM6BXURSTwNv8QU1EUk8RTTYxpTF5HEc6/4cTBmVtfMZpvZAjNbZGa3h/KOZva6mRWb2RNmVjuU1wnvi8P5Dilt3RrK3zazASnlA0NZsZndklKesY9cFNRFRHLbCVzg7j2BXsBAM+sLjAb+4O5dgA+B4aH+cODDUP6HUA8z6wZcBXQHBgL3mlmBmRUAY4BBQDfgy6EuOfrISkFdRBLPK3EctO3IJ+FtUTgcuAB4KpRPAC4Nr4eE94Tz/czMQvnj7r7T3VcAxUCfcBS7+3J33wU8DgwJ12TrIysFdRFJNKfSwy8tzGxuyjGibB8ho54PbABmAO8Am919T6iyGmgTXrcB3gMI57cAzVPLy1yTrbx5jj6y0kSpiCReJSdKN7p775ztu+8FeplZE+Bp4MTKdVl9lKmLiJSTu28GXgTOAJqYWWli3BZYE16vAdoBhPONgU2p5WWuyVa+KUcfWSmoi0jiVfPql5YhQ8fM6gEXAkuIgvvlodowYHJ4PSW8J5x/wd09lF8VVsd0BLoCs4E5QNew0qU20WTqlHBNtj6y0vCLiCReNa9Tbw1MCKtUagFPuvtzZrYYeNzMfg38G3gg1H8AeNjMioESoiCNuy8ysyeBxcAe4KYwrIOZjQSmAwXAeHdfFNr6cZY+slJQF5Fkq+YNvdx9IXByhvLlRCtXypbvAK7I0tZvgN9kKJ8KTC1vH7koqItIomnvl3QaUxcRySPK1EUk8bShV0xBXUQSTzE9pqAuIomnTD2mMXURkTyiTF1EEk+JekxBXUQSrXRDL4koqItI4immxxTURSTxlKnHNFEqIpJHlKmLSOIpUY8pqItIopV3C90jhYK6iCSeYnrsoGPqZjbezDaY2X8OxQ2JiHxa1fmQjKQpz0TpQ8DAar4PERGpAgcN6u7+EtHTO0REaiSvxJFvNKYuIomXj8MoFVVlQd3MRgAjAGjcoKqaFRHJSdsEpKuyoO7u44BxAHZsy2R8i1eshRfnwLqNUFgIx7eDC/tCg/rZr3nunzBvCZzUBb54Qfq5mbNh7QdRe9t3wpDzoNcJ6XVWroUJz2Vvf/gQaNuq4l+TVNrLL7/P7bfPY/78TWzfvpeuXRsxcmR3vvGNE/fX2bFjDz//+VweeWQZmzfvolev5owefTrnntt6f52PP97F8OEv8cYbG1m3bhtFRbU4/vjGfOc7PfjqV7tWWz2ADh0eY9WqTw742p5+uj+XXtqhCr9bUtMcucMvq9bBI89D53Zw5YWwbQe8OBcmPg8jvgiFBQde8+77sHAZ1CnK3ObsRXBMczi+PSxYlrlO6xZR4C5rykuwfQcc27LiX5NU2sKFm/j855+nb9+juf/+c6lfv5CnnlrO8OEvsXPnPr71rW4ADB/+Es8//y6/+93pdOrUiDFjFjFgwFRefXUIvXq1AGDXrn0UFhq33tqLDh0asnPnXp544h2+9rUX+eCD7dx882erpV6pAQPactttp6aVnXBCk2r+Dh4eycgiDw3zg/zdYmaTgPOBFsB6YJS7P5DzmmNbOiO+WFX3WD0mPg+bP4aRV0KtMF+89gO4/2kYfBac1j29/t598L9/iTL0eUug/TEHZuruYAYlW+CPT2TO1DPZ/DHcNQnO+Cz071s1X18N5Lcd7js4uJ/8ZDb//d8LKSkZRoMG8S/vM854BoBXX72UBQs20avXXxg//jyuvTb677tnzz66d/8zJ5zQmClTci8WO+OMZ/jkk928+WbGB85XSb0OHR7j7LOP4ZFHLshx5eHXu/dfmTv3A6tMG407tfQzf1nxeDPta+PmuXvvytxDTVKe1S9fdvfW7l7k7m0PFtATY/V66NQmDugQZcn16sBbKw+s/8qCKGif2TN7m1bBn82FIavvdXzFrpcqs2vXPoqKalGvXvpfao0b12bfvigBmjJlFUVFtRg6tPP+84WFtbjqqs5Mn76anTv35uyjefO6FBYefDVxVdfLZ1r9EjtyfxJqGRRkGGIpLIANZVZwlmyBl96AwWdDQTV8yxYsi4Zljm5W9W3Lp/L1r0e/WL/znVdYu3Yrmzfv5P77lzBz5hpuvvkkABYtKqFjx4bUr58+etm9e1N27dpHcfGWtHJ3Z8+efWzatINx45Ywffp7+9uqznrPPruK+vUfoE6dP9G37zM888zKin5bajwF9diRO6bevAmsWZ9etvlj+HjbgYH7+X/BZzpCx2Or/j7eWx/90hh4ZtW3LZ9ajx7NmDXrYi67bAb33rsYgKKiWtx33zlcdVUXAEpKdtK0aZ0Drm3WrM7+86nGjFnEt7/9yv627rrrTK655sC/yqqy3iWXHMdpp7WkY8eGrF+/nXvuWcRll/2dhx/+3AGTqpJfjtygfnoPePpFeGFO9Hr7Tnj2pWgIJXUYZeEyWPNBNPZeHRYsjYaATupSPe3Lp7Js2Ra+9KUZdO/elPvuO5t69QqZPHklN9zwT+rWLeDqqz99QBw6tDN9+7Zi48YdTJmyim9/+xUKCozrr+9WbfX++Mez0q657LIO9O07mVtvnZ13QT1fP+5fUUduUP9sV9i4GV5dCP/8d1TWozN0bQcbPoze79oN01+Fs3pGwzI7QgbmDvv2Re+Liio+JLNnLyxaHq2WqV+30l+SVN5PfjKboqJaPPfcQIqKov+u/fq1YdOmnXz3u6/w5S93oWnTOhmXC5Zm6KUZe6mWLevRsmU9AAYObMe2bXv44Q9f5xvfOHF/H9VRL1VBQS2uuKIjP/7xbNat20br1jmW7SaQYnrsyB1TB7jgNPjRNXDD5fCDr8KX+kHJR9HKFoiWOW7bEWXzoyfEx0dbo2A8egIse7fi/b+9KvrF0FMTpDXFm2+W0LNn8wOCY58+Ldm0aScbNmyne/emrFjxMdu27Umrs3jxh9SuXYsuXRrn7KN37xZ88slu1q/fdkjrlarofH5Npg29Ykdupl6qdhG0ChOUxe9F2fsXzo3eN6gHwy4+8JqnZkbXnHNy5SY3FyyNMvSu7SvehlSpY46pz/z5m9i1ay+1a8cT6a+/voG6dQto1qwOl1xyHKNGzePPf17OsGHRL+Q9e/bxxBPL6d+/LXXqZJiAT/H//t86GjQo4uij6x2yeqX31759A445Jr+ydFCmnurIDerrNkZBvHX0QRHefT9atnhmT2gXMvXCQuiQYXK0sACOqnfguZVro8z+k5Axrf0g+qUB0K1Tet2t2+Gd96B3t+pZUSMVMnJkd6644h9ccsl0bryxG/XqFTJlykomTXqHm28+idq1Czj55BYMHdqJ733vFXbv3kfHjg0ZO3YxK1Z8zKOPxuvC//d/F/Paaxv4/Ofb0LbtUWzatJMnn3yHp55awR139Nn/S6Oq602aVMzkySsZPLg97do1YP36bYwZs5g33tjIpEk1e926VN6RG9QLakVDJy8vgL17oUUTuOgcOLkcHxbKZta86JOqpeYsjg6AUSPS6y5cBvtcQy81zOWXd2Lq1IGMHr2Ab37zJXbs2Evnzo0YM+Ysrr/+M/vrPfjg+fz0p3P42c/msHnzLnr2bMa0aYM45ZQW++ucdFIzJk9exQ9/+BolJTtp0aIun/lMU557biAXXdS+2up17NiQDRt28KMfvU5JyQ6OOqqI3r1bMm3aIAYMaFfN38HDIx+HUSrqoJ8orVCjSfhEqRxySfhEqRxaVfGJ0oYdW3rv2yoeb2Z9/Qj7RKmISE1XnROlZtbOzF40s8VmtsjMvhvKm5nZDDNbFv5tGsrNzO42s2IzW2hmp6S0NSzUX2Zmw1LKTzWzN8M1d5tF09nZ+shFQV1EJLc9wA/cvRvQF7jJzLoBtwAz3b0rMDO8BxgEdA3HCGAsRAEaGAWcDvQBRqUE6bHAdSnXlW4glK2PrBTURSTxqnObAHdf5+5vhNcfA0uANsAQYEKoNgG4NLweAkz0yGtAEzNrDQwAZrh7ibt/CMwABoZzjdz9NY/GwyeWaStTH1kduROlIpIfKr/evIWZzU15Py48H+IAZtYBOBl4HWjl7qUrI94HSh+E0AZ4L+Wy1aEsV/nqDOXk6CMrBXURSbxKLvfYWJ6JUjNrAPwF+J67f2Qpn+Jydzezal2DU94+NPwiIolW+ji76vxEqZkVEQX0R939r6F4fRg6Ify7IZSvAVLXjrYNZbnK22Yoz9VHVgrqIiI5hJUoDwBL3P33KaemAKUrWIYBk1PKrwmrYPoCW8IQynSgv5k1DROk/YHp4dxHZtY39HVNmbYy9ZGVhl9EJPGq+bNHZwFfA940s/mh7CfAHcCTZjYcWAWUbuU6FRgMFAPbgGsB3L3EzH4FzAn1funupQ9vuBF4CKgH/C0c5OgjKwV1EUm86vxEqbv/C8j2Aal+Geo7cFOWtsYD4zOUzwV6ZCjflKmPXBTURSTxtEtATEFdRBJPe7/ENFEqIpJHlKmLSKLl6wOkK0pBXUQST8MvMQV1EUk8xfSYxtRFRPKIMnURSbY8fYB0RSmoi0jiKabHFNRFJNFKN/SSiIK6iCSeYnpME6UiInlEmbqIJJ6GX2IK6iKSeIrpMQV1EUk8ZeoxBXURSTTt/ZJOE6UiInlEmbqIJJ6GX2IK6iKSeIrpMQV1EUk27f2SRmPqIiJ5RJm6iCSeMvWYgrqIJJqWNKZTUBeRxFNQjymoi0jiafglpolSEZE8okxdRBJPiXpMQV1EEk/DLzEFdRFJNK1+SaegLiKJp0w9polSEZE8oqAuIonnlTjKw8zGm9kGM/tPSlkzM5thZsvCv01DuZnZ3WZWbGYLzeyUlGuGhfrLzGxYSvmpZvZmuOZuM7NcfeSioC4iyRY29KroUU4PAQPLlN0CzHT3rsDM8B5gENA1HCOAsRAFaGAUcDrQBxiVEqTHAtelXDfwIH1kpaAuIolX3Zm6u78ElJQpHgJMCK8nAJemlE/0yGtAEzNrDQwAZrh7ibt/CMwABoZzjdz9NXd3YGKZtjL1kZWCuohIxbRy93Xh9ftAq/C6DfBeSr3VoSxX+eoM5bn6yEqrX0Qk0ZxKr35pYWZzU96Pc/dxn+oe3N3MqnUNTnn7UFAXkcSrZDTd6O69K3DdejNr7e7rwhDKhlC+BmiXUq9tKFsDnF+mfFYob5uhfq4+stLwi4gk3iGYKM1kClC6gmUYMDml/JqwCqYvsCUMoUwH+ptZ0zBB2h+YHs59ZGZ9w6qXa8q0lamPrJSpi0jiVfdnj8xsElGW3cLMVhOtYrkDeNLMhgOrgCtD9anAYKAY2AZcC+DuJWb2K2BOqPdLdy+dfL2RaIVNPeBv4SBHH1kpqIuIHIS7fznLqX4Z6jpwU5Z2xgPjM5TPBXpkKN+UqY9cFNRFJPG0TUBMQV1EEk0beqVTUBeRxFOmHlNQF5HEU0yPVU9QX7dxI7ePW1UtbSdPC2Dj4b6JmsBuP9x3UGPoZyJ23OG+gXxTLUHd3VtWR7tJZGZzK/jBBslT+pmoYpVfb55XNPwiIomnmB5TUBeRRKuCvV/yirYJqH6famMgOSLoZ0KqjTL1avZpd3uT/KefiaqnRD2moC4iiafhl5iCuogknmJ6TEG9CpnZiUSPnyp9askaYIq7Lzl8dyWS/5SpxzRRWkXM7MfA44ABs8NhwCQzO+jDYuXIZGbXHu57kPyiTL3qDAe6u/vu1EIz+z2wiGhfZJGybgcePNw3kWTa0CudgnrV2QccS7SRfarW4ZwcocxsYbZTlONBwnJwGn6JKahXne8BM81sGfETw9sDXYCRh+umpEZoBQwAPixTbsArh/528o9iekxBvYq4+zQzOx7oQ/pE6Rx333v47kxqgOeABu4+v+wJM5t1yO9G8pqCehVy933Aa4f7PqRmcffhOc595VDeS17Shl5pFNRFJPEU02MK6iKSaNrQK52CuogknmJ6TB8+EhHJI8rURSTxNPwSU1AXkcRTTI8pqItI4ilTjymoi0iiae+XdJooFRHJI8rURSTxNPwSU1AXkcRTTI8pqItIsmnvlzQaUxcRySPK1EUk8ZSox8z1d4uIJJiZTQNaVKKJje4+sKru53BTUBcRySMaUxcRySMK6iIieURBXUQkjyioi4jkEQV1EZE88v8BvhX1zv4Bpr0AAAAASUVORK5CYII=\n",
       "datasetInfos": [],
       "metadata": {},
       "removedWidgets": [],
       "type": "image"
      }
     },
     "output_type": "display_data"
    }
   ],
   "source": [
    "# Create the model with best param\n",
    "model_xgb = XGBClassifier(\n",
    "    n_estimators=best_parameters['n_estimators'],\n",
    "    max_depth=best_parameters['max_depth'],\n",
    "    learning_rate=best_parameters['learning_rate']\n",
    ")\n",
    "\n",
    "## K-fold validation on Training dataset\n",
    "accuracy_kf = []\n",
    "precision_kf = []\n",
    "recall_kf = []\n",
    "f1_kf = []\n",
    "conf_mat = None\n",
    "\n",
    "cv = model_selection.KFold(n_splits=5, shuffle=True)\n",
    "\n",
    "for train, test in cv.split(X_train, y_train):\n",
    "    prediction = model_xgb.fit(X_train[train],y_train[train]).predict(X_train[test])\n",
    "    true = y_train[test]\n",
    "    accuracy_kf.append(accuracy_score(true, prediction))\n",
    "    precision_kf.append(precision_score(true, prediction))\n",
    "    recall_kf.append(recall_score(true, prediction))\n",
    "    f1_kf.append(f1_score(true, prediction))\n",
    "\n",
    "    # Constructing the confusion matrix\n",
    "    if conf_mat is None:\n",
    "        conf_mat = confusion_matrix(true, prediction, labels=[0, 1])\n",
    "    else:\n",
    "        conf_mat += confusion_matrix(true, prediction, labels=[0, 1])\n",
    "\n",
    "print('Model metrics on Training dataset:\\n')\n",
    "print('Accuracy: %0.2f' % mean(accuracy_kf))\n",
    "print('Precision: %0.2f' % mean(precision_kf))\n",
    "print('Recall: %0.2f' % mean(recall_kf))\n",
    "print('F1: %0.2f' % mean(f1_kf))\n",
    "\n",
    "fig = plt.figure(figsize=(6,6))\n",
    "width = np.shape(conf_mat)[1]\n",
    "height = np.shape(conf_mat)[0]\n",
    "\n",
    "res = plt.imshow(np.array(conf_mat), cmap=plt.cm.summer, interpolation='nearest')\n",
    "for i, row in enumerate(conf_mat):\n",
    "    for j, c in enumerate(row):\n",
    "        if c>0:\n",
    "            plt.text(j-.2, i+.1, c, fontsize=16)\n",
    "\n",
    "cb = fig.colorbar(res)\n",
    "plt.title('Confusion Matrix')\n",
    "_ = plt.xticks(range(2), [0, 1], rotation=90)\n",
    "_ = plt.yticks(range(2), [0, 1])"
   ]
  },
  {
   "cell_type": "code",
   "execution_count": 0,
   "metadata": {
    "application/vnd.databricks.v1+cell": {
     "cellMetadata": {
      "byteLimit": 2048000,
      "rowLimit": 10000
     },
     "inputWidgets": {},
     "nuid": "385bfff6-dc85-4c29-b613-505af91e049b",
     "showTitle": false,
     "title": ""
    }
   },
   "outputs": [
    {
     "output_type": "stream",
     "name": "stdout",
     "output_type": "stream",
     "text": [
      "Model metrics on Test dataset:\n\nAccuracy: 0.99\nPrecision: 0.99\nRecall: 0.99\nF1: 0.99\n"
     ]
    },
    {
     "output_type": "display_data",
     "data": {
      "image/png": "[encoded data removed]"
     },
     "metadata": {
      "application/vnd.databricks.v1+output": {
       "addedWidgets": {},
       "arguments": {},
       "data": "data:image/png;base64,iVBORw0KGgoAAAANSUhEUgAAAXUAAAFXCAYAAABdmd71AAAAOXRFWHRTb2Z0d2FyZQBNYXRwbG90bGliIHZlcnNpb24zLjUuMSwgaHR0cHM6Ly9tYXRwbG90bGliLm9yZy/YYfK9AAAACXBIWXMAAAsTAAALEwEAmpwYAAAxNUlEQVR4nO3deXxV1b3//9cnDBGZDIMIRCQoakVrRKxQ24q0TFbAeq3iUKjlV6+32O/t49s61arYW6vUe2uv91q/D1oHnFBRq6hIShW0DihBEAVbiQxCQBES5jHw+f2xV7LPyQRkgOzD+/l4nEdO1l577Z1w+JxPPnudtc3dERGRzJB1qE9AREQajoK6iEgGUVAXEckgCuoiIhlEQV1EJIMoqIuIZBAFdRGRWpjZsWY2y8wWm9kiM/v30N7BzGaa2ZLwNSe0m5nda2ZFZrbQzPqmjDU29F9iZmNT2s80sw/DPveamdV2jNooqIuI1K4M+Lm7nwL0B8ab2SnAjcCr7t4beDV8DzAc6B0eVwP3QxSggduAs4GvAbelBOn7gR+n7DcstNd0jBopqIuI1MLd17j7++H5ZuBjoDswCpgcuk0GLgzPRwGPeGQOcJSZdQWGAjPdvcTdS4GZwLCwrZ27z/Ho06CPVBqrumPUqHk9flYRkUNu2LBjfd26HXXef968dQXuPmzfPcHMegJnAO8CXdx9Tdj0OdAlPO8OrEzZbVVoq619VTXt1HKMGimoi0iirVu3g7mFF9V5/yybdLKZFaY0TXL3SZX7mVkb4FngZ+6+KZS9AXB3N7NGXXNlf4+hoC4iiVfPJazWuXu/2jqYWQuigP64uz8Xmr8ws67uviaUUNaG9mLg2JTdc0NbMTCwUvvs0J5bTf/ajlEj1dRFJPG8Ho99CTNRHgA+dvffp2yaBpTPYBkLvJDSPibMgukPbAwllAJgiJnlhAukQ4CCsG2TmfUPxxpTaazqjlEjZeoiIrU7B/gB8KGZLQhtvwTuAp42s3HACuCSsG06cD5QBGwDrgJw9xIz+w9gbuj3a3cvCc9/AjwMtAJeCQ9qOUaNTEvvikiSndmvs7/7Xt1r6i2aTZq3r/JLkihTF5HEU2oaU1AXkcRTwSGmC6UiIhlEmbqIJJ4S9ZiCuogkm6v8kkpBXUQSbX/nmx8uFNRFJPGUqcd0ofQwZ2atzOxFM9toZlPrMc4VZvbXhjy3Q8HMXkld51okaRTUE8LMLjezQjPbYmZrQvD5RgMMfTHRym8d3f37dR3E3R939yENcD5pzGygmbmZ/aVS++mhffZ+jjPBzB7bVz93H+7uk/fVT5qWxlwmIGkU1BPAzP4v8Afgt0QBuAfwR6K1luvrOOATdy9rgLEay5fAADPrmNI2FvikoQ4Q1unQ/4eEcq/7I9PoRdzEmVl74NfAeHd/zt23uvtud3/R3a8LfbLN7A9mtjo8/mBm2WHbQDNbZWY/N7O1Icu/Kmy7HbgVuDT8BTCuckZrZj1DRtw8fP9DM1tqZpvNbJmZXZHS/mbKfl83s7mhrDPXzL6esm22mf2Hmb0VxvmrmXWq5dewC3geGB32bwZcCjxe6Xf132a20sw2mdk8M/tmaB9GtFZH+c/5Qcp53GFmbxGt0dErtP1/Yfv9ZvZsyvgTzexVS11zVZoEZeoxBfWmbwBwBPCXWvrcTHSbrXzgdKJbZf0qZfsxQHuihffHAfeZWY6730aU/T/l7m3c/YHaTsTMWgP3AsPdvS3wdWBBNf06AC+Hvh2B3wMvV8q0Lyda6OhooCXwi9qOTXQ3mDHh+VDgI2B1pT5ziX4HHYAngKlmdoS7z6j0c56ess8PiG451pZowaRUPwdOC29Y3yT63Y11LZjUpDjK1FMpqDd9HYnWe66tPHIF0Ypva939S+B2omBVbnfYvtvdpwNbgJPqeD57gVPNrFW4zdeiavp8F1ji7o+6e5m7TwH+AYxI6fOQu3/i7tuBp4mCcY3c/W2gg5mdRBTcH6mmz2Puvj4c87+AbPb9cz7s7ovCPrsrjbeN6Pf4e+Ax4Kfuvqq6QUSaCgX1pm890Km8/FGDbqRnmStCW8UYld4UtgFtDvRE3H0rUdnjGmCNmb1sZifvx/mUn1P3lO8/r8P5PApcC5xHNX+5mNkvzOzjUPLZQPTXSW1lHUi/vVgV7v4usBQwojcfaYJUfokpqDd97wA7qf2Gs6uJLniW60HV0sT+2gocmfL9Makb3b3A3QcDXYmy7z/tx/mUn1NxNX0PxKNE605PD1l0hVAeuZ5ovekcdz8K2EgUjKHm/7+1/r82s/FEGf/qML40QSq/xBTUmzh330h0MfM+M7vQzI40sxZmNtzMfhe6TQF+ZWadwwXHW4nKBXWxAPiWmfUIF2lvKt9gZl3MbFSore8kKuPsrWaM6cCJYRpmczO7FDgFeKmO5wSAuy8DziW6hlBZW6CMaKZMczO7FWiXsv0LoOeBzHAxsxOB3wBXEpVhrjez/LqdvTQmZeoxBfUECPXh/0t08fNLopLBtUQzQiAKPIXAQuBD4P3QVpdjzQSeCmPNIz0QZ4XzWA2UEAXYf6tmjPXABUQXGtcTZbgXuPu6upxTpbHfdPfq/gopAGYQTXNcAewgvbRS/sGq9Wb2/r6OE8pdjwET3f0Dd19CNIPm0fKZRSJNke58JCKJlt+3s7/2Vt3vfNTxSN35SESkSVFqGlNQF5HEU8EhpqAuIomnoB7ThVIRkQyiTF1EEk+JeqxRgnqnTkd4z55tG2NoSbB5df04lGSuDZvxbTvqtUBa+dovEmmUoN6zZ1sKC+s+xUgyk0041GcgTc6k5xpkGMX0mMovIpJ4CuoxXSgVEckgytRFJPFUU48pqItI4immxxTURSTRMnUJ3bpSTV1EJIMoUxeRxFOiHlOmLiKJ19h3PjKzB81srZl9lNL2lJktCI/lZrYgtPc0s+0p2/5fyj5nmtmHZlZkZveamYX2DmY208yWhK85od1CvyIzW2hmffd1rgrqIpJ4B+HORw8Dw9KO6X6pu+e7ez7wLJD6SapPy7e5+zUp7fcDPwZ6h0f5mDcCr7p7b+DV8D3A8JS+V4f9a6WgLiKJ19iZuru/QXS3rypCtn0J0W0la2RmXYF27j7Ho7sTPUJ87+FRwOTwfHKl9kc8Mgc4KoxTIwV1EZH6+SbwRbjlYbk8M5tvZq+Hm6IDdAdWpfRZFdoAurj7mvD8c6BLyj4ra9inWrpQKiKJ1gA3kO5kZoUp309y90kHsP9lpGfpa4Ae7r7ezM4EnjezPvs7mLu7mdX5R1JQF5HEq+c89XV1vUdpuEH5RcCZ8bn4TmBneD7PzD4FTgSKgdyU3XNDG8AXZtbV3deE8sra0F4MHFvDPtVS+UVEEu8gXCityXeAf7h7RVnFzDqbWbPwvBfRRc6lobyyycz6hzr8GOCFsNs0YGx4PrZS+5gwC6Y/sDGlTFMtBXURkX0wsynAO8BJZrbKzMaFTaOpeoH0W8DCMMXxGeAady+/yPoT4M9AEfAp8EpovwsYbGZLiN4o7grt04Glof+fwv61UvlFRJLtICwT4O6X1dD+w2raniWa4lhd/0Lg1Gra1wPfrqbdgfEHcq4K6iKSePpEaUxBXUQSTbezS6egLiKJp5ge04VSEZEMokxdRBJP5ZeYgrqIJJ5iekxBXUQST5l6TEFdRBKtgT4ZmjF0oVREJIMoUxeRxFP5JaagLiKJp5geU1AXkWQ7CGu/JIlq6iIiGUSZuogknhL1mIK6iCSaFvRKp6AuIomnmB5TUBeRxFOmHtOFUhGRDKJMXUQST4l6TEFdRBJP5ZeYgrqIJJpmv6RTUBeRxFNMj+lCqYhIBlGmLiLJprVf0iioi0jiKabHFNRFJPEU1GOqqYuIZBBl6iKSaJrSmE5BXUQSTzE9pqAuIomnTD2moC4iiaeYHtOFUhGRDKKgLiKJ5173x/4wswfNbK2ZfZTSNsHMis1sQXicn7LtJjMrMrN/mtnQlPZhoa3IzG5Mac8zs3dD+1Nm1jK0Z4fvi8L2nvs6VwV1EUk0r+djPz0MDKum/R53zw+P6QBmdgowGugT9vmjmTUzs2bAfcBw4BTgstAXYGIY6wSgFBgX2scBpaH9ntCvVgrqIpJ4jZ2pu/sbQMl+ns4o4El33+nuy4Ai4GvhUeTuS919F/AkMMrMDBgEPBP2nwxcmDLW5PD8GeDboX+NFNRFJPEOQqZek2vNbGEoz+SEtu7AypQ+q0JbTe0dgQ3uXlapPW2ssH1j6F8jBXUROdx1MrPClMfV+7nf/cDxQD6wBvivxjrBA6EpjSKSbPVfpXGdu/c74MO6f1H+3Mz+BLwUvi0Gjk3pmhvaqKF9PXCUmTUP2Xhq//KxVplZc6B96F8jZeoikniHovxiZl1Tvv0eUD4zZhowOsxcyQN6A+8Bc4HeYaZLS6KLqdPc3YFZwMVh/7HACyljjQ3PLwZeC/1rpExdRBLtYKz9YmZTgIFEpZpVwG3AQDPLD6ewHPhXAHdfZGZPA4uBMmC8u+8J41wLFADNgAfdfVE4xA3Ak2b2G2A+8EBofwB41MyKiC7Ujt7XuSqoi4jsg7tfVk3zA9W0lfe/A7ijmvbpwPRq2pcSzY6p3L4D+P6BnKuCuogknpYJiCmoi0jiaUGvmIK6iCSeYnpMQV1EEk+Zemy/pjTWtAiNiIg0LfsM6vtYhEZE5JA6SAt6Jcb+ZOrVLkLTuKclIrL/GntBryTZn6Be0yI0IiJNgjL1WINdKA2L4FwN0KNHm4YaVkSkdhmacdfV/mTqtS1OU8HdJ7l7P3fv17nzEQ11fiIicgD2J1OvWISGKJiPBi5v1LM6CJ55ZilTphRRWLiOtWu306NHGy66KI9f/jKftm1bVvQrLd3JddfN4fnnl7N9+x4GDOjCPfcM4LTTOqSNt2NHGbfcUshjjy1hw4Zd5Od3ZOLEs/nWt7pWPjTFxVu55Za5TJ++ktLSnXTr1prRo4/nzjvjTwlPnvwJ06Ytp7BwHZ99toWxY0/k4YcHVvuzvPnm51x//bvMn7+O9u1bcvnlJ3DHHWfRqpVmrB6wxUvhoyJYvQ62bof2beDkPPhmPmSH18XqL+G1ubC2BLbthCNaQtdO8K2+cGyX9PE+Xwd/ew8++xzMoGdXGDoAOrRP77dxC8yaC8tWw7Yd0K4N9OkF38iHli0Oxk+eaErUY/v8X+/uZbUsQpNY//mfC+nRow2//e1Z5Oa2Zv789UyYMI9Zs1bz9tujyMoy3J0RI2awfPkW/ud/ziEnJ5s771zAeee9yIIF/0JublxmGjfuDV5++TPuvvtsevVqx333LWLo0Om8884o8vM7VfRbvnwz55zzAnl5bbn33q/TpUsrli/fQlHRxrTze+yxJXz55Q4GD+7O1KlLa/w5Fi5cz+DBLzN0aC4vvTSMZcs2c911cygu3spTT32n4X9xme7thVEgH3QWtGsNn6+H2fNg+WoYNyoKzDt2QYd2kH8itDkStu6AOR/Cwy/Cj0ZC96OjsdZvhIdehKNz4KJBsHcvvP5+1HbNv0DrVlG/XbvhkZej7eedFR1/9drouCUb4WL9O9bmYCzolST7lcrVtAhNkr344lA6d25V8f2553ajQ4dsxo6dzezZqxk0qDvTpq3grbe+4LXXLuC887oBMGBAF/LypvC7333AvfeeA8AHH6zniSeKePDBc7nqqpPCeF3p02cqt95ayLRp8a0Nr7nm73Tv3ppZs0bQokVW6Fv1/AoKzicrK7pr1YwZq2r8OW67bR65ua2ZOnVwxXgtW2YxduxsbrhhHX37dqpxX6nGZUPjYAvQsxu0yobnZ0eBPa879AqPVCfkwt2PwAdL4qD+1oLoTeCK4XBEdtSWezTc+xS8/QEM7h+1rfwiCt5Xng/H50Zted1g+87oTWZ3GbTQX121UUyPHbbrqacG9HJnndUZiMojANOmraBbtyMrAjpA+/YtGTGiBy+8sKKibdq0FbRokcWllx5f0da8eRajRx9PQcEqdu7cA8Cnn26ioGAVP/1pn4oAXJPygF6b3bv3MmPGSi65pFfaeJdc0ouWLbN44YXl+xxDKmld9XVBt+h1waatNe/XsgU0awap/26r1kblmPKADlFZ5egc+MfyuG1P9Pogu1KZ5YjszJ13J43msA3q1Xn99TUAfOUr0a0GFy0q5dRTO1Tp16dPDp99toUtW3aHfiXk5bXlyCObV+m3a9feitLKW299DkCrVs0ZPPhlsrP/TE7Ow4wZM4v163cc8Pl++ukmduzYU+UcjziiOccf347Fi0sPeEypxorodUHnnPR2d9izN6qHT38rajvzK/H2LINm1fwXa94MSjZBWbglZa/uUY39b+/Bl6VROWZZMbz7IfQ7RTX1/aB56jH9TRcUF2/l1lsL+c53utOvX5SZlZTspGfPqtMzO3SIZveUlu6kTZsWlJTsJCcnu5p+2RXjAKxevQ2AH/3odX7wg97cdFM+RUWbuOmm91i8uJT33vvefmXo5UpKojeCmo5dflyph01bYVZhFHjLM/ZyU/8GHy+LnrduFZVZUgN/x6Oi0sqevXFw37kL1oY32+27oG1zaN48qsU/PRP+ODXe/4yT4fxzGu1HyyQZGJvrTEEd2LJlN6NGFdC8eRYPPVRNgbuB7N0bvfQGDuzKffd9A4BBg7rTvn1LRo9+lYKClQwf3qPRji8HaNdueLIAsrJgVDWvi8FnwzmnR4F/7iJ4YgaM+W4c/M8+NZpN89Lf4bx+0YXQv86JxgUof/8uK4Nn/hbNtvneedGF0uK10UXVLIMLvnlQftwky8SMu64O+/LL9u1ljBgxg6VLN1NQcH7ajJacnJaUlu6qsk/lDDknJ5vS0qpZcXmmXJ6xd+wYfR08ODet35Ah0ffz59d6P9kqyo9f07HLjyt1sLsMpsyA0s3RBcx21XygLqdddFH0K3lRlt66VTTVsVyPY6JM++OlcM/j8N9Tokz99BOjzL1V+DzH+/+E5Wvg8uHw1d5wXFf4+ukwpD/M+ziagSM10tov6Q7rTH337r1cfPFMCgvXMXPm+VXmnvfpk8Nf/1rlc1YsXryBHj3a0KZNi4p+f/nLcrZtK0urqy9eXErLllmccEL70K9qfT7VgZReAI4/vh3Z2c1YtCi9dr5jRxlLl27m+9/vdUDjSbBnL0ydGc1V/8H50KX2fzcgukjapUPVAHxWn6iMUrIxmufevg08/kr0ZlBekllbEl0U7dAufd/yWTTrSuGYjvX/ueSwcNhm6nv3Oldc8Rqvvbaa558fQv/+Xar0GTmyJ8XFW3n99dUVbZs27eLFF1cwcuRxFW0jRhzH7t170+aTl5Xt5amnljJkSC7Z2c0A6N//aI45phUFBelTFGfMiJbWKZ99s79atmzGsGG5PP30UsrK9la0P/PMMnbu3JN2jrKf3OG516IPAV06BHKrvi6qtbss+lBS5cAM0YXRoztEAf2LEli6KroAWq5NK9ixMwr8qYrXRl/btq7bz3IY0YXS2GGbqY8f/yZTpy7l5pvPoHXr5syZ80XFttzc1uTmtmHkyOMYMKALV145i7vvPrviw0fucP31p1f0P+OMTlx6aS9+9rO32b17L3l5bbn//sUsW7aZxx8fVNGvefMs7rrrbH74w9lcc83fueiiPIqKNnLzzXMZOLArgwbFUycXLy6tmL2yfXsZK1Zs5plnojeNc8/tWjElc8KEM+nf/wUuueRvjB/fh+XLN3Pdde9y8cV5nHnmgb1JCPDym1Ed/JtnQMvmsCp+XdCudVSGefGNqHTSrRMceUQ0++W9RbBlW1QTL7dpC8xdDMceA82zosz/zflRuea0E+J++SfBOx/C4zOi47ZvE71BvPF+9EnVHsccvJ8/iTI0ONeVeSP8Nvr16+yFhRc1+LgNqWfPJ1ixYku12267rS8TJvQDovr5L34xh+efX8GOHWUMGNCF3/9+AKefnv7n8PbtZdx881yeeKKIDRt2cfrpHZg48WwGDuxWZfxHH/2EiRM/YMmSjXTokM3FF/fizju/VlHOAZgwoZDbb3+/2vObNeuCtHHfeGMNN9zwLvPnr6d9+5Zcdtnx/Pa3X6syxfJQswmH+gz2wx+eiIJ0dc7tCwP7wfx/RHXw9RtgVxm0OzIqlXzjjPRSzZZt8NysaKmAXbujGvwZJ0P/U6OLr6m+LI0+Qbrqi3iZgJOOi4J8qwy+NjLpOXz1lwdWd6zk+D6d/c6n6x5vLj110jx371efc2hKDtugLgdfIoK6HFwNFNR/+1Td483o0zIrqB+2NXURkUzUtP4+FxE5QJk6NbGuFNRFJPEU1GMK6iKSeJr9ElNNXUQkgyhTF5HEU6IeU1AXkcRT+SWmoC4iiabZL+kU1EUk8ZSpx3ShVEQkgyioi0jiNfZ66mb2oJmtNbOPUtruNrN/mNlCM/uLmR0V2nua2XYzWxAe/y9lnzPN7EMzKzKze83MQnsHM5tpZkvC15zQbqFfUThO332dq4K6iCRbPZbdPYCyzcPAsEptM4FT3f2rwCfATSnbPnX3/PC4JqX9fuDHQO/wKB/zRuBVd+8NvBq+Bxie0vfqsH+tFNRFJNEOxp2P3P0NoKRS21/dPdw9nDlAbpUdU5hZV6Cdu8/xaCXFR4ALw+ZRwOTwfHKl9kc8Mgc4KoxTIwV1EUm8embqncysMOVxdR1O4UfAKynf55nZfDN73czKbzLbHUi9Q86q0AbQxd3XhOefA11S9llZwz7V0uwXETncravP0rtmdjNQBjwemtYAPdx9vZmdCTxvZn32dzx3dzOr83weBXURSbxDNaPRzH4IXAB8O5RUcPedwM7wfJ6ZfQqcCBSTXqLJDW0AX5hZV3dfE8or4V6GFAPH1rBPtVR+EZHEOxT3KDWzYcD1wEh335bS3tnMmoXnvYguci4N5ZVNZtY/zHoZA7wQdpsGjA3Px1ZqHxNmwfQHNqaUaaqlTF1EEq+xM3UzmwIMJKq/rwJuI5rtkg3MDDMT54SZLt8Cfm1mu4G9wDXuXn6R9SdEM2laEdXgy+vwdwFPm9k4YAVwSWifDpwPFAHbgKv2da4K6iIi++Dul1XT/EANfZ8Fnq1hWyFwajXt64FvV9PuwPgDOVcFdRFJNEfLBKRSUBeRxFNMjymoi0jiKVOPKaiLSOIppsc0pVFEJIMoUxeRZKvnfPNMo6AuIommOx+lU1AXkcRTph5TTV1EJIMoUxeRxFOiHlNQF5HEU/klpqAuIomnmB5TUBeRRNPaL+l0oVREJIMoUxeRxFOiHlNQF5HEU/klpqAuIomnmB5TUBeRZNPaL2l0oVREJIMoUxeRRNOUxnQK6iKSeIrpMQV1EUk8Zeox1dRFRDKIMnURSTwl6jEFdRFJPAX1mIK6iCSaZr+kU1AXkcRTTI/pQqmISAZRpi4iiafyS0xBXUQSTzE9pqAuIsmmBb3SKKiLSKI5ytRT6UKpiMg+mNmDZrbWzD5KaetgZjPNbEn4mhPazczuNbMiM1toZn1T9hkb+i8xs7Ep7Wea2Ydhn3vNzGo7Rm0aJVOftxpsQmOMLEnmEw71GUhT0++lhhnnIJRfHgb+F3gkpe1G4FV3v8vMbgzf3wAMB3qHx9nA/cDZZtYBuA3oR/THxTwzm+bupaHPj4F3genAMOCVWo5RI2XqIpJ4Xo/Hfo3v/gZQUql5FDA5PJ8MXJjS/ohH5gBHmVlXYCgw091LQiCfCQwL29q5+xx3d6I3jgv3cYwaqaYuIolXz0y9k5kVpnw/yd0n7cd+Xdx9TXj+OdAlPO8OrEzptyq01da+qpr22o5RIwV1ETncrXP3fvUZwN3dzBq1CLS/x1D5RUQSr7HLLzX4IpROCF/XhvZi4NiUfrmhrbb23GraaztGjRTURSTRyhf0quujHqYB5TNYxgIvpLSPCbNg+gMbQwmlABhiZjlhFssQoCBs22Rm/cOslzGVxqruGDVS+UVEEq+xJ7+Y2RRgIFH9fRXRLJa7gKfNbBywArgkdJ8OnA8UAduAqwDcvcTM/gOYG/r92t3LL77+hGiGTSuiWS+vhPaajlEjBXURSbzGntLo7pfVsOnb1fR1YHwN4zwIPFhNeyFwajXt66s7Rm1UfhERySDK1EUk8bRMQExBXUSSTQt6pVFQF5FE04Je6RTURSTxlKnHdKFURCSDKFMXkcRToh5TUBeRxFP5JaagLiKJp5geU01dRCSDKFMXkUQrX9BLIgrqIpJ4iukxBXURSTxl6jEFdRFJPMX0mC6UiohkEGXqIpJsWtArjYK6iCSaFvRKp6AuIomnTD2moC4iiaegHtOFUhGRDKJMXUQST4l6TEFdRBJP5ZeYgrqIJJpmv6RTTV1EJIMoUxeRxFOmHlNQF5HEU009pqAuIomnmB5TUBeRZNPaL2l0oVREJIMoUxeRRNOUxnQK6iKSeCq/xBTURSTxFNNjqqmLSOK51/2xL2Z2kpktSHlsMrOfmdkEMytOaT8/ZZ+bzKzIzP5pZkNT2oeFtiIzuzGlPc/M3g3tT5lZy7r+LhTURURq4e7/dPd8d88HzgS2AX8Jm+8p3+bu0wHM7BRgNNAHGAb80cyamVkz4D5gOHAKcFnoCzAxjHUCUAqMq+v5KqiLSOJ5PR4H6NvAp+6+opY+o4An3X2nuy8DioCvhUeRuy91913Ak8AoMzNgEPBM2H8ycOGBn1pEQV1EEs2pd/mlk5kVpjyuruVwo4EpKd9fa2YLzexBM8sJbd2BlSl9VoW2mto7AhvcvaxSe50oqItI4tUzU1/n7v1SHpOqO0aoc48Epoam+4HjgXxgDfBfDf+THTjNfhER2T/Dgffd/QuA8q8AZvYn4KXwbTFwbMp+uaGNGtrXA0eZWfOQraf2P2DK1EUk8Rpz9kuKy0gpvZhZ15Rt3wM+Cs+nAaPNLNvM8oDewHvAXKB3mOnSkqiUM83dHZgFXBz2Hwu8cOC/hYgydRFJvMaep25mrYHBwL+mNP/OzPLD4ZeXb3P3RWb2NLAYKAPGu/ueMM61QAHQDHjQ3ReFsW4AnjSz3wDzgQfqeq4K6iKSbAdhQS9330p0QTO17Qe19L8DuKOa9unA9GralxLNjqk3BXURSTSt/ZJONXURkQyiTF1EEk8LesUU1EUk8RTTYwrqIpJ4ytRjqqmLiGQQZeoiknhK1GMK6iKSaOULeklEQV1EEk8xPaagLiKJp0w9pgulIiIZRJm6iCSeEvWYgrqIJFodltDNaArqIpJ4iumxfdbUw7331prZR/vqKyJyKBykm2Qkwv5cKH0YGNbI5yEiIg1gn0Hd3d8ASg7CuYiI1Ek9bzydUVRTF5HEy8QySl01WFA3s6uBqwFo36ahhhURqZWWCUjXYB8+cvdJ7t7P3ftx5BENNayIiByAw7f8sngpfFQEq9fB1u3RXxcn58E38yG7ZdxvbQnMKoRVa2HnLjiqLeSfCP1Pg6yU98R3FsLy1bD6S9iyHc7tCwP7pR9zw2b47yk1n9O/DIJTT2jQH1MOzDPPLGXKlCIKC9exdu12evRow0UX5fHLX+bTtm38uigt3cl1183h+eeXs337HgYM6MI99wzgtNM6pI23Y0cZt9xSyGOPLWHDhl3k53dk4sSz+da3ulY5dnHxVm65ZS7Tp6+ktHQn3bq1ZvTo47nzzuh+xLNnr+a8816q8dzfeWcU/ft3YdOmXfzhDx8yY8Yq/vnPDezZ45xySg7XX386F17Ys2F+UU2MEvXYPoO6mU0BBgKdzGwVcJu7P9DYJ9bo3l4YBfJBZ0G71vD5epg9LwrM40aBGWzeCpNfgratYdgAOPIIWFoMM9+FrTtg8NnxeO//A7JbwEk9Yd7H1R+zzZHR2JW9VgiffQ7HH9soP6rsv//8z4X06NGG3/72LHJzWzN//nomTJjHrFmrefvtUWRlGe7OiBEzWL58C//zP+eQk5PNnXcu4LzzXmTBgn8hNzcuP44b9wYvv/wZd999Nr16teO++xYxdOh03nlnFPn5nSr6LV++mXPOeYG8vLbce+/X6dKlFcuXb6GoaGNFn759O/HOO1VfP+PGvUFJyQ7OOqszAJ99toU//nExV111ErfccgZZWcaUKZ/yve/9lf/933MYP75PI/4GDw2VX2L7DOruftnBOJGD7rKh0LpV/H3PbtAqG56fHQX2vO7wyWewbQf8aCR0PCrql9cdSjfBwk/Sg/pPvh+9EezdW3NQb94Mcrukt+0ug+K1cFKP6PhySL344lA6d45fF+ee240OHbIZO3Y2s2evZtCg7kybtoK33vqC1167gPPO6wbAgAFdyMubwu9+9wH33nsOAB98sJ4nnijiwQfP5aqrTgrjdaVPn6ncemsh06bFM4WvuebvdO/emlmzRtCiRVbom35u7dq1pH//9NfPihWb+fjjUn7+86/SrFm0X15eW5YuvYwjj4z/ew8deiwrV25h4sQFmRnUD/UJNCGH74JeqQG9XLco02HT1ujrnj3R19RyDMAR2VVfRWZ1O4+Pl8Gu3XD6iXXbXxpUakAvV54BFxdHr4tp01bQrduRFQEdoH37lowY0YMXXlhR0TZt2gpatMji0kuPr2hr3jyL0aOPp6BgFTt3Rq+vTz/dREHBKn760z4VAX1/PfroEtxh7Nj49dO6dYu0gF6uX7/OrF697YDGTwpNaYwdvkG9OivWRF8750RfT+kVlVymvxVl5zt3RUF44RIYcFrDHPODT6I3mBNUemmqXn89el185SvR62LRolJOPbVDlX59+uTw2Wdb2LJld+hXQl5e2yoBtk+fHHbt2ltRWnnrrc8BaNWqOYMHv0x29p/JyXmYMWNmsX79jlrP7ZFHltC3b6dqz6eyN95Yw8knH7XPfpJsCurlNm2NLoj26h5n7OU18HUb4N4n4a6H4emZcM7pcE5+wxxz2Wo47YT0i67SZBQXb+XWWwv5zne6069f9LooKdlJTk7LKn07dIhmfZWW7kzpV7Wk1qFDdsV2oCJ7/tGPXufEE9vzyivDmTjxbF5++TOGDp3O3r3V55PvvPMFS5ZsTMvSazJp0sfMmbOWm27K32ffpKnPEgGZWIs/fGe/pNq1G54siALrqJRC5tbt8NRMaNEcvv+dKGtfthremA/NmsE38ut33IVLoldVvkovTdGWLbsZNaqA5s2zeOihc/e9Qx2VB+2BA7ty333fAGDQoO60b9+S0aNfpaBgJcOH96iy3+TJn9CiRRaXX177jKnZs1fzf/7P24wZ05srrujd8D9AE5CBsbnOlB7uLoMpM6B0M1x5PrRL+eDUWx9E0xCvPD8qxfTsBuf1g69/Ncrqt9X+p/E+ffAJHNMRunSs3zjS4LZvL2PEiBksXbqZgoLz02a05OS0pLR0V5V9Skp2hO3ZFV/Ls/b0flFbecbesWP0dfDg3LR+Q4ZE38+fv77KGDt37uHpp5fy3e/2oFOnmj8XMnfuWkaOLGDQoG78+c+N98Z0qClTjx3eQX3PXpg6M5qrfsUw6FKpLrm2BDq0qzorpfvR0SyXko3UWfHaqKyjC6RNzu7de7n44pkUFq5j+vRhVeae9+mTw6JFpVX2W7x4Az16tKFNmxYV/ZYt28y2bWWV+pXSsmUWJ5zQPvSrvR6elVX1Ivy0aSsoLd1Za+nlww9LGDr0FfLzO/Lss4MP+CJskuhCaSxz/5X3xR2eey0qp1w6pOpUQ4hq6iWbYHulbKt4bfS1beu6H/+DTyDLonq6NBl79zpXXPEar722muefH1JlCiHAyJE9KS7eyuuvr65o27RpFy++uIKRI4+raBsx4jh2797L1KlLK9rKyvby1FNLGTIkl+zsZgD07380xxzTioKCVWnHmTFjJRDPvkk1efIndOp0BN/9btWyDMCSJRsZPPhlevVqy0svDaNVK1VaDxeH77/0y29Gnyr95hnQsjms+iLe1q51VIbp9xX4cAk8Nj0qubQ6IprD/vZCOLln+ho3q7+MSjXlf899uSEaH6B3j6guX27PHvjo02jGS3VTK+WQGT/+TaZOXcrNN59B69bNmTMnfl3k5rYmN7cNI0cex4ABXbjyylncfffZFR8+cofrrz+9ov8ZZ3Ti0kt78bOfvc3u3XvJy2vL/fcvZtmyzTz++KCKfs2bZ3HXXWfzwx/O5ppr/s5FF+VRVLSRm2+ey8CBXRk0qFvaOa5du52CgpX827+dUm32vXbtdgYPfpldu/Zy++39WLw4/a+KM87oVPGGkikysYxSV4dvUC+KsiD+Pj96pCr/iH9uF7hqJLz+Psx4G3bujpYJOLcvDPhq+j7vLYqy73KLl8ZB/d8vi/Yr98lnUfav0kuT88or0evijjvmc8cd6a+L227ry4QJ/cjKMl56aSi/+MUcfvKTt9ixo4wBA7owa9YFHHts+mJ2Dz00kJtvnsuvfjWXDRt2cfrpHZgxYzh9+3ZK6zd27IlkZcHEiR/w0EP/pEOHbK68sjd33vk1rNJnIB5/fAllZV5j6WXx4lJWrNgCwAUXzKiyfdmyy+jZs22V9qTK1DJKXZk3wlucdevsXH1Rg48ryeYTDvUZSFPTr99zFBZ+WcdP7kXa5nX2M2+re7x5/apJ89y9X219zGw5sBnYA5S5ez8z6wA8BfQElgOXuHupRe/C/w2cD2wDfuju74dxxgK/CsP+xt0nh/YziW5I1AqYDvy71zE4H741dRGRA3Oeu+envAHcCLzq7r2BV8P3AMOB3uFxNXA/QHgTuA04G/gacJuZhU86cj/w45T96ny3OQV1EUm8QzT7ZRQwOTyfDFyY0v6IR+YAR5lZV2AoMNPdS9y9FJgJDAvb2rn7nJCdP5Iy1gFTUBeRZKv/J0o7mVlhyuPq6o/CX81sXsr2Lu4e1hbhc6B8qlR3YGXKvqtCW23tq6ppr5PD90KpiGSMembc6/ZVUwe+4e7FZnY0MNPM/pF2fHc3syZxvVaZuogkmtP4nyh19+LwdS3wF6Ka+BehdEL4Gj7AQjGQukJfbmirrT23mvY6UVAXEamFmbU2s7blz4EhwEfANGBs6DYWeCE8nwaMsUh/YGMo0xQAQ8wsJ1wgHQIUhG2bzKx/mDkzJmWsA6byi4gkXiPXPboAfwmfF2gOPOHuM8xsLvC0mY0DVgCXhP7TiaYzFhFNabwKwN1LzOw/gLmh36/dvSQ8/wnxlMZXwqNOFNRFJPEa8xOl7r4UOL2a9vXAt6tpd2B8DWM9CDxYTXshcGq9TxYFdRHJAE3iCmUToaAuIomntV9iulAqIpJBlKmLSKJpQa90Cuoikngqv8QU1EUk8RTTY6qpi4hkEGXqIpJsGXoD6bpSUBeRxFNMjymoi0iilS/oJREFdRFJPMX0mC6UiohkEGXqIpJ4Kr/EFNRFJPEU02MK6iKSeMrUYwrqIpJoWvslnS6UiohkEGXqIpJ4Kr/EFNRFJPEU02MK6iKSbFr7JY1q6iIiGUSZuogknjL1mIK6iCSapjSmU1AXkcRTUI8pqItI4qn8EtOFUhGRDKJMXUQST4l6TEFdRBJP5ZeYgrqIJJpmv6RTUBeRxFOmHtOFUhGRDKJMXUQST4l6TJm6iCRbWNCrro99MbNjzWyWmS02s0Vm9u+hfYKZFZvZgvA4P2Wfm8ysyMz+aWZDU9qHhbYiM7sxpT3PzN4N7U+ZWcu6/joU1EUk8bwej/1QBvzc3U8B+gPjzeyUsO0ed88Pj+kAYdtooA8wDPijmTUzs2bAfcBw4BTgspRxJoaxTgBKgXF1+00oqIuI1Mrd17j7++H5ZuBjoHstu4wCnnT3ne6+DCgCvhYeRe6+1N13AU8Co8zMgEHAM2H/ycCFdT1fBXURSTSnccsvqcysJ3AG8G5outbMFprZg2aWE9q6AytTdlsV2mpq7whscPeySu11oqAuIolXz/JLJzMrTHlcXd0xzKwN8CzwM3ffBNwPHA/kA2uA/2qcn+7AaPaLiCRePeepr3P3frV1MLMWRAH9cXd/Ljqmf5Gy/U/AS+HbYuDYlN1zQxs1tK8HjjKz5iFbT+1/wJSpi0jiNeaF0lDzfgD42N1/n9LeNaXb94CPwvNpwGgzyzazPKA38B4wF+gdZrq0JLqYOs3dHZgFXBz2Hwu8cEC/gBTK1EVEancO8APgQzNbENp+STR7JZ/ovWE58K8A7r7IzJ4GFhPNnBnv7nsAzOxaoABoBjzo7ovCeDcAT5rZb4D5RG8idaKgLiKJ15jLBLj7m4BVs2l6LfvcAdxRTfv06vZz96VEs2PqTUFdRBJNC3qlU1AXkcTTgl4xBXURSTzF9FjjBPU169Zx+6QVjTJ28nQC1h3qk2gK7PZDfQZNhl4TseMO9QlkmkYJ6u7euTHGTSIzK9zXHFg5vOg10cDq8MnQTKbyi4gknmJ6TEFdRBKtfO0XiegTpY1v0qE+AWly9JqQRqNMvZG5u/4DSxq9JhqeEvWYgrqIJJ7KLzEFdRFJPMX0mIJ6AzKzk4nuelK+wH0x0SpsHx+6sxLJfMrUY7pQ2kDM7Aai21MZ0TKb74XnU1JvMCuSysyuOtTnIJlFmXrDGQf0cffdqY1m9ntgEXDXITkraepuBx461CeRZFrQK52CesPZC3QDKi+P0DVsk8OUmS2saRPQ5WCeS6ZS+SWmoN5wfga8amZLiG8u2wM4Abj2UJ2UNAldgKFAaaV2A94++KeTeRTTYwrqDcTdZ5jZiUQL3adeKJ1bftcTOWy9BLRx9wWVN5jZ7IN+NpLRFNQbkLvvBeYc6vOQpsXdx9Wy7fKDeS4ZSQt6pVFQF5HEU0yPKaiLSKJpQa90CuoikniK6TF9+EhEJIMoUxeRxFP5JaagLiKJp5geU1AXkcRTph5TUBeRRNPaL+l0oVREJIMoUxeRxFP5JaagLiKJp5geU1AXkWTT2i9pVFMXEckgytRFJPGUqMfM9XeLiCSYmc0AOtVjiHXuPqyhzudQU1AXEckgqqmLiGQQBXURkQyioC4ikkEU1EVEMoiCuohIBvn/AQrjoBn/qpsNAAAAAElFTkSuQmCC\n",
       "datasetInfos": [],
       "metadata": {},
       "removedWidgets": [],
       "type": "image"
      }
     },
     "output_type": "display_data"
    }
   ],
   "source": [
    "## K-fold validation on Test dataset\n",
    "accuracy_kf = []\n",
    "precision_kf = []\n",
    "recall_kf = []\n",
    "f1_kf = []\n",
    "conf_mat = None\n",
    "\n",
    "cv = model_selection.KFold(n_splits=5, shuffle=True)\n",
    "\n",
    "i = 1\n",
    "for train, test in cv.split(X_test, y_test):\n",
    "    prediction = model_xgb.fit(X_test[train],y_test[train]).predict(X_test[test])\n",
    "    true = y_test[test]\n",
    "    accuracy_kf.append(accuracy_score(true, prediction))\n",
    "    precision_kf.append(precision_score(true, prediction))\n",
    "    recall_kf.append(recall_score(true, prediction))\n",
    "    f1_kf.append(f1_score(true, prediction))\n",
    "    \n",
    "    # Constructing the confusion matrix\n",
    "    if conf_mat is None:\n",
    "        conf_mat = confusion_matrix(true, prediction, labels=[0, 1])\n",
    "    else:\n",
    "        conf_mat += confusion_matrix(true, prediction, labels=[0, 1])\n",
    "\n",
    "print('Model metrics on Test dataset:\\n')\n",
    "print('Accuracy: %0.2f' % mean(accuracy_kf))\n",
    "print('Precision: %0.2f' % mean(precision_kf))\n",
    "print('Recall: %0.2f' % mean(recall_kf))\n",
    "print('F1: %0.2f' % mean(f1_kf))\n",
    "\n",
    "fig = plt.figure(figsize=(6,6))\n",
    "width = np.shape(conf_mat)[1]\n",
    "height = np.shape(conf_mat)[0]\n",
    "\n",
    "res = plt.imshow(np.array(conf_mat), cmap=plt.cm.summer, interpolation='nearest')\n",
    "for i, row in enumerate(conf_mat):\n",
    "    for j, c in enumerate(row):\n",
    "        if c>0:\n",
    "            plt.text(j-.2, i+.1, c, fontsize=16)\n",
    "\n",
    "cb = fig.colorbar(res)\n",
    "plt.title('Confusion Matrix')\n",
    "_ = plt.xticks(range(2), [0, 1], rotation=90)\n",
    "_ = plt.yticks(range(2), [0, 1])"
   ]
  },
  {
   "cell_type": "code",
   "execution_count": 0,
   "metadata": {
    "application/vnd.databricks.v1+cell": {
     "cellMetadata": {
      "byteLimit": 2048000,
      "rowLimit": 10000
     },
     "inputWidgets": {},
     "nuid": "408ee438-a7cb-4512-bf09-5f5b63aea5ab",
     "showTitle": false,
     "title": ""
    }
   },
   "outputs": [
    {
     "output_type": "display_data",
     "data": {
      "image/png": "[encoded data removed]"
     },
     "metadata": {
      "application/vnd.databricks.v1+output": {
       "addedWidgets": {},
       "arguments": {},
       "data": "data:image/png;base64,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\n",
       "datasetInfos": [],
       "metadata": {},
       "removedWidgets": [],
       "type": "image"
      }
     },
     "output_type": "display_data"
    }
   ],
   "source": [
    "# Feature importance\n",
    "importances = model_xgb.feature_importances_\n",
    "\n",
    "## Put in a pandas dtf\n",
    "df_importances = pd.DataFrame({\"IMPORTANCE\":importances, \"VARIABLE\":X_cols}).sort_values(\"IMPORTANCE\", ascending=False)\n",
    "df_importances['cumsum'] = df_importances['IMPORTANCE'].cumsum(axis=0)\n",
    "df_importances = df_importances.set_index(\"VARIABLE\")\n",
    "    \n",
    "## Plot\n",
    "fig, ax = plt.subplots(nrows=1, ncols=2, sharex=False, sharey=False, figsize=(12,6))\n",
    "fig.suptitle(\"Features Importance\", fontsize=20)\n",
    "\n",
    "# First graph: variables\n",
    "ax[0].title.set_text('variables')\n",
    "df_importances[[\"IMPORTANCE\"]].sort_values(by=\"IMPORTANCE\").plot(kind=\"barh\", legend=False, ax=ax[0])\n",
    "ax[0].set(ylabel=\"\")\n",
    "ax[0].grid(axis='x')\n",
    "\n",
    "# Second graph: cumulative\n",
    "ax[1].title.set_text('cumulative')\n",
    "df_importances[[\"cumsum\"]].plot(kind=\"line\", linewidth=4, legend=False, ax=ax[1])\n",
    "ax[1].set(xlabel=\"\", xticks=np.arange(len(df_importances)), xticklabels=df_importances.index)\n",
    "plt.xticks(rotation=60)\n",
    "ax[1].grid(axis='both')\n",
    "\n",
    "plt.show()"
   ]
  },
  {
   "cell_type": "markdown",
   "metadata": {
    "application/vnd.databricks.v1+cell": {
     "cellMetadata": {},
     "inputWidgets": {},
     "nuid": "013cb2e8-5223-47d8-a39f-a4f7353bc99e",
     "showTitle": false,
     "title": ""
    }
   },
   "source": [
    "### MODEL 8: Artificial Neural Network"
   ]
  },
  {
   "cell_type": "code",
   "execution_count": 0,
   "metadata": {
    "application/vnd.databricks.v1+cell": {
     "cellMetadata": {
      "byteLimit": 2048000,
      "rowLimit": 10000
     },
     "inputWidgets": {},
     "nuid": "df4e1429-8064-4327-af63-3652c78d2b7d",
     "showTitle": false,
     "title": ""
    }
   },
   "outputs": [],
   "source": [
    "model_ann = tf.keras.models.Sequential() # Initialize ANN\n",
    "model_ann.add(tf.keras.layers.Dense(units=4, activation='relu')) # Add input layer & the first hidden layers\n",
    "model_ann.add(tf.keras.layers.Dense(units=4, activation='relu')) # Add the second hidden layers\n",
    "model_ann.add(tf.keras.layers.Dense(units=1, activation='sigmoid')) # Add output layer\n",
    "model_ann.compile(optimizer = 'adam', loss = 'binary_crossentropy', metrics = ['Recall']) # compile the ANN"
   ]
  },
  {
   "cell_type": "code",
   "execution_count": 0,
   "metadata": {
    "application/vnd.databricks.v1+cell": {
     "cellMetadata": {
      "byteLimit": 2048000,
      "rowLimit": 10000
     },
     "inputWidgets": {},
     "nuid": "0fad4081-f536-499b-abe3-e027b112a1a0",
     "showTitle": false,
     "title": ""
    }
   },
   "outputs": [
    {
     "output_type": "stream",
     "name": "stdout",
     "output_type": "stream",
     "text": [
      "Epoch 1/30\n 5715/16260 [=========>....................] - ETA: 13s - loss: 0.2731 - recall: 0.8250       \n\n*** WARNING: max output size exceeded, skipping output. ***\n\n16260/16260 [==============================] - 20s 1ms/step - loss: 0.2219 - recall: 0.8635\n1/1 [==============================] - 0s 82ms/step\nWARNING:absl:Found untraced functions such as _update_step_xla while saving (showing 1 of 1). These functions will not be directly callable after loading.\nOut[15]: <keras.callbacks.History at 0x7f40da06ad30>"
     ]
    }
   ],
   "source": [
    "model_ann.fit(X_train, y_train, batch_size = 100, epochs = 30)"
   ]
  },
  {
   "cell_type": "code",
   "execution_count": 0,
   "metadata": {
    "application/vnd.databricks.v1+cell": {
     "cellMetadata": {
      "byteLimit": 2048000,
      "rowLimit": 10000
     },
     "inputWidgets": {},
     "nuid": "bea7f0a5-591c-402d-8eef-e6677624b992",
     "showTitle": false,
     "title": ""
    }
   },
   "outputs": [
    {
     "output_type": "stream",
     "name": "stdout",
     "output_type": "stream",
     "text": [
      "10163/10163 [==============================] - 9s 906us/step\n 2566/10163 [======>.......................] - ETA: 6s\n\n*** WARNING: max output size exceeded, skipping output. ***\n\n10163/10163 [==============================] - 9s 890us/step\n10163/10163 [==============================] - 9s 891us/step\nModel metrics on Training dataset:\n\nAccuracy: 0.91\nPrecision: 0.95\nRecall: 0.87\nF1: 0.91\n"
     ]
    }
   ],
   "source": [
    "## K-fold validation on Training dataset\n",
    "accuracy_kf = []\n",
    "precision_kf = []\n",
    "recall_kf = []\n",
    "f1_kf = []\n",
    "\n",
    "cv = model_selection.KFold(n_splits=5, shuffle=True)\n",
    "\n",
    "i = 1\n",
    "for train, test in cv.split(X_train, y_train):\n",
    "    prediction = model_ann.predict(X_train[test])\n",
    "    prediction = (prediction > 0.5)\n",
    "    true = y_train[test]\n",
    "    accuracy_kf.append(accuracy_score(true, prediction))\n",
    "    precision_kf.append(precision_score(true, prediction))\n",
    "    recall_kf.append(recall_score(true, prediction))\n",
    "    f1_kf.append(f1_score(true, prediction))\n",
    "\n",
    "print('Model metrics on Training dataset:\\n')\n",
    "print('Accuracy: %0.2f' % mean(accuracy_kf))\n",
    "print('Precision: %0.2f' % mean(precision_kf))\n",
    "print('Recall: %0.2f' % mean(recall_kf))\n",
    "print('F1: %0.2f' % mean(f1_kf))"
   ]
  },
  {
   "cell_type": "code",
   "execution_count": 0,
   "metadata": {
    "application/vnd.databricks.v1+cell": {
     "cellMetadata": {
      "byteLimit": 2048000,
      "rowLimit": 10000
     },
     "inputWidgets": {},
     "nuid": "8290460d-5737-4dc7-8d8f-cfb7f79eeff1",
     "showTitle": false,
     "title": ""
    }
   },
   "outputs": [
    {
     "output_type": "stream",
     "name": "stdout",
     "output_type": "stream",
     "text": [
      "2541/2541 [==============================] - 2s 883us/step\n2541/2541 [==============================] - 2s 875us/step\n2541/2541 [==============================] - 2s 873us/step\n2541/2541 [==============================] - 2s 880us/step\n2541/2541 [==============================] - 2s 878us/step\nModel metrics on Test dataset:\n\nAccuracy: 0.91\nPrecision: 0.95\nRecall: 0.86\nF1: 0.91\n"
     ]
    }
   ],
   "source": [
    "## K-fold validation on Test dataset\n",
    "accuracy_kf = []\n",
    "precision_kf = []\n",
    "recall_kf = []\n",
    "f1_kf = []\n",
    "\n",
    "cv = model_selection.KFold(n_splits=5, shuffle=True)\n",
    "\n",
    "i = 1\n",
    "for train, test in cv.split(X_test, y_test):\n",
    "    prediction = model_ann.predict(X_test[test])\n",
    "    prediction = (prediction > 0.5)\n",
    "    true = y_test[test]\n",
    "    accuracy_kf.append(accuracy_score(true, prediction))\n",
    "    precision_kf.append(precision_score(true, prediction))\n",
    "    recall_kf.append(recall_score(true, prediction))\n",
    "    f1_kf.append(f1_score(true, prediction))\n",
    "\n",
    "print('Model metrics on Test dataset:\\n')\n",
    "print('Accuracy: %0.2f' % mean(accuracy_kf))\n",
    "print('Precision: %0.2f' % mean(precision_kf))\n",
    "print('Recall: %0.2f' % mean(recall_kf))\n",
    "print('F1: %0.2f' % mean(f1_kf))"
   ]
  }
 ],
 "metadata": {
  "application/vnd.databricks.v1+notebook": {
   "dashboards": [],
   "language": "python",
   "notebookMetadata": {
    "pythonIndentUnit": 4
   },
   "notebookName": "AF_Raw_04_Modeling_smote",
   "notebookOrigID": 1102640751751409,
   "widgets": {}
  },
  "kernelspec": {
   "display_name": "Python 3 (ipykernel)",
   "language": "python",
   "name": "python3"
  },
  "language_info": {
   "codemirror_mode": {
    "name": "ipython",
    "version": 3
   },
   "file_extension": ".py",
   "mimetype": "text/x-python",
   "name": "python",
   "nbconvert_exporter": "python",
   "pygments_lexer": "ipython3",
   "version": "3.8.12"
  }
 },
 "nbformat": 4,
 "nbformat_minor": 0
}
