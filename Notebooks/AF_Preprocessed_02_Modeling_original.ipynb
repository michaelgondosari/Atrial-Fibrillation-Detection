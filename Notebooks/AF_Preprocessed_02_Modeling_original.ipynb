{
 "cells": [
  {
   "cell_type": "markdown",
   "metadata": {
    "application/vnd.databricks.v1+cell": {
     "cellMetadata": {},
     "inputWidgets": {},
     "nuid": "0b91c36b-37d0-4bf5-b0ff-c6953135b3dc",
     "showTitle": false,
     "title": ""
    }
   },
   "source": [
    "# Atrial Fibrillation Project - Modelling (Pre-processed Data) - Original"
   ]
  },
  {
   "cell_type": "markdown",
   "metadata": {
    "application/vnd.databricks.v1+cell": {
     "cellMetadata": {},
     "inputWidgets": {},
     "nuid": "2b6bbcff-40e5-4d45-8af7-962d2665e78a",
     "showTitle": false,
     "title": ""
    }
   },
   "source": [
    "Student Name: Michael (s2767708) & Pedro da Silva (s2799057)                         \n",
    "\n",
    "Group No: 123"
   ]
  },
  {
   "cell_type": "markdown",
   "metadata": {
    "application/vnd.databricks.v1+cell": {
     "cellMetadata": {},
     "inputWidgets": {},
     "nuid": "3cbfd5a3-12c1-41b6-b8b9-5c3d0472bd50",
     "showTitle": false,
     "title": ""
    }
   },
   "source": [
    "## Import Libraries"
   ]
  },
  {
   "cell_type": "code",
   "execution_count": null,
   "metadata": {
    "application/vnd.databricks.v1+cell": {
     "cellMetadata": {
      "byteLimit": 2048000,
      "rowLimit": 10000
     },
     "inputWidgets": {},
     "nuid": "35eaadc4-3c1b-4cb2-8cfa-cc058a68b136",
     "showTitle": false,
     "title": ""
    }
   },
   "outputs": [
    {
     "data": {
      "application/vnd.databricks.v1+bamboolib_hint": "{\"pd.DataFrames\": [], \"version\": \"0.0.1\"}",
      "text/plain": []
     },
     "metadata": {
      "application/vnd.databricks.v1+output": {
       "addedWidgets": {},
       "arguments": {},
       "data": {
        "application/vnd.databricks.v1+bamboolib_hint": "{\"pd.DataFrames\": [], \"version\": \"0.0.1\"}",
        "text/plain": ""
       },
       "datasetInfos": [],
       "executionCount": null,
       "metadata": {
        "kernelSessionId": "b6b75f14-5ae322171b367a64b3c06171"
       },
       "removedWidgets": [],
       "type": "mimeBundle"
      }
     },
     "output_type": "display_data"
    },
    {
     "name": "stdout",
     "output_type": "stream",
     "text": [
      "Imported all libraries successfully.\n"
     ]
    }
   ],
   "source": [
    "## for data\n",
    "import pandas as pd\n",
    "pd.set_option('display.max_colwidth', None) \n",
    "pd.set_option('display.max_columns', None)\n",
    "pd.set_option('display.max_rows', None)\n",
    "import glob\n",
    "import logging\n",
    "import numpy as np\n",
    "import pickle\n",
    "import sweetviz as sv\n",
    "import warnings\n",
    "\n",
    "\n",
    "## for plotting\n",
    "import matplotlib.pyplot as plt\n",
    "import plotly.express as px\n",
    "import seaborn as sns\n",
    "\n",
    "\n",
    "## for statistical tests\n",
    "from math import sqrt\n",
    "import statistics\n",
    "from statistics import mean\n",
    "import statsmodels.api as sm\n",
    "import statsmodels.formula.api as smf\n",
    "import scipy\n",
    "from scipy.fft import fft, fftfreq\n",
    "\n",
    "\n",
    "## for machine learning\n",
    "from imblearn.under_sampling import RandomUnderSampler\n",
    "from imblearn.over_sampling import SMOTE\n",
    "\n",
    "from scikeras.wrappers import KerasRegressor, KerasClassifier\n",
    "\n",
    "from scipy.stats import kstest, shapiro\n",
    "\n",
    "from sklearn import datasets, decomposition, ensemble, feature_selection, linear_model, metrics, model_selection, preprocessing, svm, tree\n",
    "from sklearn.cluster import KMeans\n",
    "from sklearn.ensemble import RandomForestClassifier, RandomForestRegressor\n",
    "from sklearn.exceptions import DataConversionWarning\n",
    "from sklearn.feature_selection import chi2, RFE, SelectFromModel, SelectKBest\n",
    "from sklearn.linear_model import LassoCV, LinearRegression, LogisticRegression\n",
    "from sklearn.metrics import accuracy_score, classification_report, confusion_matrix, explained_variance_score, f1_score, mean_absolute_error, mean_squared_error, precision_score, r2_score, recall_score\n",
    "from sklearn.model_selection import cross_validate, cross_val_predict, cross_val_score, GridSearchCV, ShuffleSplit, train_test_split\n",
    "from sklearn.naive_bayes import GaussianNB\n",
    "from sklearn.neighbors import KNeighborsClassifier\n",
    "from sklearn.pipeline import make_pipeline\n",
    "from sklearn.preprocessing import LabelEncoder, MinMaxScaler, StandardScaler\n",
    "from sklearn.svm import LinearSVC, SVC, SVR\n",
    "from sklearn.tree import DecisionTreeClassifier\n",
    "\n",
    "from statsmodels.api import Logit\n",
    "from statsmodels.regression.linear_model import OLS\n",
    "from statsmodels.stats.diagnostic import acorr_ljungbox, het_white\n",
    "from statsmodels.tools.tools import add_constant\n",
    "\n",
    "import tensorflow as tf\n",
    "from tensorflow.keras.layers import Dense\n",
    "from tensorflow.keras.models import Sequential\n",
    "\n",
    "from tslearn.neighbors import KNeighborsTimeSeriesClassifier\n",
    "\n",
    "import xgboost as xgb\n",
    "from xgboost import XGBClassifier, XGBRegressor\n",
    "\n",
    "print('Imported all libraries successfully.')"
   ]
  },
  {
   "cell_type": "code",
   "execution_count": null,
   "metadata": {
    "application/vnd.databricks.v1+cell": {
     "cellMetadata": {
      "byteLimit": 2048000,
      "rowLimit": 10000
     },
     "inputWidgets": {},
     "nuid": "999def81-3249-4d3d-9d33-e5a758617e22",
     "showTitle": false,
     "title": ""
    }
   },
   "outputs": [],
   "source": [
    "# Suppress the warnings\n",
    "warnings.filterwarnings(action='ignore', category=UserWarning)\n",
    "warnings.filterwarnings(action='ignore', category=DataConversionWarning)\n",
    "warnings.filterwarnings(action='ignore', category=FutureWarning)\n",
    "logging.getLogger('tensorflow').setLevel(logging.ERROR)\n",
    "logging.getLogger('absl').setLevel(logging.ERROR)\n",
    "logging.getLogger('sklearn').setLevel(logging.ERROR)"
   ]
  },
  {
   "cell_type": "code",
   "execution_count": null,
   "metadata": {
    "application/vnd.databricks.v1+cell": {
     "cellMetadata": {
      "byteLimit": 2048000,
      "rowLimit": 10000
     },
     "inputWidgets": {},
     "nuid": "03d517e5-15d3-48bb-93fa-83fa37d47dcd",
     "showTitle": false,
     "title": ""
    }
   },
   "outputs": [
    {
     "name": "stdout",
     "output_type": "stream",
     "text": [
      "/databricks/driver\n"
     ]
    }
   ],
   "source": [
    "import os\n",
    "current_path = os.getcwd()\n",
    "print(current_path)"
   ]
  },
  {
   "cell_type": "markdown",
   "metadata": {
    "application/vnd.databricks.v1+cell": {
     "cellMetadata": {},
     "inputWidgets": {},
     "nuid": "c81449c0-e944-45ad-a5fc-e94b8225b768",
     "showTitle": false,
     "title": ""
    }
   },
   "source": [
    "## Import Dataset"
   ]
  },
  {
   "cell_type": "code",
   "execution_count": null,
   "metadata": {
    "application/vnd.databricks.v1+cell": {
     "cellMetadata": {
      "byteLimit": 2048000,
      "rowLimit": 10000
     },
     "inputWidgets": {},
     "nuid": "27f8fdfd-945b-4f95-8f2f-2192db9bbdbf",
     "showTitle": false,
     "title": ""
    }
   },
   "outputs": [
    {
     "name": "stdout",
     "output_type": "stream",
     "text": [
      "(150000, 31)\n"
     ]
    },
    {
     "data": {
      "text/html": [
       "<div>\n",
       "<style scoped>\n",
       "    .dataframe tbody tr th:only-of-type {\n",
       "        vertical-align: middle;\n",
       "    }\n",
       "\n",
       "    .dataframe tbody tr th {\n",
       "        vertical-align: top;\n",
       "    }\n",
       "\n",
       "    .dataframe thead th {\n",
       "        text-align: right;\n",
       "    }\n",
       "</style>\n",
       "<table border=\"1\" class=\"dataframe\">\n",
       "  <thead>\n",
       "    <tr style=\"text-align: right;\">\n",
       "      <th></th>\n",
       "      <th>data1</th>\n",
       "      <th>data2</th>\n",
       "      <th>data3</th>\n",
       "      <th>data4</th>\n",
       "      <th>data5</th>\n",
       "      <th>data6</th>\n",
       "      <th>data7</th>\n",
       "      <th>data8</th>\n",
       "      <th>data9</th>\n",
       "      <th>data10</th>\n",
       "      <th>data11</th>\n",
       "      <th>data12</th>\n",
       "      <th>data13</th>\n",
       "      <th>data14</th>\n",
       "      <th>data15</th>\n",
       "      <th>data16</th>\n",
       "      <th>data17</th>\n",
       "      <th>data18</th>\n",
       "      <th>data19</th>\n",
       "      <th>data20</th>\n",
       "      <th>data21</th>\n",
       "      <th>data22</th>\n",
       "      <th>data23</th>\n",
       "      <th>data24</th>\n",
       "      <th>data25</th>\n",
       "      <th>data26</th>\n",
       "      <th>data27</th>\n",
       "      <th>data28</th>\n",
       "      <th>data29</th>\n",
       "      <th>data30</th>\n",
       "      <th>Control</th>\n",
       "    </tr>\n",
       "  </thead>\n",
       "  <tbody>\n",
       "    <tr>\n",
       "      <th>0</th>\n",
       "      <td>0.0</td>\n",
       "      <td>0.000000</td>\n",
       "      <td>0.000000</td>\n",
       "      <td>0.100000</td>\n",
       "      <td>-0.100000</td>\n",
       "      <td>0.000000</td>\n",
       "      <td>0.000000</td>\n",
       "      <td>0.400000</td>\n",
       "      <td>0.100000</td>\n",
       "      <td>0.500000</td>\n",
       "      <td>0.000000</td>\n",
       "      <td>-0.500000</td>\n",
       "      <td>-0.100000</td>\n",
       "      <td>-0.300000</td>\n",
       "      <td>-0.1</td>\n",
       "      <td>0.0</td>\n",
       "      <td>0.0</td>\n",
       "      <td>0.0</td>\n",
       "      <td>0.0</td>\n",
       "      <td>0.0</td>\n",
       "      <td>0.0</td>\n",
       "      <td>0.0</td>\n",
       "      <td>0.0</td>\n",
       "      <td>0.0</td>\n",
       "      <td>0.0</td>\n",
       "      <td>0.0</td>\n",
       "      <td>0.0</td>\n",
       "      <td>0.0</td>\n",
       "      <td>0.0</td>\n",
       "      <td>0.0</td>\n",
       "      <td>1</td>\n",
       "    </tr>\n",
       "    <tr>\n",
       "      <th>1</th>\n",
       "      <td>0.0</td>\n",
       "      <td>0.000000</td>\n",
       "      <td>0.000000</td>\n",
       "      <td>0.000000</td>\n",
       "      <td>0.000000</td>\n",
       "      <td>1.000000</td>\n",
       "      <td>-0.400000</td>\n",
       "      <td>-0.600000</td>\n",
       "      <td>0.000000</td>\n",
       "      <td>0.000000</td>\n",
       "      <td>0.000000</td>\n",
       "      <td>0.000000</td>\n",
       "      <td>0.000000</td>\n",
       "      <td>0.000000</td>\n",
       "      <td>0.0</td>\n",
       "      <td>0.0</td>\n",
       "      <td>0.0</td>\n",
       "      <td>0.0</td>\n",
       "      <td>0.0</td>\n",
       "      <td>0.0</td>\n",
       "      <td>0.0</td>\n",
       "      <td>0.0</td>\n",
       "      <td>0.0</td>\n",
       "      <td>0.0</td>\n",
       "      <td>0.0</td>\n",
       "      <td>0.0</td>\n",
       "      <td>0.0</td>\n",
       "      <td>0.0</td>\n",
       "      <td>0.0</td>\n",
       "      <td>0.0</td>\n",
       "      <td>0</td>\n",
       "    </tr>\n",
       "    <tr>\n",
       "      <th>2</th>\n",
       "      <td>0.0</td>\n",
       "      <td>0.000000</td>\n",
       "      <td>0.000000</td>\n",
       "      <td>0.000000</td>\n",
       "      <td>0.000000</td>\n",
       "      <td>0.000000</td>\n",
       "      <td>0.000000</td>\n",
       "      <td>0.000000</td>\n",
       "      <td>0.000000</td>\n",
       "      <td>0.000000</td>\n",
       "      <td>0.000000</td>\n",
       "      <td>0.296296</td>\n",
       "      <td>0.703704</td>\n",
       "      <td>-1.000000</td>\n",
       "      <td>0.0</td>\n",
       "      <td>0.0</td>\n",
       "      <td>0.0</td>\n",
       "      <td>0.0</td>\n",
       "      <td>0.0</td>\n",
       "      <td>0.0</td>\n",
       "      <td>0.0</td>\n",
       "      <td>0.0</td>\n",
       "      <td>0.0</td>\n",
       "      <td>0.0</td>\n",
       "      <td>0.0</td>\n",
       "      <td>0.0</td>\n",
       "      <td>0.0</td>\n",
       "      <td>0.0</td>\n",
       "      <td>0.0</td>\n",
       "      <td>0.0</td>\n",
       "      <td>0</td>\n",
       "    </tr>\n",
       "    <tr>\n",
       "      <th>3</th>\n",
       "      <td>0.0</td>\n",
       "      <td>0.000000</td>\n",
       "      <td>0.000000</td>\n",
       "      <td>0.000000</td>\n",
       "      <td>0.000000</td>\n",
       "      <td>0.000000</td>\n",
       "      <td>0.000000</td>\n",
       "      <td>0.000000</td>\n",
       "      <td>0.000000</td>\n",
       "      <td>0.000000</td>\n",
       "      <td>1.000000</td>\n",
       "      <td>-1.000000</td>\n",
       "      <td>0.000000</td>\n",
       "      <td>0.000000</td>\n",
       "      <td>0.0</td>\n",
       "      <td>0.0</td>\n",
       "      <td>0.0</td>\n",
       "      <td>0.0</td>\n",
       "      <td>0.0</td>\n",
       "      <td>0.0</td>\n",
       "      <td>0.0</td>\n",
       "      <td>0.0</td>\n",
       "      <td>0.0</td>\n",
       "      <td>0.0</td>\n",
       "      <td>0.0</td>\n",
       "      <td>0.0</td>\n",
       "      <td>0.0</td>\n",
       "      <td>0.0</td>\n",
       "      <td>0.0</td>\n",
       "      <td>0.0</td>\n",
       "      <td>0</td>\n",
       "    </tr>\n",
       "    <tr>\n",
       "      <th>4</th>\n",
       "      <td>0.0</td>\n",
       "      <td>0.000000</td>\n",
       "      <td>0.000000</td>\n",
       "      <td>0.000000</td>\n",
       "      <td>0.000000</td>\n",
       "      <td>0.000000</td>\n",
       "      <td>0.000000</td>\n",
       "      <td>0.000000</td>\n",
       "      <td>0.954545</td>\n",
       "      <td>0.045455</td>\n",
       "      <td>-1.000000</td>\n",
       "      <td>0.000000</td>\n",
       "      <td>0.000000</td>\n",
       "      <td>0.000000</td>\n",
       "      <td>0.0</td>\n",
       "      <td>0.0</td>\n",
       "      <td>0.0</td>\n",
       "      <td>0.0</td>\n",
       "      <td>0.0</td>\n",
       "      <td>0.0</td>\n",
       "      <td>0.0</td>\n",
       "      <td>0.0</td>\n",
       "      <td>0.0</td>\n",
       "      <td>0.0</td>\n",
       "      <td>0.0</td>\n",
       "      <td>0.0</td>\n",
       "      <td>0.0</td>\n",
       "      <td>0.0</td>\n",
       "      <td>0.0</td>\n",
       "      <td>0.0</td>\n",
       "      <td>0</td>\n",
       "    </tr>\n",
       "    <tr>\n",
       "      <th>5</th>\n",
       "      <td>0.0</td>\n",
       "      <td>0.000000</td>\n",
       "      <td>0.000000</td>\n",
       "      <td>0.000000</td>\n",
       "      <td>0.000000</td>\n",
       "      <td>0.000000</td>\n",
       "      <td>0.000000</td>\n",
       "      <td>0.000000</td>\n",
       "      <td>0.000000</td>\n",
       "      <td>0.000000</td>\n",
       "      <td>0.000000</td>\n",
       "      <td>1.000000</td>\n",
       "      <td>-1.000000</td>\n",
       "      <td>0.000000</td>\n",
       "      <td>0.0</td>\n",
       "      <td>0.0</td>\n",
       "      <td>0.0</td>\n",
       "      <td>0.0</td>\n",
       "      <td>0.0</td>\n",
       "      <td>0.0</td>\n",
       "      <td>0.0</td>\n",
       "      <td>0.0</td>\n",
       "      <td>0.0</td>\n",
       "      <td>0.0</td>\n",
       "      <td>0.0</td>\n",
       "      <td>0.0</td>\n",
       "      <td>0.0</td>\n",
       "      <td>0.0</td>\n",
       "      <td>0.0</td>\n",
       "      <td>0.0</td>\n",
       "      <td>0</td>\n",
       "    </tr>\n",
       "    <tr>\n",
       "      <th>6</th>\n",
       "      <td>0.0</td>\n",
       "      <td>0.078947</td>\n",
       "      <td>-0.078947</td>\n",
       "      <td>0.210526</td>\n",
       "      <td>-0.131579</td>\n",
       "      <td>0.921053</td>\n",
       "      <td>-0.815789</td>\n",
       "      <td>-0.184211</td>\n",
       "      <td>0.000000</td>\n",
       "      <td>0.052632</td>\n",
       "      <td>-0.052632</td>\n",
       "      <td>0.000000</td>\n",
       "      <td>0.000000</td>\n",
       "      <td>0.000000</td>\n",
       "      <td>0.0</td>\n",
       "      <td>0.0</td>\n",
       "      <td>0.0</td>\n",
       "      <td>0.0</td>\n",
       "      <td>0.0</td>\n",
       "      <td>0.0</td>\n",
       "      <td>0.0</td>\n",
       "      <td>0.0</td>\n",
       "      <td>0.0</td>\n",
       "      <td>0.0</td>\n",
       "      <td>0.0</td>\n",
       "      <td>0.0</td>\n",
       "      <td>0.0</td>\n",
       "      <td>0.0</td>\n",
       "      <td>0.0</td>\n",
       "      <td>0.0</td>\n",
       "      <td>1</td>\n",
       "    </tr>\n",
       "    <tr>\n",
       "      <th>7</th>\n",
       "      <td>0.0</td>\n",
       "      <td>0.000000</td>\n",
       "      <td>0.000000</td>\n",
       "      <td>0.000000</td>\n",
       "      <td>0.000000</td>\n",
       "      <td>0.000000</td>\n",
       "      <td>0.000000</td>\n",
       "      <td>0.000000</td>\n",
       "      <td>0.000000</td>\n",
       "      <td>0.062500</td>\n",
       "      <td>0.937500</td>\n",
       "      <td>-0.875000</td>\n",
       "      <td>-0.125000</td>\n",
       "      <td>0.000000</td>\n",
       "      <td>0.0</td>\n",
       "      <td>0.0</td>\n",
       "      <td>0.0</td>\n",
       "      <td>0.0</td>\n",
       "      <td>0.0</td>\n",
       "      <td>0.0</td>\n",
       "      <td>0.0</td>\n",
       "      <td>0.0</td>\n",
       "      <td>0.0</td>\n",
       "      <td>0.0</td>\n",
       "      <td>0.0</td>\n",
       "      <td>0.0</td>\n",
       "      <td>0.0</td>\n",
       "      <td>0.0</td>\n",
       "      <td>0.0</td>\n",
       "      <td>0.0</td>\n",
       "      <td>0</td>\n",
       "    </tr>\n",
       "    <tr>\n",
       "      <th>8</th>\n",
       "      <td>0.0</td>\n",
       "      <td>0.000000</td>\n",
       "      <td>0.000000</td>\n",
       "      <td>0.000000</td>\n",
       "      <td>0.000000</td>\n",
       "      <td>0.000000</td>\n",
       "      <td>0.000000</td>\n",
       "      <td>0.000000</td>\n",
       "      <td>1.000000</td>\n",
       "      <td>-0.871795</td>\n",
       "      <td>-0.128205</td>\n",
       "      <td>0.000000</td>\n",
       "      <td>0.000000</td>\n",
       "      <td>0.000000</td>\n",
       "      <td>0.0</td>\n",
       "      <td>0.0</td>\n",
       "      <td>0.0</td>\n",
       "      <td>0.0</td>\n",
       "      <td>0.0</td>\n",
       "      <td>0.0</td>\n",
       "      <td>0.0</td>\n",
       "      <td>0.0</td>\n",
       "      <td>0.0</td>\n",
       "      <td>0.0</td>\n",
       "      <td>0.0</td>\n",
       "      <td>0.0</td>\n",
       "      <td>0.0</td>\n",
       "      <td>0.0</td>\n",
       "      <td>0.0</td>\n",
       "      <td>0.0</td>\n",
       "      <td>0</td>\n",
       "    </tr>\n",
       "    <tr>\n",
       "      <th>9</th>\n",
       "      <td>0.0</td>\n",
       "      <td>0.000000</td>\n",
       "      <td>0.000000</td>\n",
       "      <td>0.000000</td>\n",
       "      <td>0.000000</td>\n",
       "      <td>0.000000</td>\n",
       "      <td>0.000000</td>\n",
       "      <td>0.000000</td>\n",
       "      <td>0.000000</td>\n",
       "      <td>0.000000</td>\n",
       "      <td>0.000000</td>\n",
       "      <td>1.000000</td>\n",
       "      <td>-0.909091</td>\n",
       "      <td>-0.090909</td>\n",
       "      <td>0.0</td>\n",
       "      <td>0.0</td>\n",
       "      <td>0.0</td>\n",
       "      <td>0.0</td>\n",
       "      <td>0.0</td>\n",
       "      <td>0.0</td>\n",
       "      <td>0.0</td>\n",
       "      <td>0.0</td>\n",
       "      <td>0.0</td>\n",
       "      <td>0.0</td>\n",
       "      <td>0.0</td>\n",
       "      <td>0.0</td>\n",
       "      <td>0.0</td>\n",
       "      <td>0.0</td>\n",
       "      <td>0.0</td>\n",
       "      <td>0.0</td>\n",
       "      <td>0</td>\n",
       "    </tr>\n",
       "  </tbody>\n",
       "</table>\n",
       "</div>"
      ]
     },
     "metadata": {
      "application/vnd.databricks.v1+output": {
       "addedWidgets": {},
       "arguments": {},
       "data": "<div>\n<style scoped>\n    .dataframe tbody tr th:only-of-type {\n        vertical-align: middle;\n    }\n\n    .dataframe tbody tr th {\n        vertical-align: top;\n    }\n\n    .dataframe thead th {\n        text-align: right;\n    }\n</style>\n<table border=\"1\" class=\"dataframe\">\n  <thead>\n    <tr style=\"text-align: right;\">\n      <th></th>\n      <th>data1</th>\n      <th>data2</th>\n      <th>data3</th>\n      <th>data4</th>\n      <th>data5</th>\n      <th>data6</th>\n      <th>data7</th>\n      <th>data8</th>\n      <th>data9</th>\n      <th>data10</th>\n      <th>data11</th>\n      <th>data12</th>\n      <th>data13</th>\n      <th>data14</th>\n      <th>data15</th>\n      <th>data16</th>\n      <th>data17</th>\n      <th>data18</th>\n      <th>data19</th>\n      <th>data20</th>\n      <th>data21</th>\n      <th>data22</th>\n      <th>data23</th>\n      <th>data24</th>\n      <th>data25</th>\n      <th>data26</th>\n      <th>data27</th>\n      <th>data28</th>\n      <th>data29</th>\n      <th>data30</th>\n      <th>Control</th>\n    </tr>\n  </thead>\n  <tbody>\n    <tr>\n      <th>0</th>\n      <td>0.0</td>\n      <td>0.000000</td>\n      <td>0.000000</td>\n      <td>0.100000</td>\n      <td>-0.100000</td>\n      <td>0.000000</td>\n      <td>0.000000</td>\n      <td>0.400000</td>\n      <td>0.100000</td>\n      <td>0.500000</td>\n      <td>0.000000</td>\n      <td>-0.500000</td>\n      <td>-0.100000</td>\n      <td>-0.300000</td>\n      <td>-0.1</td>\n      <td>0.0</td>\n      <td>0.0</td>\n      <td>0.0</td>\n      <td>0.0</td>\n      <td>0.0</td>\n      <td>0.0</td>\n      <td>0.0</td>\n      <td>0.0</td>\n      <td>0.0</td>\n      <td>0.0</td>\n      <td>0.0</td>\n      <td>0.0</td>\n      <td>0.0</td>\n      <td>0.0</td>\n      <td>0.0</td>\n      <td>1</td>\n    </tr>\n    <tr>\n      <th>1</th>\n      <td>0.0</td>\n      <td>0.000000</td>\n      <td>0.000000</td>\n      <td>0.000000</td>\n      <td>0.000000</td>\n      <td>1.000000</td>\n      <td>-0.400000</td>\n      <td>-0.600000</td>\n      <td>0.000000</td>\n      <td>0.000000</td>\n      <td>0.000000</td>\n      <td>0.000000</td>\n      <td>0.000000</td>\n      <td>0.000000</td>\n      <td>0.0</td>\n      <td>0.0</td>\n      <td>0.0</td>\n      <td>0.0</td>\n      <td>0.0</td>\n      <td>0.0</td>\n      <td>0.0</td>\n      <td>0.0</td>\n      <td>0.0</td>\n      <td>0.0</td>\n      <td>0.0</td>\n      <td>0.0</td>\n      <td>0.0</td>\n      <td>0.0</td>\n      <td>0.0</td>\n      <td>0.0</td>\n      <td>0</td>\n    </tr>\n    <tr>\n      <th>2</th>\n      <td>0.0</td>\n      <td>0.000000</td>\n      <td>0.000000</td>\n      <td>0.000000</td>\n      <td>0.000000</td>\n      <td>0.000000</td>\n      <td>0.000000</td>\n      <td>0.000000</td>\n      <td>0.000000</td>\n      <td>0.000000</td>\n      <td>0.000000</td>\n      <td>0.296296</td>\n      <td>0.703704</td>\n      <td>-1.000000</td>\n      <td>0.0</td>\n      <td>0.0</td>\n      <td>0.0</td>\n      <td>0.0</td>\n      <td>0.0</td>\n      <td>0.0</td>\n      <td>0.0</td>\n      <td>0.0</td>\n      <td>0.0</td>\n      <td>0.0</td>\n      <td>0.0</td>\n      <td>0.0</td>\n      <td>0.0</td>\n      <td>0.0</td>\n      <td>0.0</td>\n      <td>0.0</td>\n      <td>0</td>\n    </tr>\n    <tr>\n      <th>3</th>\n      <td>0.0</td>\n      <td>0.000000</td>\n      <td>0.000000</td>\n      <td>0.000000</td>\n      <td>0.000000</td>\n      <td>0.000000</td>\n      <td>0.000000</td>\n      <td>0.000000</td>\n      <td>0.000000</td>\n      <td>0.000000</td>\n      <td>1.000000</td>\n      <td>-1.000000</td>\n      <td>0.000000</td>\n      <td>0.000000</td>\n      <td>0.0</td>\n      <td>0.0</td>\n      <td>0.0</td>\n      <td>0.0</td>\n      <td>0.0</td>\n      <td>0.0</td>\n      <td>0.0</td>\n      <td>0.0</td>\n      <td>0.0</td>\n      <td>0.0</td>\n      <td>0.0</td>\n      <td>0.0</td>\n      <td>0.0</td>\n      <td>0.0</td>\n      <td>0.0</td>\n      <td>0.0</td>\n      <td>0</td>\n    </tr>\n    <tr>\n      <th>4</th>\n      <td>0.0</td>\n      <td>0.000000</td>\n      <td>0.000000</td>\n      <td>0.000000</td>\n      <td>0.000000</td>\n      <td>0.000000</td>\n      <td>0.000000</td>\n      <td>0.000000</td>\n      <td>0.954545</td>\n      <td>0.045455</td>\n      <td>-1.000000</td>\n      <td>0.000000</td>\n      <td>0.000000</td>\n      <td>0.000000</td>\n      <td>0.0</td>\n      <td>0.0</td>\n      <td>0.0</td>\n      <td>0.0</td>\n      <td>0.0</td>\n      <td>0.0</td>\n      <td>0.0</td>\n      <td>0.0</td>\n      <td>0.0</td>\n      <td>0.0</td>\n      <td>0.0</td>\n      <td>0.0</td>\n      <td>0.0</td>\n      <td>0.0</td>\n      <td>0.0</td>\n      <td>0.0</td>\n      <td>0</td>\n    </tr>\n    <tr>\n      <th>5</th>\n      <td>0.0</td>\n      <td>0.000000</td>\n      <td>0.000000</td>\n      <td>0.000000</td>\n      <td>0.000000</td>\n      <td>0.000000</td>\n      <td>0.000000</td>\n      <td>0.000000</td>\n      <td>0.000000</td>\n      <td>0.000000</td>\n      <td>0.000000</td>\n      <td>1.000000</td>\n      <td>-1.000000</td>\n      <td>0.000000</td>\n      <td>0.0</td>\n      <td>0.0</td>\n      <td>0.0</td>\n      <td>0.0</td>\n      <td>0.0</td>\n      <td>0.0</td>\n      <td>0.0</td>\n      <td>0.0</td>\n      <td>0.0</td>\n      <td>0.0</td>\n      <td>0.0</td>\n      <td>0.0</td>\n      <td>0.0</td>\n      <td>0.0</td>\n      <td>0.0</td>\n      <td>0.0</td>\n      <td>0</td>\n    </tr>\n    <tr>\n      <th>6</th>\n      <td>0.0</td>\n      <td>0.078947</td>\n      <td>-0.078947</td>\n      <td>0.210526</td>\n      <td>-0.131579</td>\n      <td>0.921053</td>\n      <td>-0.815789</td>\n      <td>-0.184211</td>\n      <td>0.000000</td>\n      <td>0.052632</td>\n      <td>-0.052632</td>\n      <td>0.000000</td>\n      <td>0.000000</td>\n      <td>0.000000</td>\n      <td>0.0</td>\n      <td>0.0</td>\n      <td>0.0</td>\n      <td>0.0</td>\n      <td>0.0</td>\n      <td>0.0</td>\n      <td>0.0</td>\n      <td>0.0</td>\n      <td>0.0</td>\n      <td>0.0</td>\n      <td>0.0</td>\n      <td>0.0</td>\n      <td>0.0</td>\n      <td>0.0</td>\n      <td>0.0</td>\n      <td>0.0</td>\n      <td>1</td>\n    </tr>\n    <tr>\n      <th>7</th>\n      <td>0.0</td>\n      <td>0.000000</td>\n      <td>0.000000</td>\n      <td>0.000000</td>\n      <td>0.000000</td>\n      <td>0.000000</td>\n      <td>0.000000</td>\n      <td>0.000000</td>\n      <td>0.000000</td>\n      <td>0.062500</td>\n      <td>0.937500</td>\n      <td>-0.875000</td>\n      <td>-0.125000</td>\n      <td>0.000000</td>\n      <td>0.0</td>\n      <td>0.0</td>\n      <td>0.0</td>\n      <td>0.0</td>\n      <td>0.0</td>\n      <td>0.0</td>\n      <td>0.0</td>\n      <td>0.0</td>\n      <td>0.0</td>\n      <td>0.0</td>\n      <td>0.0</td>\n      <td>0.0</td>\n      <td>0.0</td>\n      <td>0.0</td>\n      <td>0.0</td>\n      <td>0.0</td>\n      <td>0</td>\n    </tr>\n    <tr>\n      <th>8</th>\n      <td>0.0</td>\n      <td>0.000000</td>\n      <td>0.000000</td>\n      <td>0.000000</td>\n      <td>0.000000</td>\n      <td>0.000000</td>\n      <td>0.000000</td>\n      <td>0.000000</td>\n      <td>1.000000</td>\n      <td>-0.871795</td>\n      <td>-0.128205</td>\n      <td>0.000000</td>\n      <td>0.000000</td>\n      <td>0.000000</td>\n      <td>0.0</td>\n      <td>0.0</td>\n      <td>0.0</td>\n      <td>0.0</td>\n      <td>0.0</td>\n      <td>0.0</td>\n      <td>0.0</td>\n      <td>0.0</td>\n      <td>0.0</td>\n      <td>0.0</td>\n      <td>0.0</td>\n      <td>0.0</td>\n      <td>0.0</td>\n      <td>0.0</td>\n      <td>0.0</td>\n      <td>0.0</td>\n      <td>0</td>\n    </tr>\n    <tr>\n      <th>9</th>\n      <td>0.0</td>\n      <td>0.000000</td>\n      <td>0.000000</td>\n      <td>0.000000</td>\n      <td>0.000000</td>\n      <td>0.000000</td>\n      <td>0.000000</td>\n      <td>0.000000</td>\n      <td>0.000000</td>\n      <td>0.000000</td>\n      <td>0.000000</td>\n      <td>1.000000</td>\n      <td>-0.909091</td>\n      <td>-0.090909</td>\n      <td>0.0</td>\n      <td>0.0</td>\n      <td>0.0</td>\n      <td>0.0</td>\n      <td>0.0</td>\n      <td>0.0</td>\n      <td>0.0</td>\n      <td>0.0</td>\n      <td>0.0</td>\n      <td>0.0</td>\n      <td>0.0</td>\n      <td>0.0</td>\n      <td>0.0</td>\n      <td>0.0</td>\n      <td>0.0</td>\n      <td>0.0</td>\n      <td>0</td>\n    </tr>\n  </tbody>\n</table>\n</div>",
       "datasetInfos": [],
       "metadata": {},
       "removedWidgets": [],
       "textData": null,
       "type": "htmlSandbox"
      }
     },
     "output_type": "display_data"
    }
   ],
   "source": [
    "# Read the dataset\n",
    "# raw_df = pd.read_csv(current_path+'/Preprocessed_AFData.csv', sep=';')\n",
    "raw_df = pd.read_csv(r'/dbfs/FileStore/tables/Michael/AF/Preprocessed_AFData.csv', sep=';')\n",
    "print(raw_df.shape)\n",
    "raw_df.head(10)"
   ]
  },
  {
   "cell_type": "markdown",
   "metadata": {
    "application/vnd.databricks.v1+cell": {
     "cellMetadata": {},
     "inputWidgets": {},
     "nuid": "096ff674-1588-439d-9888-c11e70914b93",
     "showTitle": false,
     "title": ""
    }
   },
   "source": [
    "## Modelling"
   ]
  },
  {
   "cell_type": "markdown",
   "metadata": {
    "application/vnd.databricks.v1+cell": {
     "cellMetadata": {},
     "inputWidgets": {},
     "nuid": "0af09e42-59d1-4892-a161-6157825c1b85",
     "showTitle": false,
     "title": ""
    }
   },
   "source": [
    "### Split the dataset into train and test"
   ]
  },
  {
   "cell_type": "code",
   "execution_count": null,
   "metadata": {
    "application/vnd.databricks.v1+cell": {
     "cellMetadata": {
      "byteLimit": 2048000,
      "rowLimit": 10000
     },
     "inputWidgets": {},
     "nuid": "665972c1-0f37-472f-a0fb-0d133ed0cd6d",
     "showTitle": false,
     "title": ""
    }
   },
   "outputs": [],
   "source": [
    "y_cols = ['Control']\n",
    "X_cols = [col for col in raw_df.columns if col not in y_cols]"
   ]
  },
  {
   "cell_type": "code",
   "execution_count": null,
   "metadata": {
    "application/vnd.databricks.v1+cell": {
     "cellMetadata": {
      "byteLimit": 2048000,
      "rowLimit": 10000
     },
     "inputWidgets": {},
     "nuid": "3a1c2ae8-5daa-47c7-af5a-c5507c7bf486",
     "showTitle": false,
     "title": ""
    }
   },
   "outputs": [],
   "source": [
    "# split train test\n",
    "X_train, X_test, y_train, y_test = train_test_split(raw_df[X_cols], raw_df[y_cols], test_size = 0.2, random_state = 123)\n",
    "X_train = X_train.values\n",
    "X_test = X_test.values\n",
    "y_train = y_train.values.flatten()\n",
    "y_test = y_test.values.flatten()"
   ]
  },
  {
   "cell_type": "code",
   "execution_count": null,
   "metadata": {
    "application/vnd.databricks.v1+cell": {
     "cellMetadata": {
      "byteLimit": 2048000,
      "rowLimit": 10000
     },
     "inputWidgets": {},
     "nuid": "1ea2f606-2847-4dea-babc-d1dc1f4b5fac",
     "showTitle": false,
     "title": ""
    }
   },
   "outputs": [],
   "source": [
    "sc = StandardScaler()\n",
    "X_train = sc.fit_transform(X_train)\n",
    "X_test = sc.transform(X_test)"
   ]
  },
  {
   "cell_type": "markdown",
   "metadata": {
    "application/vnd.databricks.v1+cell": {
     "cellMetadata": {},
     "inputWidgets": {},
     "nuid": "4de68ce1-fd52-4a8d-82c8-9d0a829694f8",
     "showTitle": false,
     "title": ""
    }
   },
   "source": [
    "### MODEL 1: Logistic Regression"
   ]
  },
  {
   "cell_type": "code",
   "execution_count": null,
   "metadata": {
    "application/vnd.databricks.v1+cell": {
     "cellMetadata": {
      "byteLimit": 2048000,
      "rowLimit": 10000
     },
     "inputWidgets": {},
     "nuid": "e60f0211-a7cf-452b-9932-090d3170e98a",
     "showTitle": false,
     "title": ""
    }
   },
   "outputs": [
    {
     "name": "stdout",
     "output_type": "stream",
     "text": [
      "Best Recall: 0.81\n",
      "Best Parameters: {'C': 10.0}\n"
     ]
    }
   ],
   "source": [
    "# GridSearch to determine the best parameters\n",
    "parameters = {\n",
    "  'C': [0.01, 0.1, 1.0, 2.0, 10.0]\n",
    "}\n",
    "\n",
    "# Create the Classifier\n",
    "model_logreg = LogisticRegression()\n",
    "\n",
    "# Create the GridSearch object\n",
    "grid_search = GridSearchCV(\n",
    "    estimator = model_logreg,\n",
    "    param_grid = parameters,\n",
    "    scoring = 'recall',\n",
    "    cv = 5\n",
    ")\n",
    "\n",
    "# Fit the GridSearch into the dataset\n",
    "grid_search = grid_search.fit(X_train, y_train)\n",
    "\n",
    "# Determine the best parameters and score\n",
    "best_score = grid_search.best_score_\n",
    "best_parameters = grid_search.best_params_\n",
    "print(\"Best Recall: {:.2f}\".format(best_score))\n",
    "print(\"Best Parameters:\", best_parameters)"
   ]
  },
  {
   "cell_type": "code",
   "execution_count": null,
   "metadata": {
    "application/vnd.databricks.v1+cell": {
     "cellMetadata": {
      "byteLimit": 2048000,
      "rowLimit": 10000
     },
     "inputWidgets": {},
     "nuid": "f9238422-cb32-425c-bae7-7dd3889dd3be",
     "showTitle": false,
     "title": ""
    }
   },
   "outputs": [
    {
     "name": "stdout",
     "output_type": "stream",
     "text": [
      "Model metrics on Training dataset:\n",
      "\n",
      "Accuracy: 0.93\n",
      "Precision: 0.91\n",
      "Recall: 0.81\n",
      "F1: 0.86\n"
     ]
    }
   ],
   "source": [
    "# Create the model with best param\n",
    "model_logreg = LogisticRegression(C=best_parameters['C'])\n",
    "\n",
    "## K-fold validation on Training dataset\n",
    "accuracy_kf = []\n",
    "precision_kf = []\n",
    "recall_kf = []\n",
    "f1_kf = []\n",
    "\n",
    "cv = model_selection.KFold(n_splits=5, shuffle=True)\n",
    "\n",
    "i = 1\n",
    "for train, test in cv.split(X_train, y_train):\n",
    "    prediction = model_logreg.fit(X_train[train],y_train[train]).predict(X_train[test])\n",
    "    true = y_train[test]\n",
    "    accuracy_kf.append(accuracy_score(true, prediction))\n",
    "    precision_kf.append(precision_score(true, prediction))\n",
    "    recall_kf.append(recall_score(true, prediction))\n",
    "    f1_kf.append(f1_score(true, prediction))\n",
    "\n",
    "print('Model metrics on Training dataset:\\n')\n",
    "print('Accuracy: %0.2f' % mean(accuracy_kf))\n",
    "print('Precision: %0.2f' % mean(precision_kf))\n",
    "print('Recall: %0.2f' % mean(recall_kf))\n",
    "print('F1: %0.2f' % mean(f1_kf))"
   ]
  },
  {
   "cell_type": "code",
   "execution_count": null,
   "metadata": {
    "application/vnd.databricks.v1+cell": {
     "cellMetadata": {
      "byteLimit": 2048000,
      "rowLimit": 10000
     },
     "inputWidgets": {},
     "nuid": "c2a43a77-8312-4b36-b0a7-fe3811888db4",
     "showTitle": false,
     "title": ""
    }
   },
   "outputs": [
    {
     "name": "stdout",
     "output_type": "stream",
     "text": [
      "Model metrics on Test dataset:\n",
      "\n",
      "Accuracy: 0.93\n",
      "Precision: 0.91\n",
      "Recall: 0.81\n",
      "F1: 0.86\n"
     ]
    }
   ],
   "source": [
    "## K-fold validation on Test dataset\n",
    "accuracy_kf = []\n",
    "precision_kf = []\n",
    "recall_kf = []\n",
    "f1_kf = []\n",
    "\n",
    "cv = model_selection.KFold(n_splits=5, shuffle=True)\n",
    "\n",
    "i = 1\n",
    "for train, test in cv.split(X_test, y_test):\n",
    "    prediction = model_logreg.fit(X_test[train],y_test[train]).predict(X_test[test])\n",
    "    true = y_test[test]\n",
    "    accuracy_kf.append(accuracy_score(true, prediction))\n",
    "    precision_kf.append(precision_score(true, prediction))\n",
    "    recall_kf.append(recall_score(true, prediction))\n",
    "    f1_kf.append(f1_score(true, prediction))\n",
    "\n",
    "print('Model metrics on Test dataset:\\n')\n",
    "print('Accuracy: %0.2f' % mean(accuracy_kf))\n",
    "print('Precision: %0.2f' % mean(precision_kf))\n",
    "print('Recall: %0.2f' % mean(recall_kf))\n",
    "print('F1: %0.2f' % mean(f1_kf))"
   ]
  },
  {
   "cell_type": "markdown",
   "metadata": {
    "application/vnd.databricks.v1+cell": {
     "cellMetadata": {},
     "inputWidgets": {},
     "nuid": "50cd2747-bc6c-4dc7-9953-a9e30fede92e",
     "showTitle": false,
     "title": ""
    }
   },
   "source": [
    "### MODEL 2: ElasticNet Regression (L1 Lasso & L2 Ridge)"
   ]
  },
  {
   "cell_type": "code",
   "execution_count": null,
   "metadata": {
    "application/vnd.databricks.v1+cell": {
     "cellMetadata": {
      "byteLimit": 2048000,
      "rowLimit": 10000
     },
     "inputWidgets": {},
     "nuid": "f9cea711-6358-4e78-99f3-5834819c4059",
     "showTitle": false,
     "title": ""
    }
   },
   "outputs": [
    {
     "name": "stdout",
     "output_type": "stream",
     "text": [
      "Best Recall: 0.81\n",
      "Best Parameters: {'C': 0.01, 'l1_ratio': 1.0}\n"
     ]
    }
   ],
   "source": [
    "# GridSearch to determine the best parameters\n",
    "parameters = {'C': [0.01, 0.1, 1.0, 2.0, 10.0],\n",
    "              'l1_ratio': [0.1, 0.25, 0.5, 0.75, 1.0]}\n",
    "\n",
    "# Create the Classifier\n",
    "model = LogisticRegression(penalty='elasticnet', solver='saga', max_iter=1000)\n",
    "\n",
    "# Create the GridSearch object\n",
    "grid_search = model_selection.GridSearchCV(estimator = model,\n",
    "                                           param_grid = parameters,\n",
    "                                           scoring = 'recall',\n",
    "                                           cv = 5)\n",
    "\n",
    "# Fit the GridSearch into the d ataset\n",
    "grid_search = grid_search.fit(X_train, y_train)\n",
    "\n",
    "# Determine the best parameters and score\n",
    "best_score = grid_search.best_score_\n",
    "best_parameters = grid_search.best_params_\n",
    "print(\"Best Recall: {:.2f}\".format(best_score))\n",
    "print(\"Best Parameters:\", best_parameters)"
   ]
  },
  {
   "cell_type": "code",
   "execution_count": null,
   "metadata": {
    "application/vnd.databricks.v1+cell": {
     "cellMetadata": {
      "byteLimit": 2048000,
      "rowLimit": 10000
     },
     "inputWidgets": {},
     "nuid": "035b393d-aa56-47f9-a0c3-930ee4348531",
     "showTitle": false,
     "title": ""
    }
   },
   "outputs": [
    {
     "name": "stdout",
     "output_type": "stream",
     "text": [
      "Model metrics on Training dataset:\n",
      "\n",
      "Accuracy: 0.94\n",
      "Precision: 0.91\n",
      "Recall: 0.82\n",
      "F1: 0.86\n"
     ]
    }
   ],
   "source": [
    "# Create the model with best param\n",
    "model_elasticnet = LogisticRegression(\n",
    "    C=best_parameters['C'],\n",
    "    l1_ratio=best_parameters['l1_ratio'],\n",
    "    penalty='elasticnet', solver='saga', max_iter=1000\n",
    ")\n",
    "\n",
    "## K-fold validation on Training dataset\n",
    "accuracy_kf = []\n",
    "precision_kf = []\n",
    "recall_kf = []\n",
    "f1_kf = []\n",
    "\n",
    "cv = model_selection.KFold(n_splits=5, shuffle=True)\n",
    "\n",
    "i = 1\n",
    "for train, test in cv.split(X_train, y_train):\n",
    "    prediction = model_elasticnet.fit(X_train[train],y_train[train]).predict(X_train[test])\n",
    "    true = y_train[test]\n",
    "    accuracy_kf.append(accuracy_score(true, prediction))\n",
    "    precision_kf.append(precision_score(true, prediction))\n",
    "    recall_kf.append(recall_score(true, prediction))\n",
    "    f1_kf.append(f1_score(true, prediction))\n",
    "\n",
    "print('Model metrics on Training dataset:\\n')\n",
    "print('Accuracy: %0.2f' % mean(accuracy_kf))\n",
    "print('Precision: %0.2f' % mean(precision_kf))\n",
    "print('Recall: %0.2f' % mean(recall_kf))\n",
    "print('F1: %0.2f' % mean(f1_kf))"
   ]
  },
  {
   "cell_type": "code",
   "execution_count": null,
   "metadata": {
    "application/vnd.databricks.v1+cell": {
     "cellMetadata": {
      "byteLimit": 2048000,
      "rowLimit": 10000
     },
     "inputWidgets": {},
     "nuid": "f3c2c458-9ffe-4ccd-9d0b-3415c2d51789",
     "showTitle": false,
     "title": ""
    }
   },
   "outputs": [
    {
     "name": "stdout",
     "output_type": "stream",
     "text": [
      "Model metrics on Test dataset:\n",
      "\n",
      "Accuracy: 0.93\n",
      "Precision: 0.92\n",
      "Recall: 0.80\n",
      "F1: 0.86\n"
     ]
    }
   ],
   "source": [
    "## K-fold validation on Test dataset\n",
    "accuracy_kf = []\n",
    "precision_kf = []\n",
    "recall_kf = []\n",
    "f1_kf = []\n",
    "\n",
    "cv = model_selection.KFold(n_splits=5, shuffle=True)\n",
    "\n",
    "i = 1\n",
    "for train, test in cv.split(X_test, y_test):\n",
    "    prediction = model_elasticnet.fit(X_test[train],y_test[train]).predict(X_test[test])\n",
    "    true = y_test[test]\n",
    "    accuracy_kf.append(accuracy_score(true, prediction))\n",
    "    precision_kf.append(precision_score(true, prediction))\n",
    "    recall_kf.append(recall_score(true, prediction))\n",
    "    f1_kf.append(f1_score(true, prediction))\n",
    "\n",
    "print('Model metrics on Test dataset:\\n')\n",
    "print('Accuracy: %0.2f' % mean(accuracy_kf))\n",
    "print('Precision: %0.2f' % mean(precision_kf))\n",
    "print('Recall: %0.2f' % mean(recall_kf))\n",
    "print('F1: %0.2f' % mean(f1_kf))"
   ]
  },
  {
   "cell_type": "markdown",
   "metadata": {
    "application/vnd.databricks.v1+cell": {
     "cellMetadata": {},
     "inputWidgets": {},
     "nuid": "53535ac9-84fd-45ef-b461-87ae57b679d9",
     "showTitle": false,
     "title": ""
    }
   },
   "source": [
    "### MODEL 3: KNN-DTW"
   ]
  },
  {
   "cell_type": "code",
   "execution_count": null,
   "metadata": {
    "application/vnd.databricks.v1+cell": {
     "cellMetadata": {
      "byteLimit": 2048000,
      "rowLimit": 10000
     },
     "inputWidgets": {},
     "nuid": "205ead06-67ec-4f6b-be0e-01c579e12c14",
     "showTitle": false,
     "title": ""
    }
   },
   "outputs": [
    {
     "name": "stdout",
     "output_type": "stream",
     "text": [
      "Best Recall: 0.72\n",
      "Best Parameters: {'n_neighbors': 3}\n"
     ]
    }
   ],
   "source": [
    "# GridSearch to determine the best parameters\n",
    "parameters = {\n",
    "    'n_neighbors': [3, 5, 7]\n",
    "}\n",
    "\n",
    "# Create the Classifier\n",
    "model_knnDtw = KNeighborsTimeSeriesClassifier(metric='dtw')\n",
    "\n",
    "# Create the GridSearch object\n",
    "grid_search = GridSearchCV(estimator = model_knnDtw,\n",
    "                           param_grid = parameters,\n",
    "                           scoring = 'recall',\n",
    "                           cv = 5)\n",
    "\n",
    "# Fit the GridSearch into the dataset\n",
    "grid_search = grid_search.fit(X_train[:1000:], y_train[:1000:])\n",
    "\n",
    "# Determine the best parameters and score\n",
    "best_score = grid_search.best_score_\n",
    "best_parameters = grid_search.best_params_\n",
    "print(\"Best Recall: {:.2f}\".format(best_score))\n",
    "print(\"Best Parameters:\", best_parameters)"
   ]
  },
  {
   "cell_type": "code",
   "execution_count": null,
   "metadata": {
    "application/vnd.databricks.v1+cell": {
     "cellMetadata": {
      "byteLimit": 2048000,
      "rowLimit": 10000
     },
     "inputWidgets": {},
     "nuid": "b83e29cf-38c1-4764-be67-04dacb186dfa",
     "showTitle": false,
     "title": ""
    }
   },
   "outputs": [
    {
     "name": "stdout",
     "output_type": "stream",
     "text": [
      "Model metrics on Training dataset:\n",
      "\n",
      "Accuracy: 0.91\n",
      "Precision: 0.89\n",
      "Recall: 0.72\n",
      "F1: 0.79\n"
     ]
    }
   ],
   "source": [
    "# Create the model with best param\n",
    "model_knn = KNeighborsTimeSeriesClassifier(\n",
    "    n_neighbors=best_parameters['n_neighbors'],\n",
    "    metric='dtw'\n",
    ")\n",
    "\n",
    "## K-fold validation on Training dataset\n",
    "accuracy_kf = []\n",
    "precision_kf = []\n",
    "recall_kf = []\n",
    "f1_kf = []\n",
    "\n",
    "cv = model_selection.KFold(n_splits=5, shuffle=True)\n",
    "\n",
    "i = 1\n",
    "for train, test in cv.split(X_train[:1000:], y_train[:1000:]):\n",
    "    prediction = model_knn.fit(X_train[:1000:][train],y_train[:1000:][train]).predict(X_train[:1000:][test])\n",
    "    true = y_train[:1000:][test]\n",
    "    accuracy_kf.append(accuracy_score(true, prediction))\n",
    "    precision_kf.append(precision_score(true, prediction))\n",
    "    recall_kf.append(recall_score(true, prediction))\n",
    "    f1_kf.append(f1_score(true, prediction))\n",
    "\n",
    "print('Model metrics on Training dataset:\\n')\n",
    "print('Accuracy: %0.2f' % mean(accuracy_kf))\n",
    "print('Precision: %0.2f' % mean(precision_kf))\n",
    "print('Recall: %0.2f' % mean(recall_kf))\n",
    "print('F1: %0.2f' % mean(f1_kf))"
   ]
  },
  {
   "cell_type": "code",
   "execution_count": null,
   "metadata": {
    "application/vnd.databricks.v1+cell": {
     "cellMetadata": {
      "byteLimit": 2048000,
      "rowLimit": 10000
     },
     "inputWidgets": {},
     "nuid": "c39cbbd0-cf6f-4bc0-baf3-9f7d161744f3",
     "showTitle": false,
     "title": ""
    }
   },
   "outputs": [
    {
     "name": "stdout",
     "output_type": "stream",
     "text": [
      "Model metrics on Test dataset:\n",
      "\n",
      "Accuracy: 0.89\n",
      "Precision: 0.85\n",
      "Recall: 0.70\n",
      "F1: 0.76\n"
     ]
    }
   ],
   "source": [
    "## K-fold validation on Test dataset\n",
    "accuracy_kf = []\n",
    "precision_kf = []\n",
    "recall_kf = []\n",
    "f1_kf = []\n",
    "\n",
    "cv = model_selection.KFold(n_splits=5, shuffle=True)\n",
    "\n",
    "i = 1\n",
    "for train, test in cv.split(X_test[:1000:], y_test[:1000:]):\n",
    "    prediction = model_knn.fit(X_test[:1000:][train],y_test[:1000:][train]).predict(X_test[:1000:][test])\n",
    "    true = y_test[:1000:][test]\n",
    "    accuracy_kf.append(accuracy_score(true, prediction))\n",
    "    precision_kf.append(precision_score(true, prediction))\n",
    "    recall_kf.append(recall_score(true, prediction))\n",
    "    f1_kf.append(f1_score(true, prediction))\n",
    "\n",
    "print('Model metrics on Test dataset:\\n')\n",
    "print('Accuracy: %0.2f' % mean(accuracy_kf))\n",
    "print('Precision: %0.2f' % mean(precision_kf))\n",
    "print('Recall: %0.2f' % mean(recall_kf))\n",
    "print('F1: %0.2f' % mean(f1_kf))"
   ]
  },
  {
   "cell_type": "markdown",
   "metadata": {
    "application/vnd.databricks.v1+cell": {
     "cellMetadata": {},
     "inputWidgets": {},
     "nuid": "7b05fdd2-3f3e-441a-aadf-ec3c14793c2a",
     "showTitle": false,
     "title": ""
    }
   },
   "source": [
    "### MODEL 4: Naive Bayes"
   ]
  },
  {
   "cell_type": "code",
   "execution_count": null,
   "metadata": {
    "application/vnd.databricks.v1+cell": {
     "cellMetadata": {
      "byteLimit": 2048000,
      "rowLimit": 10000
     },
     "inputWidgets": {},
     "nuid": "ff54a814-5acd-44f3-bd9e-ee48ad134dee",
     "showTitle": false,
     "title": ""
    }
   },
   "outputs": [
    {
     "name": "stdout",
     "output_type": "stream",
     "text": [
      "Model metrics on Training dataset:\n",
      "\n",
      "Accuracy: 0.69\n",
      "Precision: 0.43\n",
      "Recall: 0.91\n",
      "F1: 0.59\n"
     ]
    }
   ],
   "source": [
    "# Create the model with best param\n",
    "model_nb = GaussianNB()\n",
    "\n",
    "## K-fold validation on Training dataset\n",
    "accuracy_kf = []\n",
    "precision_kf = []\n",
    "recall_kf = []\n",
    "f1_kf = []\n",
    "\n",
    "cv = model_selection.KFold(n_splits=5, shuffle=True)\n",
    "\n",
    "i = 1\n",
    "for train, test in cv.split(X_train, y_train):\n",
    "    prediction = model_nb.fit(X_train[train],y_train[train]).predict(X_train[test])\n",
    "    true = y_train[test]\n",
    "    accuracy_kf.append(accuracy_score(true, prediction))\n",
    "    precision_kf.append(precision_score(true, prediction))\n",
    "    recall_kf.append(recall_score(true, prediction))\n",
    "    f1_kf.append(f1_score(true, prediction))\n",
    "\n",
    "print('Model metrics on Training dataset:\\n')\n",
    "print('Accuracy: %0.2f' % mean(accuracy_kf))\n",
    "print('Precision: %0.2f' % mean(precision_kf))\n",
    "print('Recall: %0.2f' % mean(recall_kf))\n",
    "print('F1: %0.2f' % mean(f1_kf))"
   ]
  },
  {
   "cell_type": "code",
   "execution_count": null,
   "metadata": {
    "application/vnd.databricks.v1+cell": {
     "cellMetadata": {
      "byteLimit": 2048000,
      "rowLimit": 10000
     },
     "inputWidgets": {},
     "nuid": "d75add6c-c20a-4e67-bfe9-45552b7c3b6d",
     "showTitle": false,
     "title": ""
    }
   },
   "outputs": [
    {
     "name": "stdout",
     "output_type": "stream",
     "text": [
      "Model metrics on Test dataset:\n",
      "\n",
      "Accuracy: 0.67\n",
      "Precision: 0.42\n",
      "Recall: 0.92\n",
      "F1: 0.58\n"
     ]
    }
   ],
   "source": [
    "## K-fold validation on Test dataset\n",
    "accuracy_kf = []\n",
    "precision_kf = []\n",
    "recall_kf = []\n",
    "f1_kf = []\n",
    "\n",
    "cv = model_selection.KFold(n_splits=5, shuffle=True)\n",
    "\n",
    "i = 1\n",
    "for train, test in cv.split(X_test, y_test):\n",
    "    prediction = model_nb.fit(X_test[train],y_test[train]).predict(X_test[test])\n",
    "    true = y_test[test]\n",
    "    accuracy_kf.append(accuracy_score(true, prediction))\n",
    "    precision_kf.append(precision_score(true, prediction))\n",
    "    recall_kf.append(recall_score(true, prediction))\n",
    "    f1_kf.append(f1_score(true, prediction))\n",
    "\n",
    "print('Model metrics on Test dataset:\\n')\n",
    "print('Accuracy: %0.2f' % mean(accuracy_kf))\n",
    "print('Precision: %0.2f' % mean(precision_kf))\n",
    "print('Recall: %0.2f' % mean(recall_kf))\n",
    "print('F1: %0.2f' % mean(f1_kf))"
   ]
  },
  {
   "cell_type": "markdown",
   "metadata": {
    "application/vnd.databricks.v1+cell": {
     "cellMetadata": {},
     "inputWidgets": {},
     "nuid": "b356fb09-96ef-401a-a1fd-3f033f349c77",
     "showTitle": false,
     "title": ""
    }
   },
   "source": [
    "### MODEL 5: Decision Tree"
   ]
  },
  {
   "cell_type": "code",
   "execution_count": null,
   "metadata": {
    "application/vnd.databricks.v1+cell": {
     "cellMetadata": {
      "byteLimit": 2048000,
      "rowLimit": 10000
     },
     "inputWidgets": {},
     "nuid": "56d1087c-10de-4562-bd3f-d4825304f424",
     "showTitle": false,
     "title": ""
    }
   },
   "outputs": [
    {
     "name": "stdout",
     "output_type": "stream",
     "text": [
      "Best Recall: 0.86\n",
      "Best Parameters: {'criterion': 'gini', 'max_depth': 9, 'max_features': 'log2'}\n"
     ]
    }
   ],
   "source": [
    "# GridSearch to determine the best parameters\n",
    "parameters = {\n",
    "    'max_depth': [3, 5, 7, 9],\n",
    "    'criterion': ['gini', 'entropy'],\n",
    "    'max_features': ['sqrt', 'log2']\n",
    "}\n",
    "\n",
    "# Create the Classifier\n",
    "model_dtree = DecisionTreeClassifier()\n",
    "\n",
    "# Create the GridSearch object\n",
    "grid_search = GridSearchCV(estimator = model_dtree,\n",
    "                           param_grid = parameters,\n",
    "                           scoring = 'recall',\n",
    "                           cv = 5)\n",
    "\n",
    "# Fit the GridSearch into the dataset\n",
    "grid_search = grid_search.fit(X_train, y_train)\n",
    "\n",
    "# Determine the best parameters and score\n",
    "best_score = grid_search.best_score_\n",
    "best_parameters = grid_search.best_params_\n",
    "print(\"Best Recall: {:.2f}\".format(best_score))\n",
    "print(\"Best Parameters:\", best_parameters)"
   ]
  },
  {
   "cell_type": "code",
   "execution_count": null,
   "metadata": {
    "application/vnd.databricks.v1+cell": {
     "cellMetadata": {
      "byteLimit": 2048000,
      "rowLimit": 10000
     },
     "inputWidgets": {},
     "nuid": "2316eda2-8c76-4d05-9c3e-bde40e9f9ff8",
     "showTitle": false,
     "title": ""
    }
   },
   "outputs": [
    {
     "name": "stdout",
     "output_type": "stream",
     "text": [
      "Model metrics on Training dataset:\n",
      "\n",
      "Accuracy: 0.93\n",
      "Precision: 0.85\n",
      "Recall: 0.85\n",
      "F1: 0.85\n"
     ]
    }
   ],
   "source": [
    "# Create the model with best param\n",
    "model_dtree = DecisionTreeClassifier(\n",
    "    max_depth=best_parameters['max_depth'],\n",
    "    criterion=best_parameters['criterion'],\n",
    "    max_features=best_parameters['max_features']\n",
    ")\n",
    "\n",
    "## K-fold validation on Training dataset\n",
    "accuracy_kf = []\n",
    "precision_kf = []\n",
    "recall_kf = []\n",
    "f1_kf = []\n",
    "\n",
    "cv = model_selection.KFold(n_splits=5, shuffle=True)\n",
    "\n",
    "i = 1\n",
    "for train, test in cv.split(X_train, y_train):\n",
    "    prediction = model_dtree.fit(X_train[train],y_train[train]).predict(X_train[test])\n",
    "    true = y_train[test]\n",
    "    accuracy_kf.append(accuracy_score(true, prediction))\n",
    "    precision_kf.append(precision_score(true, prediction))\n",
    "    recall_kf.append(recall_score(true, prediction))\n",
    "    f1_kf.append(f1_score(true, prediction))\n",
    "\n",
    "print('Model metrics on Training dataset:\\n')\n",
    "print('Accuracy: %0.2f' % mean(accuracy_kf))\n",
    "print('Precision: %0.2f' % mean(precision_kf))\n",
    "print('Recall: %0.2f' % mean(recall_kf))\n",
    "print('F1: %0.2f' % mean(f1_kf))"
   ]
  },
  {
   "cell_type": "code",
   "execution_count": null,
   "metadata": {
    "application/vnd.databricks.v1+cell": {
     "cellMetadata": {
      "byteLimit": 2048000,
      "rowLimit": 10000
     },
     "inputWidgets": {},
     "nuid": "db25d2da-efaa-4501-90b8-a5ade2ce54ba",
     "showTitle": false,
     "title": ""
    }
   },
   "outputs": [
    {
     "name": "stdout",
     "output_type": "stream",
     "text": [
      "Model metrics on Test dataset:\n",
      "\n",
      "Accuracy: 0.93\n",
      "Precision: 0.87\n",
      "Recall: 0.86\n",
      "F1: 0.86\n"
     ]
    }
   ],
   "source": [
    "## K-fold validation on Test dataset\n",
    "accuracy_kf = []\n",
    "precision_kf = []\n",
    "recall_kf = []\n",
    "f1_kf = []\n",
    "\n",
    "cv = model_selection.KFold(n_splits=5, shuffle=True)\n",
    "\n",
    "i = 1\n",
    "for train, test in cv.split(X_test, y_test):\n",
    "    prediction = model_dtree.fit(X_test[train],y_test[train]).predict(X_test[test])\n",
    "    true = y_test[test]\n",
    "    accuracy_kf.append(accuracy_score(true, prediction))\n",
    "    precision_kf.append(precision_score(true, prediction))\n",
    "    recall_kf.append(recall_score(true, prediction))\n",
    "    f1_kf.append(f1_score(true, prediction))\n",
    "\n",
    "print('Model metrics on Test dataset:\\n')\n",
    "print('Accuracy: %0.2f' % mean(accuracy_kf))\n",
    "print('Precision: %0.2f' % mean(precision_kf))\n",
    "print('Recall: %0.2f' % mean(recall_kf))\n",
    "print('F1: %0.2f' % mean(f1_kf))"
   ]
  },
  {
   "cell_type": "markdown",
   "metadata": {
    "application/vnd.databricks.v1+cell": {
     "cellMetadata": {},
     "inputWidgets": {},
     "nuid": "caa3d89c-84c8-450f-b184-df72abbffe66",
     "showTitle": false,
     "title": ""
    }
   },
   "source": [
    "### MODEL 6: Random Forest"
   ]
  },
  {
   "cell_type": "code",
   "execution_count": null,
   "metadata": {
    "application/vnd.databricks.v1+cell": {
     "cellMetadata": {
      "byteLimit": 2048000,
      "rowLimit": 10000
     },
     "inputWidgets": {},
     "nuid": "76cc5e91-938b-4702-9a5c-51d2ca0e043a",
     "showTitle": false,
     "title": ""
    }
   },
   "outputs": [
    {
     "name": "stdout",
     "output_type": "stream",
     "text": [
      "Best Recall: 0.88\n",
      "Best Parameters: {'max_depth': 9, 'max_features': 'sqrt', 'min_samples_split': 7, 'n_estimators': 50}\n"
     ]
    }
   ],
   "source": [
    "# GridSearch to determine the best parameters\n",
    "parameters = {'n_estimators': [50,100,150,300],\n",
    "              'max_depth': [3,5,7,9],\n",
    "              'min_samples_split': [3,5,7],\n",
    "              'max_features': ['sqrt','log2']}\n",
    "\n",
    "# Create the Classifier\n",
    "model_rf = RandomForestClassifier()\n",
    "\n",
    "# Create the GridSearch object\n",
    "grid_search = GridSearchCV(estimator = model_rf,\n",
    "                           param_grid = parameters,\n",
    "                           scoring = 'recall',\n",
    "                           cv = 5)\n",
    "\n",
    "# Fit the GridSearch into the dataset\n",
    "grid_search = grid_search.fit(X_train, y_train)\n",
    "\n",
    "# Determine the best parameters and score\n",
    "best_score = grid_search.best_score_\n",
    "best_parameters = grid_search.best_params_\n",
    "print(\"Best Recall: {:.2f}\".format(best_score))\n",
    "print(\"Best Parameters:\", best_parameters)"
   ]
  },
  {
   "cell_type": "code",
   "execution_count": null,
   "metadata": {
    "application/vnd.databricks.v1+cell": {
     "cellMetadata": {
      "byteLimit": 2048000,
      "rowLimit": 10000
     },
     "inputWidgets": {},
     "nuid": "82392846-69c8-4fa2-96e7-74ea8f1be5a0",
     "showTitle": false,
     "title": ""
    }
   },
   "outputs": [
    {
     "name": "stdout",
     "output_type": "stream",
     "text": [
      "Model metrics on Training dataset:\n",
      "\n",
      "Accuracy: 0.95\n",
      "Precision: 0.91\n",
      "Recall: 0.88\n",
      "F1: 0.90\n"
     ]
    }
   ],
   "source": [
    "# Create the model with best param\n",
    "model_rf = RandomForestClassifier(\n",
    "    n_estimators=best_parameters['n_estimators'],\n",
    "    max_depth=best_parameters['max_depth'],\n",
    "    min_samples_split=best_parameters['min_samples_split'],\n",
    "    max_features=best_parameters['max_features']\n",
    ")\n",
    "\n",
    "## K-fold validation on Training dataset\n",
    "accuracy_kf = []\n",
    "precision_kf = []\n",
    "recall_kf = []\n",
    "f1_kf = []\n",
    "\n",
    "cv = model_selection.KFold(n_splits=5, shuffle=True)\n",
    "\n",
    "i = 1\n",
    "for train, test in cv.split(X_train, y_train):\n",
    "    prediction = model_rf.fit(X_train[train],y_train[train]).predict(X_train[test])\n",
    "    true = y_train[test]\n",
    "    accuracy_kf.append(accuracy_score(true, prediction))\n",
    "    precision_kf.append(precision_score(true, prediction))\n",
    "    recall_kf.append(recall_score(true, prediction))\n",
    "    f1_kf.append(f1_score(true, prediction))\n",
    "\n",
    "print('Model metrics on Training dataset:\\n')\n",
    "print('Accuracy: %0.2f' % mean(accuracy_kf))\n",
    "print('Precision: %0.2f' % mean(precision_kf))\n",
    "print('Recall: %0.2f' % mean(recall_kf))\n",
    "print('F1: %0.2f' % mean(f1_kf))"
   ]
  },
  {
   "cell_type": "code",
   "execution_count": null,
   "metadata": {
    "application/vnd.databricks.v1+cell": {
     "cellMetadata": {
      "byteLimit": 2048000,
      "rowLimit": 10000
     },
     "inputWidgets": {},
     "nuid": "6ad5a94d-97d3-423b-b390-dfea1a53bef7",
     "showTitle": false,
     "title": ""
    }
   },
   "outputs": [
    {
     "name": "stdout",
     "output_type": "stream",
     "text": [
      "Model metrics on Test dataset:\n",
      "\n",
      "Accuracy: 0.95\n",
      "Precision: 0.91\n",
      "Recall: 0.89\n",
      "F1: 0.90\n"
     ]
    }
   ],
   "source": [
    "## K-fold validation on Test dataset\n",
    "accuracy_kf = []\n",
    "precision_kf = []\n",
    "recall_kf = []\n",
    "f1_kf = []\n",
    "\n",
    "cv = model_selection.KFold(n_splits=5, shuffle=True)\n",
    "\n",
    "i = 1\n",
    "for train, test in cv.split(X_test, y_test):\n",
    "    prediction = model_rf.fit(X_test[train],y_test[train]).predict(X_test[test])\n",
    "    true = y_test[test]\n",
    "    accuracy_kf.append(accuracy_score(true, prediction))\n",
    "    precision_kf.append(precision_score(true, prediction))\n",
    "    recall_kf.append(recall_score(true, prediction))\n",
    "    f1_kf.append(f1_score(true, prediction))\n",
    "\n",
    "print('Model metrics on Test dataset:\\n')\n",
    "print('Accuracy: %0.2f' % mean(accuracy_kf))\n",
    "print('Precision: %0.2f' % mean(precision_kf))\n",
    "print('Recall: %0.2f' % mean(recall_kf))\n",
    "print('F1: %0.2f' % mean(f1_kf))"
   ]
  },
  {
   "cell_type": "markdown",
   "metadata": {
    "application/vnd.databricks.v1+cell": {
     "cellMetadata": {},
     "inputWidgets": {},
     "nuid": "63c2b3e4-ea80-4a6d-894f-5df3b446c1ce",
     "showTitle": false,
     "title": ""
    }
   },
   "source": [
    "### Model 7: XGBoost"
   ]
  },
  {
   "cell_type": "code",
   "execution_count": null,
   "metadata": {
    "application/vnd.databricks.v1+cell": {
     "cellMetadata": {
      "byteLimit": 2048000,
      "rowLimit": 10000
     },
     "inputWidgets": {},
     "nuid": "1f138638-4a85-4fec-a4e4-5c6b9eb14100",
     "showTitle": false,
     "title": ""
    }
   },
   "outputs": [
    {
     "name": "stdout",
     "output_type": "stream",
     "text": [
      "Best Recall: 0.92\n",
      "Best Parameters: {'learning_rate': 0.1, 'max_depth': 9, 'n_estimators': 700}\n"
     ]
    }
   ],
   "source": [
    "# Define the parameter search space\n",
    "parameters = {\n",
    "    'n_estimators': [100,300,500,700,900],\n",
    "    'max_depth': [3,5,7,9],\n",
    "    'learning_rate': [0.01,0.1,1.0]\n",
    "}\n",
    "\n",
    "# Create the Classifier\n",
    "model_xgb = XGBClassifier()\n",
    "\n",
    "# Create the GridSearch object\n",
    "grid_search = GridSearchCV(estimator = model_xgb,\n",
    "                           param_grid = parameters,\n",
    "                           scoring = 'recall',\n",
    "                           cv = 5)\n",
    "\n",
    "# Fit the GridSearch into the dataset\n",
    "grid_search = grid_search.fit(X_train, y_train)\n",
    "\n",
    "# Determine the best parameters and score\n",
    "best_score = grid_search.best_score_\n",
    "best_parameters = grid_search.best_params_\n",
    "print(\"Best Recall: {:.2f}\".format(best_score))\n",
    "print(\"Best Parameters:\", best_parameters)"
   ]
  },
  {
   "cell_type": "code",
   "execution_count": null,
   "metadata": {
    "application/vnd.databricks.v1+cell": {
     "cellMetadata": {
      "byteLimit": 2048000,
      "rowLimit": 10000
     },
     "inputWidgets": {},
     "nuid": "0a7975ea-91e5-4267-b4e1-b8bfe0e45da9",
     "showTitle": false,
     "title": ""
    }
   },
   "outputs": [
    {
     "name": "stdout",
     "output_type": "stream",
     "text": [
      "Model metrics on Training dataset:\n",
      "\n",
      "Accuracy: 0.96\n",
      "Precision: 0.93\n",
      "Recall: 0.92\n",
      "F1: 0.92\n"
     ]
    }
   ],
   "source": [
    "# Create the model with best param\n",
    "model_xgb = XGBClassifier(\n",
    "    n_estimators=best_parameters['n_estimators'],\n",
    "    max_depth=best_parameters['max_depth'],\n",
    "    learning_rate=best_parameters['learning_rate']\n",
    ")\n",
    "\n",
    "## K-fold validation on Training dataset\n",
    "accuracy_kf = []\n",
    "precision_kf = []\n",
    "recall_kf = []\n",
    "f1_kf = []\n",
    "\n",
    "cv = model_selection.KFold(n_splits=5, shuffle=True)\n",
    "\n",
    "i = 1\n",
    "for train, test in cv.split(X_train, y_train):\n",
    "    prediction = model_xgb.fit(X_train[train],y_train[train]).predict(X_train[test])\n",
    "    true = y_train[test]\n",
    "    accuracy_kf.append(accuracy_score(true, prediction))\n",
    "    precision_kf.append(precision_score(true, prediction))\n",
    "    recall_kf.append(recall_score(true, prediction))\n",
    "    f1_kf.append(f1_score(true, prediction))\n",
    "\n",
    "print('Model metrics on Training dataset:\\n')\n",
    "print('Accuracy: %0.2f' % mean(accuracy_kf))\n",
    "print('Precision: %0.2f' % mean(precision_kf))\n",
    "print('Recall: %0.2f' % mean(recall_kf))\n",
    "print('F1: %0.2f' % mean(f1_kf))"
   ]
  },
  {
   "cell_type": "code",
   "execution_count": null,
   "metadata": {
    "application/vnd.databricks.v1+cell": {
     "cellMetadata": {
      "byteLimit": 2048000,
      "rowLimit": 10000
     },
     "inputWidgets": {},
     "nuid": "88ac1132-9b9f-428a-9f0d-82d993284dda",
     "showTitle": false,
     "title": ""
    }
   },
   "outputs": [
    {
     "name": "stdout",
     "output_type": "stream",
     "text": [
      "Model metrics on Test dataset:\n",
      "\n",
      "Accuracy: 0.96\n",
      "Precision: 0.92\n",
      "Recall: 0.92\n",
      "F1: 0.92\n"
     ]
    }
   ],
   "source": [
    "## K-fold validation on Test dataset\n",
    "accuracy_kf = []\n",
    "precision_kf = []\n",
    "recall_kf = []\n",
    "f1_kf = []\n",
    "\n",
    "cv = model_selection.KFold(n_splits=5, shuffle=True)\n",
    "\n",
    "i = 1\n",
    "for train, test in cv.split(X_test, y_test):\n",
    "    prediction = model_xgb.fit(X_test[train],y_test[train]).predict(X_test[test])\n",
    "    true = y_test[test]\n",
    "    accuracy_kf.append(accuracy_score(true, prediction))\n",
    "    precision_kf.append(precision_score(true, prediction))\n",
    "    recall_kf.append(recall_score(true, prediction))\n",
    "    f1_kf.append(f1_score(true, prediction))\n",
    "\n",
    "print('Model metrics on Test dataset:\\n')\n",
    "print('Accuracy: %0.2f' % mean(accuracy_kf))\n",
    "print('Precision: %0.2f' % mean(precision_kf))\n",
    "print('Recall: %0.2f' % mean(recall_kf))\n",
    "print('F1: %0.2f' % mean(f1_kf))"
   ]
  },
  {
   "cell_type": "code",
   "execution_count": null,
   "metadata": {
    "application/vnd.databricks.v1+cell": {
     "cellMetadata": {},
     "inputWidgets": {},
     "nuid": "cd6d077a-214b-4789-99f7-6fa6b4aa25df",
     "showTitle": false,
     "title": ""
    }
   },
   "outputs": [
    {
     "data": {
      "image/png": "[encoded data removed]",
      "text/plain": [
       "<Figure size 864x432 with 2 Axes>"
      ]
     },
     "metadata": {
      "application/vnd.databricks.v1+output": {
       "addedWidgets": {},
       "arguments": {},
       "data": {
        "image/png": "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\n",
        "text/plain": [
         "<Figure size 864x432 with 2 Axes>"
        ]
       },
       "datasetInfos": [],
       "executionCount": null,
       "metadata": {
        "needs_background": "light"
       },
       "removedWidgets": [],
       "type": "mimeBundle"
      }
     },
     "output_type": "display_data"
    }
   ],
   "source": [
    "# Feature importance\n",
    "importances = model_xgb.feature_importances_\n",
    "\n",
    "## Put in a pandas dtf\n",
    "df_importances = pd.DataFrame({\"IMPORTANCE\":importances, \"VARIABLE\":X_cols}).sort_values(\"IMPORTANCE\", ascending=False)\n",
    "df_importances['cumsum'] = df_importances['IMPORTANCE'].cumsum(axis=0)\n",
    "df_importances = df_importances.set_index(\"VARIABLE\")\n",
    "    \n",
    "## Plot\n",
    "fig, ax = plt.subplots(nrows=1, ncols=2, sharex=False, sharey=False, figsize=(12,6))\n",
    "fig.suptitle(\"Features Importance\", fontsize=20)\n",
    "\n",
    "# First graph: variables\n",
    "ax[0].title.set_text('variables')\n",
    "df_importances[[\"IMPORTANCE\"]].sort_values(by=\"IMPORTANCE\").plot(kind=\"barh\", legend=False, ax=ax[0])\n",
    "ax[0].set(ylabel=\"\")\n",
    "ax[0].grid(axis='x')\n",
    "\n",
    "# Second graph: cumulative\n",
    "ax[1].title.set_text('cumulative')\n",
    "df_importances[[\"cumsum\"]].plot(kind=\"line\", linewidth=4, legend=False, ax=ax[1])\n",
    "ax[1].set(xlabel=\"\", xticks=np.arange(len(df_importances)), xticklabels=df_importances.index)\n",
    "plt.xticks(rotation=60)\n",
    "ax[1].grid(axis='both')\n",
    "\n",
    "plt.show()"
   ]
  },
  {
   "cell_type": "markdown",
   "metadata": {
    "application/vnd.databricks.v1+cell": {
     "cellMetadata": {},
     "inputWidgets": {},
     "nuid": "013cb2e8-5223-47d8-a39f-a4f7353bc99e",
     "showTitle": false,
     "title": ""
    }
   },
   "source": [
    "### MODEL 8: Artificial Neural Network"
   ]
  },
  {
   "cell_type": "code",
   "execution_count": null,
   "metadata": {
    "application/vnd.databricks.v1+cell": {
     "cellMetadata": {
      "byteLimit": 2048000,
      "rowLimit": 10000
     },
     "inputWidgets": {},
     "nuid": "df4e1429-8064-4327-af63-3652c78d2b7d",
     "showTitle": false,
     "title": ""
    }
   },
   "outputs": [],
   "source": [
    "model_ann = tf.keras.models.Sequential() # Initialize ANN\n",
    "model_ann.add(tf.keras.layers.Dense(units=4, activation='relu')) # Add input layer & the first hidden layers\n",
    "model_ann.add(tf.keras.layers.Dense(units=4, activation='relu')) # Add the second hidden layers\n",
    "model_ann.add(tf.keras.layers.Dense(units=1, activation='sigmoid')) # Add output layer\n",
    "model_ann.compile(optimizer = 'adam', loss = 'binary_crossentropy', metrics = ['Recall']) # compile the ANN"
   ]
  },
  {
   "cell_type": "code",
   "execution_count": null,
   "metadata": {
    "application/vnd.databricks.v1+cell": {
     "cellMetadata": {
      "byteLimit": 2048000,
      "rowLimit": 10000
     },
     "inputWidgets": {},
     "nuid": "0fad4081-f536-499b-abe3-e027b112a1a0",
     "showTitle": false,
     "title": ""
    }
   },
   "outputs": [
    {
     "name": "stdout",
     "output_type": "stream",
     "text": [
      "Epoch 1/30\n",
      "1200/1200 [==============================] - 2s 1ms/step - loss: 0.3018 - recall: 0.7218\n",
      "Epoch 2/30\n",
      "1200/1200 [==============================] - 2s 1ms/step - loss: 0.1907 - recall: 0.8263\n",
      "Epoch 3/30\n",
      "1200/1200 [==============================] - 2s 1ms/step - loss: 0.1694 - recall: 0.8600\n",
      "Epoch 4/30\n",
      "1200/1200 [==============================] - 2s 1ms/step - loss: 0.1626 - recall: 0.8822\n",
      "Epoch 5/30\n",
      " 864/1200 [====================>.........] - ETA: 0s - loss: 0.1610 - recall: 0.89\n",
      "\n",
      "*** WARNING: max output size exceeded, skipping output. ***\n",
      "\n",
      "1200/1200 [==============================] - 2s 1ms/step - loss: 0.1470 - recall: 0.9115\n",
      "Epoch 27/30\n",
      "1200/1200 [==============================] - 2s 1ms/step - loss: 0.1467 - recall: 0.9123\n",
      "Epoch 28/30\n",
      "1200/1200 [==============================] - 2s 2ms/step - loss: 0.1464 - recall: 0.9128\n",
      "Epoch 29/30\n",
      "1200/1200 [==============================] - 2s 1ms/step - loss: 0.1463 - recall: 0.9123\n",
      "Epoch 30/30\n",
      "1200/1200 [==============================] - 2s 1ms/step - loss: 0.1464 - recall: 0.9128\n",
      "1/1 [==============================] - 0s 71ms/step\n",
      "WARNING:absl:Found untraced functions such as _update_step_xla while saving (showing 1 of 1). These functions will not be directly callable after loading.\n",
      "Out[41]: <keras.callbacks.History at 0x7faca43dd820>"
     ]
    }
   ],
   "source": [
    "model_ann.fit(X_train, y_train, batch_size = 100, epochs = 30)"
   ]
  },
  {
   "cell_type": "code",
   "execution_count": null,
   "metadata": {
    "application/vnd.databricks.v1+cell": {
     "cellMetadata": {
      "byteLimit": 2048000,
      "rowLimit": 10000
     },
     "inputWidgets": {},
     "nuid": "bea7f0a5-591c-402d-8eef-e6677624b992",
     "showTitle": false,
     "title": ""
    }
   },
   "outputs": [
    {
     "name": "stdout",
     "output_type": "stream",
     "text": [
      "750/750 [==============================] - 1s 1ms/step\n",
      "750/750 [==============================] - 1s 1ms/step\n",
      "750/750 [==============================] - 1s 1ms/step\n",
      "750/750 [==============================] - 1s 986us/step\n",
      "750/750 [==============================] - 1s 995us/step\n",
      "Model metrics on Training dataset:\n",
      "\n",
      "Accuracy: 0.95\n",
      "Precision: 0.90\n",
      "Recall: 0.91\n",
      "F1: 0.91\n"
     ]
    }
   ],
   "source": [
    "## K-fold validation on Training dataset\n",
    "accuracy_kf = []\n",
    "precision_kf = []\n",
    "recall_kf = []\n",
    "f1_kf = []\n",
    "\n",
    "cv = model_selection.KFold(n_splits=5, shuffle=True)\n",
    "\n",
    "i = 1\n",
    "for train, test in cv.split(X_train, y_train):\n",
    "    prediction = model_ann.predict(X_train[test])\n",
    "    prediction = (prediction > 0.5)\n",
    "    true = y_train[test]\n",
    "    accuracy_kf.append(accuracy_score(true, prediction))\n",
    "    precision_kf.append(precision_score(true, prediction))\n",
    "    recall_kf.append(recall_score(true, prediction))\n",
    "    f1_kf.append(f1_score(true, prediction))\n",
    "\n",
    "print('Model metrics on Training dataset:\\n')\n",
    "print('Accuracy: %0.2f' % mean(accuracy_kf))\n",
    "print('Precision: %0.2f' % mean(precision_kf))\n",
    "print('Recall: %0.2f' % mean(recall_kf))\n",
    "print('F1: %0.2f' % mean(f1_kf))"
   ]
  },
  {
   "cell_type": "code",
   "execution_count": null,
   "metadata": {
    "application/vnd.databricks.v1+cell": {
     "cellMetadata": {
      "byteLimit": 2048000,
      "rowLimit": 10000
     },
     "inputWidgets": {},
     "nuid": "8290460d-5737-4dc7-8d8f-cfb7f79eeff1",
     "showTitle": false,
     "title": ""
    }
   },
   "outputs": [
    {
     "name": "stdout",
     "output_type": "stream",
     "text": [
      "188/188 [==============================] - 0s 932us/step\n",
      "188/188 [==============================] - 0s 962us/step\n",
      "188/188 [==============================] - 0s 961us/step\n",
      "188/188 [==============================] - 0s 986us/step\n",
      "188/188 [==============================] - 0s 912us/step\n",
      "Model metrics on Test dataset:\n",
      "\n",
      "Accuracy: 0.96\n",
      "Precision: 0.90\n",
      "Recall: 0.92\n",
      "F1: 0.91\n"
     ]
    }
   ],
   "source": [
    "## K-fold validation on Test dataset\n",
    "accuracy_kf = []\n",
    "precision_kf = []\n",
    "recall_kf = []\n",
    "f1_kf = []\n",
    "\n",
    "cv = model_selection.KFold(n_splits=5, shuffle=True)\n",
    "\n",
    "i = 1\n",
    "for train, test in cv.split(X_test, y_test):\n",
    "    prediction = model_ann.predict(X_test[test])\n",
    "    prediction = (prediction > 0.5)\n",
    "    true = y_test[test]\n",
    "    accuracy_kf.append(accuracy_score(true, prediction))\n",
    "    precision_kf.append(precision_score(true, prediction))\n",
    "    recall_kf.append(recall_score(true, prediction))\n",
    "    f1_kf.append(f1_score(true, prediction))\n",
    "\n",
    "print('Model metrics on Test dataset:\\n')\n",
    "print('Accuracy: %0.2f' % mean(accuracy_kf))\n",
    "print('Precision: %0.2f' % mean(precision_kf))\n",
    "print('Recall: %0.2f' % mean(recall_kf))\n",
    "print('F1: %0.2f' % mean(f1_kf))"
   ]
  }
 ],
 "metadata": {
  "application/vnd.databricks.v1+notebook": {
   "dashboards": [],
   "language": "python",
   "notebookMetadata": {
    "pythonIndentUnit": 4
   },
   "notebookName": "AF_Preprocessed_02_Modeling_original",
   "notebookOrigID": 4371410236611709,
   "widgets": {}
  },
  "kernelspec": {
   "display_name": "Python 3 (ipykernel)",
   "language": "python",
   "name": "python3"
  },
  "language_info": {
   "codemirror_mode": {
    "name": "ipython",
    "version": 3
   },
   "file_extension": ".py",
   "mimetype": "text/x-python",
   "name": "python",
   "nbconvert_exporter": "python",
   "pygments_lexer": "ipython3",
   "version": "3.8.12"
  }
 },
 "nbformat": 4,
 "nbformat_minor": 4
}
